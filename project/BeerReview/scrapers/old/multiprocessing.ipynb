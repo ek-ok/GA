{
 "metadata": {
  "name": "",
  "signature": "sha256:f57003ca7dc045261003a4e73357f648da75b1e513f5b3a70b9a567a09f6aac9"
 },
 "nbformat": 3,
 "nbformat_minor": 0,
 "worksheets": [
  {
   "cells": [
    {
     "cell_type": "code",
     "collapsed": false,
     "input": [
      "import gevent\n",
      "from gevent import monkey\n",
      "import urllib2"
     ],
     "language": "python",
     "metadata": {},
     "outputs": [],
     "prompt_number": 14
    },
    {
     "cell_type": "code",
     "collapsed": false,
     "input": [
      "urls = ['http://www.google.com', 'http://www.yandex.ru', 'http://www.python.org']\n",
      "\n",
      "# patches stdlib (including socket and ssl modules) to cooperate with other greenlets\n",
      "monkey.patch_all()\n",
      "\n",
      "def print_head(url):\n",
      "    print ('Starting %s' % url)\n",
      "    data = urllib2.urlopen(url).read()\n",
      "    print ('%s: %s bytes: %r' % (url, len(data), data[:50]))\n",
      "\n",
      "jobs = [gevent.spawn(print_head, url) for url in urls]\n",
      "\n",
      "gevent.joinall(jobs)"
     ],
     "language": "python",
     "metadata": {},
     "outputs": [],
     "prompt_number": 15
    },
    {
     "cell_type": "code",
     "collapsed": false,
     "input": [
      "urls = [\n",
      "    'http://python-history-jp.blogspot.com/',               # UTF-8\n",
      "    'http://iblinux.rios.co.jp/PyJdoc/lib-j/',              # EUC-JP\n",
      "    'http://osksn2.hep.sci.osaka-u.ac.jp/~taku/osx/python/encoding.html', # ISO-2022-JP\n",
      "    'http://www.atmarkit.co.jp/news/200812/04/python.html', # Shift_JIS\n",
      "    'http://pyunit.sourceforge.net/pyunit_ja.html',         # EUC-JP, w/o META\n",
      "    'http://www.f7.ems.okayama-u.ac.jp/~yan/python/',       # ISO-2022-JP, w/o META\n",
      "    'http://weyk.com/weyk/etc/OpenRPG.html', # Shift_JIS, w/o META\n",
      "    ]\n",
      "\n",
      "import gevent\n",
      "from gevent import monkey\n",
      "monkey.patch_all() # \u8af8\u3005\u306e\u6a19\u6e96\u30e9\u30a4\u30d6\u30e9\u30ea\u306b\u30d1\u30c3\u30c1\u3092\u5f53\u3066\u308b\n",
      "\n",
      "import urllib\n",
      "import chardet\n",
      "from pyquery import PyQuery as pq\n",
      "\n",
      "def find_hyperlinks(url): # spawn\u3055\u305b\u305f\u3044\u95a2\u6570\n",
      "    data = ''.join(urllib.urlopen(url).readlines())\n",
      "    guess = chardet.detect(data)\n",
      "    p = dict(url=url,data=data,**guess)\n",
      "\n",
      "    print '***** %s -> %s (%s)' % (p['url'], p['encoding'], p['confidence'])\n",
      "\n",
      "    p['data'] = p['data'].decode(p['encoding'])\n",
      "    d = pq(p['data'])\n",
      "    page_title = pq(d.find('title')).text()\n",
      "\n",
      "    def extract_hyperlink(page_title, link): # \u95a2\u6570\u5185\u3067\u3055\u3089\u306bspawn\u3055\u305b\u308b\u305f\u3081\u306b\u5185\u90e8\u3067\u5ba3\u8a00\n",
      "        link_title = pq(link).text()\n",
      "        link_url = pq(link).attr.href\n",
      "        print '(%s) : %s => %s' % (page_title, link_title, link_url)\n",
      "\n",
      "    jobs = [gevent.spawn(extract_hyperlink, page_title, link) \n",
      "            for link in pq(d.find('a'))]\n",
      "    gevent.joinall(jobs)\n",
      "\n",
      "if __name__ == '__main__':\n",
      "    jobs = [gevent.spawn(find_hyperlinks, url) for url in urls]\n",
      "\n",
      "    \n",
      "    decoded = gevent.joinall(jobs)"
     ],
     "language": "python",
     "metadata": {},
     "outputs": [
      {
       "ename": "ImportError",
       "evalue": "No module named chardet",
       "output_type": "pyerr",
       "traceback": [
        "\u001b[0;31m---------------------------------------------------------------------------\u001b[0m\n\u001b[0;31mImportError\u001b[0m                               Traceback (most recent call last)",
        "\u001b[0;32m<ipython-input-5-5bda5736a444>\u001b[0m in \u001b[0;36m<module>\u001b[0;34m()\u001b[0m\n\u001b[1;32m     14\u001b[0m \u001b[0;34m\u001b[0m\u001b[0m\n\u001b[1;32m     15\u001b[0m \u001b[0;32mimport\u001b[0m \u001b[0murllib\u001b[0m\u001b[0;34m\u001b[0m\u001b[0m\n\u001b[0;32m---> 16\u001b[0;31m \u001b[0;32mimport\u001b[0m \u001b[0mchardet\u001b[0m\u001b[0;34m\u001b[0m\u001b[0m\n\u001b[0m\u001b[1;32m     17\u001b[0m \u001b[0;32mfrom\u001b[0m \u001b[0mpyquery\u001b[0m \u001b[0;32mimport\u001b[0m \u001b[0mPyQuery\u001b[0m \u001b[0;32mas\u001b[0m \u001b[0mpq\u001b[0m\u001b[0;34m\u001b[0m\u001b[0m\n\u001b[1;32m     18\u001b[0m \u001b[0;34m\u001b[0m\u001b[0m\n",
        "\u001b[0;31mImportError\u001b[0m: No module named chardet"
       ]
      }
     ],
     "prompt_number": 5
    },
    {
     "cell_type": "code",
     "collapsed": false,
     "input": [
      "import multiprocessing\n",
      "import urllib2\n",
      "from BeautifulSoup import BeautifulSoup\n",
      "\n",
      "urls = [\n",
      "    r'https://www.python.org/',               # UTF-8\n",
      "    r'http://ipython.org/',              # EUC-JP\n",
      "    r'https://bitbucket.org/'\n",
      "    ]\n",
      "\n",
      "def get_hrefs(url):\n",
      "    \n",
      "    print url\n",
      "    \n",
      "    page_urls = []\n",
      "    \n",
      "    request = urllib2.Request(url)\n",
      "    response = urllib2.urlopen(request)\n",
      "    soup = BeautifulSoup(response)\n",
      "\n",
      "    for a in soup.findAll('a'):\n",
      "        page_urls.append(a['href'])\n",
      "    \n",
      "    return page_urls"
     ],
     "language": "python",
     "metadata": {},
     "outputs": [],
     "prompt_number": 37
    },
    {
     "cell_type": "code",
     "collapsed": false,
     "input": [
      "    pool = multiprocessing.Pool(processes=4)            \n",
      "    result = [pool.apply_async(get_hrefs(i)) for i in urls]\n",
      "    print [i.get() for i in result]"
     ],
     "language": "python",
     "metadata": {},
     "outputs": [
      {
       "output_type": "stream",
       "stream": "stdout",
       "text": [
        "https://www.python.org/\n",
        "http://ipython.org/"
       ]
      },
      {
       "output_type": "stream",
       "stream": "stdout",
       "text": [
        "\n",
        "https://bitbucket.org/"
       ]
      },
      {
       "output_type": "stream",
       "stream": "stdout",
       "text": [
        "\n"
       ]
      },
      {
       "ename": "TypeError",
       "evalue": "'list' object is not callable",
       "output_type": "pyerr",
       "traceback": [
        "\u001b[0;31m---------------------------------------------------------------------------\u001b[0m\n\u001b[0;31mTypeError\u001b[0m                                 Traceback (most recent call last)",
        "\u001b[0;32m<ipython-input-38-49eadff29ac0>\u001b[0m in \u001b[0;36m<module>\u001b[0;34m()\u001b[0m\n\u001b[1;32m      1\u001b[0m \u001b[0mpool\u001b[0m \u001b[0;34m=\u001b[0m \u001b[0mmultiprocessing\u001b[0m\u001b[0;34m.\u001b[0m\u001b[0mPool\u001b[0m\u001b[0;34m(\u001b[0m\u001b[0mprocesses\u001b[0m\u001b[0;34m=\u001b[0m\u001b[0;36m4\u001b[0m\u001b[0;34m)\u001b[0m\u001b[0;34m\u001b[0m\u001b[0m\n\u001b[1;32m      2\u001b[0m \u001b[0mresult\u001b[0m \u001b[0;34m=\u001b[0m \u001b[0;34m[\u001b[0m\u001b[0mpool\u001b[0m\u001b[0;34m.\u001b[0m\u001b[0mapply_async\u001b[0m\u001b[0;34m(\u001b[0m\u001b[0mget_hrefs\u001b[0m\u001b[0;34m(\u001b[0m\u001b[0mi\u001b[0m\u001b[0;34m)\u001b[0m\u001b[0;34m)\u001b[0m \u001b[0;32mfor\u001b[0m \u001b[0mi\u001b[0m \u001b[0;32min\u001b[0m \u001b[0murls\u001b[0m\u001b[0;34m]\u001b[0m\u001b[0;34m\u001b[0m\u001b[0m\n\u001b[0;32m----> 3\u001b[0;31m \u001b[0;32mprint\u001b[0m \u001b[0;34m[\u001b[0m\u001b[0mi\u001b[0m\u001b[0;34m.\u001b[0m\u001b[0mget\u001b[0m\u001b[0;34m(\u001b[0m\u001b[0;34m)\u001b[0m \u001b[0;32mfor\u001b[0m \u001b[0mi\u001b[0m \u001b[0;32min\u001b[0m \u001b[0mresult\u001b[0m\u001b[0;34m]\u001b[0m\u001b[0;34m\u001b[0m\u001b[0m\n\u001b[0m",
        "\u001b[0;32m/Users/Ikkei/anaconda/lib/python2.7/multiprocessing/pool.pyc\u001b[0m in \u001b[0;36mget\u001b[0;34m(self, timeout)\u001b[0m\n\u001b[1;32m    556\u001b[0m             \u001b[0;32mreturn\u001b[0m \u001b[0mself\u001b[0m\u001b[0;34m.\u001b[0m\u001b[0m_value\u001b[0m\u001b[0;34m\u001b[0m\u001b[0m\n\u001b[1;32m    557\u001b[0m         \u001b[0;32melse\u001b[0m\u001b[0;34m:\u001b[0m\u001b[0;34m\u001b[0m\u001b[0m\n\u001b[0;32m--> 558\u001b[0;31m             \u001b[0;32mraise\u001b[0m \u001b[0mself\u001b[0m\u001b[0;34m.\u001b[0m\u001b[0m_value\u001b[0m\u001b[0;34m\u001b[0m\u001b[0m\n\u001b[0m\u001b[1;32m    559\u001b[0m \u001b[0;34m\u001b[0m\u001b[0m\n\u001b[1;32m    560\u001b[0m     \u001b[0;32mdef\u001b[0m \u001b[0m_set\u001b[0m\u001b[0;34m(\u001b[0m\u001b[0mself\u001b[0m\u001b[0;34m,\u001b[0m \u001b[0mi\u001b[0m\u001b[0;34m,\u001b[0m \u001b[0mobj\u001b[0m\u001b[0;34m)\u001b[0m\u001b[0;34m:\u001b[0m\u001b[0;34m\u001b[0m\u001b[0m\n",
        "\u001b[0;31mTypeError\u001b[0m: 'list' object is not callable"
       ]
      }
     ],
     "prompt_number": 38
    },
    {
     "cell_type": "code",
     "collapsed": false,
     "input": [],
     "language": "python",
     "metadata": {},
     "outputs": []
    },
    {
     "cell_type": "code",
     "collapsed": false,
     "input": [],
     "language": "python",
     "metadata": {},
     "outputs": []
    }
   ],
   "metadata": {}
  }
 ]
}