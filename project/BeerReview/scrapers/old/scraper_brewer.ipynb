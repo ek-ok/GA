{
 "metadata": {
  "name": "",
  "signature": "sha256:88aa0cc95aa4342cc0320c05d0b5d320767436a2643525dab753c2068e887ca5"
 },
 "nbformat": 3,
 "nbformat_minor": 0,
 "worksheets": [
  {
   "cells": [
    {
     "cell_type": "code",
     "collapsed": false,
     "input": [
      "import urllib2\n",
      "from BeautifulSoup import BeautifulSoup\n",
      "import re\n",
      "import pickle\n",
      "import multiprocessing\n",
      "import unicodecsv\n",
      "import codecs "
     ],
     "language": "python",
     "metadata": {},
     "outputs": [],
     "prompt_number": 34
    },
    {
     "cell_type": "code",
     "collapsed": false,
     "input": [
      "ratebeer_url = r'http://www.ratebeer.com'"
     ],
     "language": "python",
     "metadata": {},
     "outputs": [],
     "prompt_number": 195
    },
    {
     "cell_type": "code",
     "collapsed": false,
     "input": [
      "def get_soup(url):\n",
      "    request = urllib2.Request(url)\n",
      "    response = urllib2.urlopen(request)\n",
      "    soup = BeautifulSoup(response)\n",
      "    return soup"
     ],
     "language": "python",
     "metadata": {},
     "outputs": [],
     "prompt_number": 196
    },
    {
     "cell_type": "markdown",
     "metadata": {},
     "source": [
      "#Scrape brewers"
     ]
    },
    {
     "cell_type": "code",
     "collapsed": false,
     "input": [
      "choices = ['0-9', 'A', 'B', 'C', 'D', 'E', 'F', 'G', 'H', 'I', 'J', 'K', 'L', \n",
      "       'M', 'N', 'O', 'P', 'Q', 'R', 'S', 'T', 'U', 'V', 'W', 'X', 'Y', 'Z']\n",
      "\n",
      "brewers = {}\n",
      "\n",
      "for c in choices:\n",
      "    browse_brewers_url = ratebeer_url + r'/browsebrewers-%s.htm' % (c)\n",
      "    soup = get_soup(browse_brewers_url)\n",
      "\n",
      "    regex = re.compile(r'/brewers/.*?/[0-9]{3,6}/')\n",
      "\n",
      "    for a in soup.findAll('a', href=regex):\n",
      "        brewer_id = a['href'].split('/')[3]\n",
      "\n",
      "        brewers[brewer_id] = {'url': a['href'],\n",
      "                              'name': a.getText()}"
     ],
     "language": "python",
     "metadata": {},
     "outputs": [],
     "prompt_number": 5
    },
    {
     "cell_type": "code",
     "collapsed": false,
     "input": [
      "f = open('brewers_initial.pickle', 'w')\n",
      "pickle.dump(brewers, f)"
     ],
     "language": "python",
     "metadata": {},
     "outputs": [],
     "prompt_number": 111
    },
    {
     "cell_type": "markdown",
     "metadata": {},
     "source": [
      "#Get more details about brewers and beers"
     ]
    },
    {
     "cell_type": "code",
     "collapsed": false,
     "input": [
      "def get_brewer_info_beers(brewer_id, brewer_url):\n",
      "    brewer_info = []\n",
      "    beer_info =[]\n",
      "    \n",
      "    soup = get_soup(ratebeer_url + brewer_url)\n",
      "    \n",
      "    # get address\n",
      "    address_items = ['streetAddress', 'addressLocality', 'addressRegion', 'addressCountry', 'postalCode', 'telephone']\n",
      "    for item in address_items:\n",
      "\n",
      "        itemprop_tag = soup.find('span', {'itemprop': item})\n",
      "        if itemprop_tag is None:\n",
      "            item_txt = ''\n",
      "        else:\n",
      "            item_txt = itemprop_tag.getText()\n",
      "\n",
      "        brewer_info.append(item_txt)\n",
      "\n",
      "    # get img\n",
      "    for img in soup.findAll('img'):\n",
      "        alt = img.get('alt')\n",
      "        if alt is not None and alt!='RateBeer':\n",
      "            brewer_info.append(img.get('src'))\n",
      "\n",
      "    # get type\n",
      "    try:\n",
      "        brewer_info.append(soup.findAll('spen', text=re.compile('Type:'))[0].strip().strip('Type: '))\n",
      "    except:\n",
      "        brewer_info.append('')\n",
      "    \n",
      "    # get wbsite\n",
      "    for a in soup.findAll('a', {'target': '_blank'}):\n",
      "        if 'facebook' not in a['href']:\n",
      "            if 'twitter' not in a['href']:\n",
      "                if r'.' in a.getText():\n",
      "                    brewer_info.append(a['href'])\n",
      "    \n",
      "    # get pages\n",
      "    page_urls = set()\n",
      "    for a in soup.findAll('p', {'class': 'pagination'}):    \n",
      "        for aa in a.findAll('a'):\n",
      "            page_urls.add(aa['href'])\n",
      "    if len(page_urls) == 0:\n",
      "        page_urls = [brewer_url]\n",
      "\n",
      "    # Loop through pages for beers\n",
      "    beers_tmp = {}\n",
      "    regex = re.compile(r'/beer/.*?/[0-9]{3,8}/')\n",
      "\n",
      "    for page_url in page_urls:\n",
      "        \n",
      "        soup = get_soup(ratebeer_url + page_url)\n",
      "        for a in soup.findAll('a', href=regex):            \n",
      "            beer_url = a['href']\n",
      "            \n",
      "            if beer_url[:11] != r'/beer/rate/':\n",
      "                beer_id = beer_url.split(r'/')[3]\n",
      "                beer_info.append([brewer_id, beer_id, beer_url])\n",
      "        \n",
      "    return brewer_info, beer_info"
     ],
     "language": "python",
     "metadata": {},
     "outputs": [],
     "prompt_number": 86
    },
    {
     "cell_type": "code",
     "collapsed": false,
     "input": [
      "#Write into files brewer by brewer\n",
      "with codecs.open('brewers.txt', 'w', encoding=\"utf-8\") as w_brewer, codecs.open('beers.txt', 'w', encoding=\"utf-8\") as w_beer:\n",
      "    for brewer_id in brewers:\n",
      "        try:\n",
      "            brewer_info, beer_info = get_brewer_info_beers(brewer_id, brewers[brewer_id]['url'])\n",
      "\n",
      "            brewer_info = [info.encode('ascii', 'ignore').decode('ascii') for info in brewer_info]\n",
      "            brewer_name = brewers[brewer_id]['name'].encode('ascii', 'ignore').decode('ascii')\n",
      "\n",
      "            w_brewer.write('\\t'.join([brewer_id, brewer_name] + brewer_info) + '\\n')\n",
      "\n",
      "            for b in beer_info:\n",
      "                w_beer.write('\\t'.join(map(str, b)) + '\\n')\n",
      "        except Exception, e:\n",
      "            print brewer_id\n",
      "            print e\n",
      "            print"
     ],
     "language": "python",
     "metadata": {},
     "outputs": [
      {
       "output_type": "stream",
       "stream": "stdout",
       "text": [
        "1343\n",
        "unichr() arg not in range(0x10000) (narrow Python build)\n",
        "\n",
        "18448"
       ]
      },
      {
       "output_type": "stream",
       "stream": "stdout",
       "text": [
        "\n",
        "HTTP Error 404: Not Found\n",
        "\n",
        "12200"
       ]
      },
      {
       "output_type": "stream",
       "stream": "stdout",
       "text": [
        "\n",
        "HTTP Error 500: Internal Server Error\n",
        "\n"
       ]
      }
     ],
     "prompt_number": 88
    },
    {
     "cell_type": "markdown",
     "metadata": {},
     "source": [
      "#Failed brewers\n",
      "- 1343  => bad HTML\n",
      "- 18448 => HTML does not exist\n",
      "- 12200 => scraped separately and added to the lists"
     ]
    },
    {
     "cell_type": "code",
     "collapsed": false,
     "input": [
      "# Just for beer_id: 12200\n",
      "with codecs.open('brewers.txt', 'a', encoding=\"utf-8\") as w_brewer, codecs.open('beers.txt', 'a', encoding=\"utf-8\") as w_beer:\n",
      "    brewer_id = '12200'\n",
      "    \n",
      "\n",
      "    brewer_info, beer_info = get_brewer_info_beers(brewer_id, brewers[brewer_id]['url'])\n",
      "\n",
      "    brewer_info = [info.encode('ascii', 'ignore').decode('ascii') for info in brewer_info]\n",
      "    brewer_name = brewers[brewer_id]['name'].encode('ascii', 'ignore').decode('ascii')\n",
      "\n",
      "    w_brewer.write('\\t'.join([brewer_id, brewer_name] + brewer_info) + '\\n')\n",
      "\n",
      "    for b in beer_info:\n",
      "        w_beer.write('\\t'.join(map(str, b)) + '\\n')\n"
     ],
     "language": "python",
     "metadata": {},
     "outputs": [],
     "prompt_number": 90
    },
    {
     "cell_type": "code",
     "collapsed": false,
     "input": [],
     "language": "python",
     "metadata": {},
     "outputs": []
    }
   ],
   "metadata": {}
  }
 ]
}