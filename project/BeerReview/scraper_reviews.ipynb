{
 "metadata": {
  "name": "",
  "signature": "sha256:8900fc74ff62504c380466b8e81f300ecf3fb805677178560e271b9b964c6ec6"
 },
 "nbformat": 3,
 "nbformat_minor": 0,
 "worksheets": [
  {
   "cells": [
    {
     "cell_type": "code",
     "collapsed": false,
     "input": [
      "import urllib2\n",
      "from BeautifulSoup import BeautifulSoup\n",
      "import re\n",
      "# import pickle\n",
      "# import multiprocessing\n",
      "# import unicodecsv\n",
      "# import codecs "
     ],
     "language": "python",
     "metadata": {},
     "outputs": [],
     "prompt_number": 1
    },
    {
     "cell_type": "code",
     "collapsed": false,
     "input": [
      "ratebeer_url = r'http://www.ratebeer.com'"
     ],
     "language": "python",
     "metadata": {},
     "outputs": [],
     "prompt_number": 2
    },
    {
     "cell_type": "code",
     "collapsed": false,
     "input": [
      "def get_soup(url):\n",
      "    request = urllib2.Request(url)\n",
      "    response = urllib2.urlopen(request)\n",
      "    soup = BeautifulSoup(response)\n",
      "    return soup"
     ],
     "language": "python",
     "metadata": {},
     "outputs": [],
     "prompt_number": 3
    },
    {
     "cell_type": "code",
     "collapsed": false,
     "input": [
      "f = open('beers.txt', 'r')\n",
      "beers = [line.strip().split('\\t') for line in f.readlines()]"
     ],
     "language": "python",
     "metadata": {},
     "outputs": [],
     "prompt_number": 4
    },
    {
     "cell_type": "code",
     "collapsed": false,
     "input": [
      "beers[:5]"
     ],
     "language": "python",
     "metadata": {},
     "outputs": [
      {
       "metadata": {},
       "output_type": "pyout",
       "prompt_number": 5,
       "text": [
        "[['13357', '192012', '/beer/mystery-white-tiger/192012/'],\n",
        " ['13357', '270656', '/beer/mystery-wisping-rune/270656/'],\n",
        " ['13357', '179317', '/beer/mystery-adamanthea/179317/'],\n",
        " ['13357', '301630', '/beer/mystery-admiration/301630/'],\n",
        " ['13357', '309313', '/beer/mystery-alexandre/309313/']]"
       ]
      }
     ],
     "prompt_number": 5
    },
    {
     "cell_type": "code",
     "collapsed": false,
     "input": [
      "def get_beer_info(soup):\n",
      "    beer_info = []\n",
      "    \n",
      "    # get type\n",
      "    regex = re.compile(r'/beerstyles/.*?/[0-9]{1,5}/')\n",
      "    style = soup.find('a', href=regex)\n",
      "    if style is None:\n",
      "        style = ''\n",
      "    else:\n",
      "        style = style['href']    \n",
      "    beer_info.append(style)\n",
      "    \n",
      "    # get bottle type\n",
      "    bottle_type = soup.find('a', {'rel': 'modal:open'})\n",
      "    if bottle_type is None:\n",
      "        bottle_type = ''\n",
      "    else:\n",
      "        bottle_type = bottle_type.getText()\n",
      "    beer_info.append(bottle_type)\n",
      "    \n",
      "    # get RATINGS, WEIGHTED AVG, EST. CALORIES, ABV\n",
      "    for rating in soup.findAll('big', {'style': 'color: #777;'}):\n",
      "        beer_info.append(rating.getText().strip())\n",
      "    \n",
      "    # get desc\n",
      "    des = soup.find('div', {'style': 'border: 1px solid #e0e0e0; background: #fff; padding: 14px; color: #777;'})\n",
      "    beer_info.append(des.getText().strip('COMMERCIAL DESCRIPTION'))\n",
      "    \n",
      "    # get img\n",
      "    img = soup.find('img', {'class': 'curvy'})\n",
      "    beer_info.append(img['src'])\n",
      "    \n",
      "#     print beer_info\n",
      "    \n",
      "    # get max page num\n",
      "    max_page = 0\n",
      "    for page in soup.findAll('a', {'class': 'ballno'}):\n",
      "        page_tmp = int(page.getText())\n",
      "        if page_tmp > max_page:\n",
      "            max_page = page_tmp\n",
      "    \n",
      "    return beer_info, max_page"
     ],
     "language": "python",
     "metadata": {},
     "outputs": [],
     "prompt_number": 12
    },
    {
     "cell_type": "code",
     "collapsed": false,
     "input": [
      "def get_beer_info_and_reviews(brewer_id, beer_id, beer_url):\n",
      "    soup = get_soup(ratebeer_url + beer_url)\n",
      "    \n",
      "    # get basic beer info\n",
      "    beer_info, max_page = get_beer_info(soup)\n",
      "    beer_info = [beer_id, brewer_id] + beer_info\n",
      "    \n",
      "    # get reviews\n",
      "    # devide reviews in to chunks and loop through each one of them\n",
      "    \n",
      "    beer_reviews =[beer_id, brewer_id]\n",
      "    \n",
      "    for table in soup.findAll('table', attrs={'style':'padding: 10px;'}):\n",
      "        print table\n",
      "    \n",
      "        print '---------------------------------------------------'\n",
      "        print\n",
      "                    \n",
      "        score_bold = table.find('div', {'style': 'display:inline; padding: 0px 0px; font-size: 24px; font-weight: bold; color: #036;'}).getText()\n",
      "        beer_reviews.append(score_bold)\n",
      "        print score_bold\n",
      "        \n",
      "        \n",
      "        # AROMA, APPEARANCE, TASTE, PALATE, OVERALL\n",
      "        score_detail_tmp = []\n",
      "        for score_detail in table.findAll('big', {'style': 'color: #999;'}):\n",
      "            score = score_detail.getText().split(r'/')[0]\n",
      "            score_detail_tmp.append(score)                                    \n",
      "            print score\n",
      "            \n",
      "        print"
     ],
     "language": "python",
     "metadata": {},
     "outputs": [],
     "prompt_number": 13
    },
    {
     "cell_type": "code",
     "collapsed": false,
     "input": [
      "for brewer_id, beer_id, beer_url in beers[2099:2100]:\n",
      "    print brewer_id, beer_id, beer_url\n",
      "    print\n",
      "    \n",
      "    get_beer_info_and_reviews(brewer_id, beer_id, beer_url)\n",
      "    "
     ],
     "language": "python",
     "metadata": {},
     "outputs": [
      {
       "output_type": "stream",
       "stream": "stdout",
       "text": [
        "623 4934 /beer/westvleteren-12-xii/4934/\n",
        "\n",
        "<table cellpadding=\"0\" cellspacing=\"0\" border=\"0\" style=\"padding: 10px;\"><tr><td><div style=\"padding: 0px 0px 0px 0px;\"><div style=\"width: 60px; float: left; padding-right: 10px;\"><img style=\"max-width: 60px; max-height: 60px; height: auto; width: auto;\" width=\"60\" src=\"http://res.cloudinary.com/ratebeer/image/upload/w_50,c_limit,q_80,d_user_def.gif/user_Ddub13.jpg\" class=\"curvy\" /></div><div style=\"display:inline; padding: 0px 0px; font-size: 24px; font-weight: bold; color: #036;\" title=\"4.7 out of 5.0\">4.7</div><strong>&nbsp;&nbsp;<small> AROMA </small><big style=\"color: #999;\">8/10</big>&nbsp;&nbsp;<small> APPEARANCE </small><big style=\"color: #999;\">5/5</big>&nbsp;&nbsp;<small> TASTE </small><big style=\"color: #999;\">10/10</big>&nbsp;&nbsp;<small> PALATE </small><big style=\"color: #999;\">5/5</big>&nbsp;&nbsp;<small> OVERALL </small><big style=\"color: #999;\">19/20</big></strong></div><small style=\"color: #666666; font-size: 12px; font-weight: bold;\"><a href=\"/user/359050/\">Ddub13&nbsp;(1)</a> - Suffolk, ENGLAND - FEB 21, 2015 <a href=\"/RatingsQA.htm\">does not count <img height=\"10\" width=\"10\" title=\"click to see why this rating of Westvleteren 12 (XII) does not count\" src=\"/images/icons/questionmark.gif\" align=\"middle\" border=\"0\" /></a> </small><br /><div style=\"padding: 20px 10px 20px 0px; border-bottom: 1px solid #e0e0e0; line-height: 1.5;\">This beer has it all. Great Aroma, dark rich appearance, smooth taste that has hints of chocolate, coffee and caramel. Overall this is a hard to find beer that is worth all the effort involved.  </div><br /><div style=\"padding: 0px 0px 0px 0px;\"><div style=\"width: 60px; float: left; padding-right: 10px;\"><img style=\"max-width: 60px; max-height: 60px; height: auto; width: auto;\" width=\"60\" src=\"http://res.cloudinary.com/ratebeer/image/upload/w_50,c_limit,q_80,d_user_def.gif/user_sherm1016.jpg\" class=\"curvy\" /></div><div style=\"display:inline; padding: 0px 0px; font-size: 24px; font-weight: bold; color: #036;\" title=\"4.3 out of 5.0\">4.3</div><strong>&nbsp;&nbsp;<small> AROMA </small><big style=\"color: #999;\">8/10</big>&nbsp;&nbsp;<small> APPEARANCE </small><big style=\"color: #999;\">3/5</big>&nbsp;&nbsp;<small> TASTE </small><big style=\"color: #999;\">9/10</big>&nbsp;&nbsp;<small> PALATE </small><big style=\"color: #999;\">4/5</big>&nbsp;&nbsp;<small> OVERALL </small><big style=\"color: #999;\">19/20</big></strong></div><small style=\"color: #666666; font-size: 12px; font-weight: bold;\"><a href=\"/user/87903/\">sherm1016&nbsp;(1184)</a> - Milwaukee, Wisconsin, USA - FEB 19, 2015</small><br /><div style=\"padding: 20px 10px 20px 0px; border-bottom: 1px solid #e0e0e0; line-height: 1.5;\">33cl bottle, purchased from the Struise webshop, cap date 06.10.13. Pours a dark, cola brown color with a thin tan head. Aroma is dark fruit, raisin, cherry, red wine. Medium on the palate with soft, creamy carbonation. Flavor is\r\n",
        "Sweet, malty, raisin, caramel, a little clove, anise, soy, some alcohol heat, with a sweet, clove finish. Lives up to the hype.  </div><br /><div style=\"padding: 0px 0px 0px 0px;\"><div style=\"width: 60px; float: left; padding-right: 10px;\"><img style=\"max-width: 60px; max-height: 60px; height: auto; width: auto;\" width=\"60\" src=\"http://res.cloudinary.com/ratebeer/image/upload/w_50,c_limit,q_80,d_user_def.gif/user_Jannick13.jpg\" class=\"curvy\" /></div><div style=\"display:inline; padding: 0px 0px; font-size: 24px; font-weight: bold; color: #036;\" title=\"4.5 out of 5.0\">4.5</div><strong>&nbsp;&nbsp;<small> AROMA </small><big style=\"color: #999;\">9/10</big>&nbsp;&nbsp;<small> APPEARANCE </small><big style=\"color: #999;\">5/5</big>&nbsp;&nbsp;<small> TASTE </small><big style=\"color: #999;\">9/10</big>&nbsp;&nbsp;<small> PALATE </small><big style=\"color: #999;\">5/5</big>&nbsp;&nbsp;<small> OVERALL </small><big style=\"color: #999;\">17/20</big></strong></div><small style=\"color: #666666; font-size: 12px; font-weight: bold;\"><a href=\"/user/354380/\">Jannick13&nbsp;(66)</a> - Quebec, CANADA - FEB 19, 2015</small><br /><div style=\"padding: 20px 10px 20px 0px; border-bottom: 1px solid #e0e0e0; line-height: 1.5;\">Bottle. Pours dark brown with ruby red shining throught the semi cloudy liquid. Nice frothy medium sized head. Aroma of dark fruit &#40;black cherries, prunes...&#41;, caramel. Tastes more of the same with a nice not over the top warmth from the alcohol. Not too sweet, just perfect.  </div><br /><div style=\"padding: 0px 0px 0px 0px;\"><div style=\"width: 60px; float: left; padding-right: 10px;\"><img style=\"max-width: 60px; max-height: 60px; height: auto; width: auto;\" width=\"60\" src=\"http://res.cloudinary.com/ratebeer/image/upload/w_50,c_limit,q_80,d_user_def.gif/user_Werthergoethe.jpg\" class=\"curvy\" /></div><div style=\"display:inline; padding: 0px 0px; font-size: 24px; font-weight: bold; color: #036;\" title=\"4.9 out of 5.0\">4.9</div><strong>&nbsp;&nbsp;<small> AROMA </small><big style=\"color: #999;\">10/10</big>&nbsp;&nbsp;<small> APPEARANCE </small><big style=\"color: #999;\">5/5</big>&nbsp;&nbsp;<small> TASTE </small><big style=\"color: #999;\">10/10</big>&nbsp;&nbsp;<small> PALATE </small><big style=\"color: #999;\">5/5</big>&nbsp;&nbsp;<small> OVERALL </small><big style=\"color: #999;\">19/20</big></strong></div><small style=\"color: #666666; font-size: 12px; font-weight: bold;\"><a href=\"/user/358631/\">Werthergoethe&nbsp;(3)</a> - Moscow, RUSSIA - FEB 18, 2015 <a href=\"/RatingsQA.htm\">does not count <img height=\"10\" width=\"10\" title=\"click to see why this rating of Westvleteren 12 (XII) does not count\" src=\"/images/icons/questionmark.gif\" align=\"middle\" border=\"0\" /></a> </small><br /><div style=\"padding: 20px 10px 20px 0px; border-bottom: 1px solid #e0e0e0; line-height: 1.5;\">&#1054;&#1076;&#1080;&#1085; &#1080;&#1079; &#1083;&#1091;&#1095;&#1096;&#1080;&#1093; &#1080; &#1089;&#1072;&#1084;&#1099;&#1093; &#1079;&#1072;&#1087;&#1086;&#1084;&#1080;&#1085;&amp; &#1089;&#1086;&#1088;&#1090;&#1086;&#1074; &#1087;&#1080;&#1074;&#1072;, &#1095;&#1090;&#1086; &#1084;&#1085;&#1077; &#1076;&#1086;&#1074;&#1077;&#1083;&#1086;&#1089;&amp; &#1087;&#1088;&#1086;&#1073;&#1086;&#1074;&#1072;&amp; &#1053;&#1072;&#1089;&#1099;&#1097;&#1077;&#1085;&amp; &#1074;&#1082;&#1091;&#1089;, &#1089;&#1086;&#1074;&#1077;&#1088;&#1096;&#1077;&amp; &#1085;&#1077; &#1086;&#1097;&#1091;&#1097;&#1072;&#1077;&#1090;&amp; &#1085;&#1077;&#1084;&#1072;&#1083;&#1072;&#1103; &#1082;&#1088;&#1077;&#1087;&#1086;&#1089;&#1090;&amp;  </div><br /><div style=\"padding: 0px 0px 0px 0px;\"><div style=\"width: 60px; float: left; padding-right: 10px;\"><img style=\"max-width: 60px; max-height: 60px; height: auto; width: auto;\" width=\"60\" src=\"http://res.cloudinary.com/ratebeer/image/upload/w_50,c_limit,q_80,d_user_def.gif/user_boshog.jpg\" class=\"curvy\" /></div><div style=\"display:inline; padding: 0px 0px; font-size: 24px; font-weight: bold; color: #036;\" title=\"5 out of 5.0\">5</div><strong>&nbsp;&nbsp;<small> AROMA </small><big style=\"color: #999;\">10/10</big>&nbsp;&nbsp;<small> APPEARANCE </small><big style=\"color: #999;\">5/5</big>&nbsp;&nbsp;<small> TASTE </small><big style=\"color: #999;\">10/10</big>&nbsp;&nbsp;<small> PALATE </small><big style=\"color: #999;\">5/5</big>&nbsp;&nbsp;<small> OVERALL </small><big style=\"color: #999;\">20/20</big></strong></div><small style=\"color: #666666; font-size: 12px; font-weight: bold;\"><a href=\"/user/358485/\">boshog&nbsp;(1)</a> -  - FEB 17, 2015 <a href=\"/RatingsQA.htm\">does not count <img height=\"10\" width=\"10\" title=\"click to see why this rating of Westvleteren 12 (XII) does not count\" src=\"/images/icons/questionmark.gif\" align=\"middle\" border=\"0\" /></a> </small><br /><div style=\"padding: 20px 10px 20px 0px; border-bottom: 1px solid #e0e0e0; line-height: 1.5;\">The best beer I have tasted so far, however, will be very hard to beat &#033; </div><br /><table cellpadding=\"0\" cellspacing=\"0\" border=\"0\" style=\"margin: 0px 0px 20px 0px;border-bottom: 1px solid #e0e0e0;\"><tr><td width=\"600\" align=\"center\"><div style=\"width: 468px;padding: 0px 10px 14px 10px;\"><!-- beerpage468 -->\n",
        "<script type=\"text/javascript\">\r\n",
        "GA_googleFillSlot(\"beerpage468\");\r\n",
        "</script>\n",
        "</div>\n",
        "</td></tr>\n",
        "</table>\n",
        "<div style=\"padding: 0px 0px 0px 0px;\"><div style=\"width: 60px; float: left; padding-right: 10px;\"><img style=\"max-width: 60px; max-height: 60px; height: auto; width: auto;\" width=\"60\" src=\"http://res.cloudinary.com/ratebeer/image/upload/w_50,c_limit,q_80,d_user_def.gif/user_lowysthename.jpg\" class=\"curvy\" /></div><div style=\"display:inline; padding: 0px 0px; font-size: 24px; font-weight: bold; color: #036;\" title=\"4.8 out of 5.0\">4.8</div><strong>&nbsp;&nbsp;<small> AROMA </small><big style=\"color: #999;\">10/10</big>&nbsp;&nbsp;<small> APPEARANCE </small><big style=\"color: #999;\">4/5</big>&nbsp;&nbsp;<small> TASTE </small><big style=\"color: #999;\">9/10</big>&nbsp;&nbsp;<small> PALATE </small><big style=\"color: #999;\">5/5</big>&nbsp;&nbsp;<small> OVERALL </small><big style=\"color: #999;\">20/20</big></strong></div><small style=\"color: #666666; font-size: 12px; font-weight: bold;\"><a href=\"/user/358480/\">lowysthename&nbsp;(3)</a> - Perth, AUSTRALIA - FEB 17, 2015 <a href=\"/RatingsQA.htm\">does not count <img height=\"10\" width=\"10\" title=\"click to see why this rating of Westvleteren 12 (XII) does not count\" src=\"/images/icons/questionmark.gif\" align=\"middle\" border=\"0\" /></a> </small><br /><div style=\"padding: 20px 10px 20px 0px; border-bottom: 1px solid #e0e0e0; line-height: 1.5;\">Bottle from Mane Liquor in Perth - I&rsquo;ve been waiting so long to find a bottle of Westvleteren and it finally turned up in Perth\r\n",
        "Poured murky brown with a nice frothy head. Aroma is spicy and complex with notes of dark fruit, malt and caramel. Tastes spicy and malty with a hint of sweetness and the alcohol was quite evident. Amazing on the palate and simply exceptional. </div><br /><div style=\"padding: 0px 0px 0px 0px;\"><div style=\"width: 60px; float: left; padding-right: 10px;\"><img style=\"max-width: 60px; max-height: 60px; height: auto; width: auto;\" width=\"60\" src=\"http://res.cloudinary.com/ratebeer/image/upload/w_50,c_limit,q_80,d_user_def.gif/user_alex_leit.jpg\" class=\"curvy\" /></div><div style=\"display:inline; padding: 0px 0px; font-size: 24px; font-weight: bold; color: #036;\" title=\"5 out of 5.0\">5</div><strong>&nbsp;&nbsp;<small> AROMA </small><big style=\"color: #999;\">10/10</big>&nbsp;&nbsp;<small> APPEARANCE </small><big style=\"color: #999;\">5/5</big>&nbsp;&nbsp;<small> TASTE </small><big style=\"color: #999;\">10/10</big>&nbsp;&nbsp;<small> PALATE </small><big style=\"color: #999;\">5/5</big>&nbsp;&nbsp;<small> OVERALL </small><big style=\"color: #999;\">20/20</big></strong></div><small style=\"color: #666666; font-size: 12px; font-weight: bold;\"><a href=\"/user/243248/\">alex_leit&nbsp;(100)</a> - Minsk, BELARUS - FEB 17, 2015</small><br /><div style=\"padding: 20px 10px 20px 0px; border-bottom: 1px solid #e0e0e0; line-height: 1.5;\">Fanboy review :&#41; Brown with ruby highlights color with excellent foam. Complex and delicate aroma: fruity perfume, malt, caramel and toffee, dried fruit, birthday cake with cinnamon and honey, spicy yeast. Striking power taste: wine, sweet, caramel, chocolate with chilli and XO cognac, toffee, spicy. Great&#033; </div><br /><div style=\"padding: 0px 0px 0px 0px;\"><div style=\"width: 60px; float: left; padding-right: 10px;\"><img style=\"max-width: 60px; max-height: 60px; height: auto; width: auto;\" width=\"60\" src=\"http://res.cloudinary.com/ratebeer/image/upload/w_50,c_limit,q_80,d_user_def.gif/user_csaso.jpg\" class=\"curvy\" /></div><div style=\"display:inline; padding: 0px 0px; font-size: 24px; font-weight: bold; color: #036;\" title=\"4.6 out of 5.0\">4.6</div><strong>&nbsp;&nbsp;<small> AROMA </small><big style=\"color: #999;\">9/10</big>&nbsp;&nbsp;<small> APPEARANCE </small><big style=\"color: #999;\">4/5</big>&nbsp;&nbsp;<small> TASTE </small><big style=\"color: #999;\">9/10</big>&nbsp;&nbsp;<small> PALATE </small><big style=\"color: #999;\">5/5</big>&nbsp;&nbsp;<small> OVERALL </small><big style=\"color: #999;\">19/20</big></strong></div><small style=\"color: #666666; font-size: 12px; font-weight: bold;\"><a href=\"/user/131116/\">csaso&nbsp;(1521)</a> - Missouri, USA - FEB 15, 2015</small><br /><div style=\"padding: 20px 10px 20px 0px; border-bottom: 1px solid #e0e0e0; line-height: 1.5;\">Bottle - small foamy head, mildly murky &#40;not in a bad way&#41; dark brown/purple color, definite dark fruit aroma and flavor, becomes more pronounced as the beer warms, pretty smooth finish considering, yet also pretty carbonated, very good overall of course - maybe not quite the super mind blowing experience it sometimes is built up to be but still very good for sure\n",
        "\n",
        "&#045;&#045;-Rated via Beer Buddy for iPhone </div><br /><div style=\"padding: 0px 0px 0px 0px;\"><div style=\"width: 60px; float: left; padding-right: 10px;\"><img style=\"max-width: 60px; max-height: 60px; height: auto; width: auto;\" width=\"60\" src=\"http://res.cloudinary.com/ratebeer/image/upload/w_50,c_limit,q_80,d_user_def.gif/user_cattaneopapa.jpg\" class=\"curvy\" /></div><div style=\"display:inline; padding: 0px 0px; font-size: 24px; font-weight: bold; color: #036;\" title=\"4.8 out of 5.0\">4.8</div><strong>&nbsp;&nbsp;<small> AROMA </small><big style=\"color: #999;\">10/10</big>&nbsp;&nbsp;<small> APPEARANCE </small><big style=\"color: #999;\">5/5</big>&nbsp;&nbsp;<small> TASTE </small><big style=\"color: #999;\">9/10</big>&nbsp;&nbsp;<small> PALATE </small><big style=\"color: #999;\">5/5</big>&nbsp;&nbsp;<small> OVERALL </small><big style=\"color: #999;\">19/20</big></strong></div><small style=\"color: #666666; font-size: 12px; font-weight: bold;\"><a href=\"/user/279319/\">cattaneopapa&nbsp;(209)</a> - Toronto, Ontario, CANADA - FEB 15, 2015</small><br /><div style=\"padding: 20px 10px 20px 0px; border-bottom: 1px solid #e0e0e0; line-height: 1.5;\">Review from notes. Bottle from Town Crier, Toronto, ON. Pours a murky brown colour with one finger of lasting head anf lacing. Aroma of plums, raisins. After it warms up a bit, I get some cherries. Taste is so complex it&rsquo;s hard to put into words. Spicy but not a dry finish. Lively carbonation just the perfect level.  </div><br /><div style=\"padding: 0px 0px 0px 0px;\"><div style=\"width: 60px; float: left; padding-right: 10px;\"><img style=\"max-width: 60px; max-height: 60px; height: auto; width: auto;\" width=\"60\" src=\"http://res.cloudinary.com/ratebeer/image/upload/w_50,c_limit,q_80,d_user_def.gif/user_rdb84.jpg\" class=\"curvy\" /></div><div style=\"display:inline; padding: 0px 0px; font-size: 24px; font-weight: bold; color: #036;\" title=\"4.5 out of 5.0\">4.5</div><strong>&nbsp;&nbsp;<small> AROMA </small><big style=\"color: #999;\">9/10</big>&nbsp;&nbsp;<small> APPEARANCE </small><big style=\"color: #999;\">3/5</big>&nbsp;&nbsp;<small> TASTE </small><big style=\"color: #999;\">9/10</big>&nbsp;&nbsp;<small> PALATE </small><big style=\"color: #999;\">5/5</big>&nbsp;&nbsp;<small> OVERALL </small><big style=\"color: #999;\">19/20</big></strong></div><small style=\"color: #666666; font-size: 12px; font-weight: bold;\"><a href=\"/user/314330/\">rdb84&nbsp;(162)</a> - NETHERLANDS - FEB 15, 2015</small><br /><div style=\"padding: 20px 10px 20px 0px; border-bottom: 1px solid #e0e0e0; line-height: 1.5;\">Bottle. Back to back tasting with St Bernardus &#40;SB&#41; 12. Dark brown, fizzy head which dissipates quickly, high carbonation. SB wins, just looks nicer. Intense and robust aroma: cherry infused with red wine, sangria/gluhwein, parsnip, cassis, old sunflower oil &#40;deep fryer oil&#41;, hairspray lacing. SB is sweeter: chocolate, prunes, some basement funk. Westvleteren wins. On to the taste: overwhelmingly robust and intense experience. Cherry and wine combo returns, dark raisins and chocolate in the development, sour high with perfect aftertaste &#40;sweet, hint of chocolate&#41;. Nice warm alcohol feeling in the mouth. SB: a more mellow version of the Westvleteren with hints of vanilla and a creamy lacing. Less powerful, but really close. Westvleteren wins. Overall, Westvleteren is the more robust and developed version of the two; it tastes a little better and is definitely more pronounced. Nonetheless, SB is a topnotch beer as well.  </div><br /></td></tr></table>"
       ]
      },
      {
       "output_type": "stream",
       "stream": "stdout",
       "text": [
        "\n",
        "---------------------------------------------------\n",
        "\n",
        "4.7\n",
        "8\n",
        "5\n",
        "10\n",
        "5\n",
        "19\n",
        "8\n",
        "3\n",
        "9\n",
        "4\n",
        "19\n",
        "9\n",
        "5\n",
        "9\n",
        "5\n",
        "17\n",
        "10\n",
        "5\n",
        "10\n",
        "5\n",
        "19\n",
        "10\n",
        "5\n",
        "10\n",
        "5\n",
        "20\n",
        "10\n",
        "4\n",
        "9\n",
        "5\n",
        "20\n",
        "10\n",
        "5\n",
        "10\n",
        "5\n",
        "20\n",
        "9\n",
        "4\n",
        "9\n",
        "5\n",
        "19\n",
        "10\n",
        "5\n",
        "9\n",
        "5\n",
        "19\n",
        "9\n",
        "3\n",
        "9\n",
        "5\n",
        "19\n",
        "\n"
       ]
      }
     ],
     "prompt_number": 14
    },
    {
     "cell_type": "code",
     "collapsed": false,
     "input": [
      "#beer_review_cols = ['beer_id', 'brewer_id']\n",
      "#beer_info_cols = ['beer_id', 'beer_id', 'style', 'bottle_type', 'ratings', 'wavg', 'cal', 'abv', 'des', 'img']"
     ],
     "language": "python",
     "metadata": {},
     "outputs": [],
     "prompt_number": 10
    },
    {
     "cell_type": "code",
     "collapsed": false,
     "input": [],
     "language": "python",
     "metadata": {},
     "outputs": []
    }
   ],
   "metadata": {}
  }
 ]
}