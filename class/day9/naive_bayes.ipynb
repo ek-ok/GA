{
 "metadata": {
  "name": "",
  "signature": "sha256:b2463bf6b97ba2aef72670b28853a1ff318d75c9f9fa88b21958d802f4ff9d03"
 },
 "nbformat": 3,
 "nbformat_minor": 0,
 "worksheets": [
  {
   "cells": [
    {
     "cell_type": "markdown",
     "metadata": {},
     "source": [
      "# Logistic regression\n",
      "- categorical\n",
      "- supervised\n",
      "- to evaluate performace\n",
      "    - accuracy\n",
      "    - correlation\n",
      "    - chi^2 test (feature)\n",
      "- output\n",
      "    - probability\n",
      "- interpretable of the algo\n",
      "    - coefficients (log-odds)\n",
      "    - avg result given no info\n",
      "- to reduce overfitting\n",
      "    - regulalization parameters\n",
      "\n"
     ]
    },
    {
     "cell_type": "markdown",
     "metadata": {},
     "source": [
      "#Naive Bayes\n",
      "- linear so quick\n",
      "- calc avg to take multiple features\n",
      "\n",
      "$P(AB) = \\dfrac{|AB|}{|U|}$\n",
      "\n",
      "$P(A|B) = \\dfrac{|AB|}{|B|}$\n",
      "\n",
      "       \n",
      "We then do some substitution...  \n",
      "\n",
      "$P(B|A) = \\dfrac{P(A|B)P(A)}{P(B)}$\n",
      "\n",
      "Which leaves us with a formula that will make more sense:\n",
      "\n",
      "$P(y|X_{n}) = \\dfrac{P(y)P(X_{n}|y)}{P(X_{n})}$\n",
      "\n",
      "- $P(y)$: apnori\n",
      "- $P(X_{n}|y)$: coefficients\n",
      "- $P(X_{n})$: prob of features"
     ]
    },
    {
     "cell_type": "markdown",
     "metadata": {},
     "source": [
      "- logistic: coefficients when this occurs, odds (+/-) by B (sum) amount\n",
      "- Naive:    prob of feature showing up given a feature variable"
     ]
    },
    {
     "cell_type": "markdown",
     "metadata": {},
     "source": [
      "- multinomial: counting\n",
      "- Bernoulli: presence"
     ]
    },
    {
     "cell_type": "code",
     "collapsed": false,
     "input": [
      "import pandas as pd\n",
      "import matplotlib.pyplot as plt\n",
      "import seaborn\n",
      "from sklearn.feature_extraction.text import CountVectorizer\n",
      "from sklearn import naive_bayes\n",
      "from sklearn import linear_model\n",
      "from sklearn import cross_validation\n",
      "import numpy as np\n",
      "import seaborn as sns\n",
      "\n",
      "pd.set_option('display.width', 500)\n",
      "pd.set_option('display.max_columns', 30)"
     ],
     "language": "python",
     "metadata": {},
     "outputs": [],
     "prompt_number": 14
    },
    {
     "cell_type": "code",
     "collapsed": false,
     "input": [
      "text = ['Math is great', 'Math is really great', 'Exciting exciting Math']\n",
      "\n",
      "# Like the learners in sklearn, CountVectorizer is a class; so `vectorizer` below represents an instance of that object.\n",
      "vectorizer = CountVectorizer(ngram_range=(1,2))\n",
      "\n",
      "# call `fit` to build the vocabulary\n",
      "vectorizer.fit(text)\n",
      "\n",
      "# then, use `get_feature_names` to return the tokens\n",
      "\n",
      "print vectorizer.get_feature_names()"
     ],
     "language": "python",
     "metadata": {},
     "outputs": [
      {
       "output_type": "stream",
       "stream": "stdout",
       "text": [
        "[u'exciting', u'exciting exciting', u'exciting math', u'great', u'is', u'is great', u'is really', u'math', u'math is', u'really', u'really great']\n"
       ]
      }
     ],
     "prompt_number": 5
    },
    {
     "cell_type": "code",
     "collapsed": false,
     "input": [
      "print 'Sparse Matrix'\n",
      "\n",
      "# only return when there is 1\n",
      "\n",
      "# finally, call `transform` to convert text to a bag of words\n",
      "x = vectorizer.transform(text)\n",
      "# A compressed version; the \"sparse\" matrix.\n",
      "print x \n",
      "\n",
      "\n",
      "print type(x) # type is from scipy, a library we've spoken very little of, but is pretty fantastic.\n",
      "print\n",
      "print 'Matrix'\n",
      "x_back = x.toarray()\n",
      "print x_back"
     ],
     "language": "python",
     "metadata": {},
     "outputs": [
      {
       "output_type": "stream",
       "stream": "stdout",
       "text": [
        "Sparse Matrix\n",
        "  (0, 3)\t1\n",
        "  (0, 4)\t1\n",
        "  (0, 5)\t1\n",
        "  (0, 7)\t1\n",
        "  (0, 8)\t1\n",
        "  (1, 3)\t1\n",
        "  (1, 4)\t1\n",
        "  (1, 6)\t1\n",
        "  (1, 7)\t1\n",
        "  (1, 8)\t1\n",
        "  (1, 9)\t1\n",
        "  (1, 10)\t1\n",
        "  (2, 0)\t2\n",
        "  (2, 1)\t1\n",
        "  (2, 2)\t1\n",
        "  (2, 7)\t1\n",
        "<class 'scipy.sparse.csr.csr_matrix'>\n",
        "\n",
        "Matrix\n",
        "[[0 0 0 1 1 1 0 1 1 0 0]\n",
        " [0 0 0 1 1 0 1 1 1 1 1]\n",
        " [2 1 1 0 0 0 0 1 0 0 0]]\n"
       ]
      }
     ],
     "prompt_number": 7
    },
    {
     "cell_type": "code",
     "collapsed": false,
     "input": [
      "pd.DataFrame(x_back, columns=vectorizer.get_feature_names())"
     ],
     "language": "python",
     "metadata": {},
     "outputs": [
      {
       "html": [
        "<div style=\"max-height:1000px;max-width:1500px;overflow:auto;\">\n",
        "<table border=\"1\" class=\"dataframe\">\n",
        "  <thead>\n",
        "    <tr style=\"text-align: right;\">\n",
        "      <th></th>\n",
        "      <th>exciting</th>\n",
        "      <th>exciting exciting</th>\n",
        "      <th>exciting math</th>\n",
        "      <th>great</th>\n",
        "      <th>is</th>\n",
        "      <th>is great</th>\n",
        "      <th>is really</th>\n",
        "      <th>math</th>\n",
        "      <th>math is</th>\n",
        "      <th>really</th>\n",
        "      <th>really great</th>\n",
        "    </tr>\n",
        "  </thead>\n",
        "  <tbody>\n",
        "    <tr>\n",
        "      <th>0</th>\n",
        "      <td> 0</td>\n",
        "      <td> 0</td>\n",
        "      <td> 0</td>\n",
        "      <td> 1</td>\n",
        "      <td> 1</td>\n",
        "      <td> 1</td>\n",
        "      <td> 0</td>\n",
        "      <td> 1</td>\n",
        "      <td> 1</td>\n",
        "      <td> 0</td>\n",
        "      <td> 0</td>\n",
        "    </tr>\n",
        "    <tr>\n",
        "      <th>1</th>\n",
        "      <td> 0</td>\n",
        "      <td> 0</td>\n",
        "      <td> 0</td>\n",
        "      <td> 1</td>\n",
        "      <td> 1</td>\n",
        "      <td> 0</td>\n",
        "      <td> 1</td>\n",
        "      <td> 1</td>\n",
        "      <td> 1</td>\n",
        "      <td> 1</td>\n",
        "      <td> 1</td>\n",
        "    </tr>\n",
        "    <tr>\n",
        "      <th>2</th>\n",
        "      <td> 2</td>\n",
        "      <td> 1</td>\n",
        "      <td> 1</td>\n",
        "      <td> 0</td>\n",
        "      <td> 0</td>\n",
        "      <td> 0</td>\n",
        "      <td> 0</td>\n",
        "      <td> 1</td>\n",
        "      <td> 0</td>\n",
        "      <td> 0</td>\n",
        "      <td> 0</td>\n",
        "    </tr>\n",
        "  </tbody>\n",
        "</table>\n",
        "</div>"
       ],
       "metadata": {},
       "output_type": "pyout",
       "prompt_number": 10,
       "text": [
        "   exciting  exciting exciting  exciting math  great  is  is great  is really  \\\n",
        "0         0                  0              0      1   1         1          0   \n",
        "1         0                  0              0      1   1         0          1   \n",
        "2         2                  1              1      0   0         0          0   \n",
        "\n",
        "   math  math is  really  really great  \n",
        "0     1        1       0             0  \n",
        "1     1        1       1             1  \n",
        "2     1        0       0             0  "
       ]
      }
     ],
     "prompt_number": 10
    },
    {
     "cell_type": "code",
     "collapsed": false,
     "input": [
      "critics = pd.read_csv('/Users/Ikkei/data-analysis/DAT18NYC/data/rt_critics.csv')"
     ],
     "language": "python",
     "metadata": {},
     "outputs": [],
     "prompt_number": 11
    },
    {
     "cell_type": "code",
     "collapsed": false,
     "input": [
      "critics.head()"
     ],
     "language": "python",
     "metadata": {},
     "outputs": [
      {
       "html": [
        "<div style=\"max-height:1000px;max-width:1500px;overflow:auto;\">\n",
        "<table border=\"1\" class=\"dataframe\">\n",
        "  <thead>\n",
        "    <tr style=\"text-align: right;\">\n",
        "      <th></th>\n",
        "      <th>critic</th>\n",
        "      <th>fresh</th>\n",
        "      <th>imdb</th>\n",
        "      <th>publication</th>\n",
        "      <th>quote</th>\n",
        "      <th>review_date</th>\n",
        "      <th>rtid</th>\n",
        "      <th>title</th>\n",
        "    </tr>\n",
        "  </thead>\n",
        "  <tbody>\n",
        "    <tr>\n",
        "      <th>0</th>\n",
        "      <td>        Derek Adams</td>\n",
        "      <td> fresh</td>\n",
        "      <td> 114709</td>\n",
        "      <td>       Time Out</td>\n",
        "      <td> So ingenious in concept, design and execution ...</td>\n",
        "      <td> 2009-10-04</td>\n",
        "      <td> 9559</td>\n",
        "      <td> Toy story</td>\n",
        "    </tr>\n",
        "    <tr>\n",
        "      <th>1</th>\n",
        "      <td>    Richard Corliss</td>\n",
        "      <td> fresh</td>\n",
        "      <td> 114709</td>\n",
        "      <td>  TIME Magazine</td>\n",
        "      <td>                 The year's most inventive comedy.</td>\n",
        "      <td> 2008-08-31</td>\n",
        "      <td> 9559</td>\n",
        "      <td> Toy story</td>\n",
        "    </tr>\n",
        "    <tr>\n",
        "      <th>2</th>\n",
        "      <td>        David Ansen</td>\n",
        "      <td> fresh</td>\n",
        "      <td> 114709</td>\n",
        "      <td>       Newsweek</td>\n",
        "      <td> A winning animated feature that has something ...</td>\n",
        "      <td> 2008-08-18</td>\n",
        "      <td> 9559</td>\n",
        "      <td> Toy story</td>\n",
        "    </tr>\n",
        "    <tr>\n",
        "      <th>3</th>\n",
        "      <td>      Leonard Klady</td>\n",
        "      <td> fresh</td>\n",
        "      <td> 114709</td>\n",
        "      <td>        Variety</td>\n",
        "      <td> The film sports a provocative and appealing st...</td>\n",
        "      <td> 2008-06-09</td>\n",
        "      <td> 9559</td>\n",
        "      <td> Toy story</td>\n",
        "    </tr>\n",
        "    <tr>\n",
        "      <th>4</th>\n",
        "      <td> Jonathan Rosenbaum</td>\n",
        "      <td> fresh</td>\n",
        "      <td> 114709</td>\n",
        "      <td> Chicago Reader</td>\n",
        "      <td> An entertaining computer-generated, hyperreali...</td>\n",
        "      <td> 2008-03-10</td>\n",
        "      <td> 9559</td>\n",
        "      <td> Toy story</td>\n",
        "    </tr>\n",
        "  </tbody>\n",
        "</table>\n",
        "</div>"
       ],
       "metadata": {},
       "output_type": "pyout",
       "prompt_number": 12,
       "text": [
        "               critic  fresh    imdb     publication  \\\n",
        "0         Derek Adams  fresh  114709        Time Out   \n",
        "1     Richard Corliss  fresh  114709   TIME Magazine   \n",
        "2         David Ansen  fresh  114709        Newsweek   \n",
        "3       Leonard Klady  fresh  114709         Variety   \n",
        "4  Jonathan Rosenbaum  fresh  114709  Chicago Reader   \n",
        "\n",
        "                                               quote review_date  rtid  \\\n",
        "0  So ingenious in concept, design and execution ...  2009-10-04  9559   \n",
        "1                  The year's most inventive comedy.  2008-08-31  9559   \n",
        "2  A winning animated feature that has something ...  2008-08-18  9559   \n",
        "3  The film sports a provocative and appealing st...  2008-06-09  9559   \n",
        "4  An entertaining computer-generated, hyperreali...  2008-03-10  9559   \n",
        "\n",
        "       title  \n",
        "0  Toy story  \n",
        "1  Toy story  \n",
        "2  Toy story  \n",
        "3  Toy story  \n",
        "4  Toy story  "
       ]
      }
     ],
     "prompt_number": 12
    },
    {
     "cell_type": "code",
     "collapsed": false,
     "input": [
      "rotten_vectorizer = vectorizer.fit(critics.quote)\n",
      "x = vectorizer.fit_transform(critics.quote)\n",
      "y = (critics.fresh == 'fresh').values.astype(int)"
     ],
     "language": "python",
     "metadata": {},
     "outputs": [],
     "prompt_number": 13
    },
    {
     "cell_type": "code",
     "collapsed": false,
     "input": [
      "def train_and_measure(classifier, x, y, test_size):\n",
      "    xtrain, xtest, ytrain, ytest = cross_validation.train_test_split(x, \n",
      "                                                                     y, \n",
      "                                                                     test_size=test_size, \n",
      "                                                                     random_state=1234)\n",
      "    clf = classifier.fit(xtrain, ytrain)\n",
      "    train_accuracy = clf.score(xtrain, ytrain)\n",
      "    test_accuracy = clf.score(xtest, ytest)\n",
      "    \n",
      "    print classifier\n",
      "    print 'train_accuracy: %0.2f' % (train_accuracy)\n",
      "    print 'test_accuracy : %0.2f' % (test_accuracy)"
     ],
     "language": "python",
     "metadata": {},
     "outputs": [],
     "prompt_number": 26
    },
    {
     "cell_type": "code",
     "collapsed": false,
     "input": [
      "train_and_measure(naive_bayes.MultinomialNB(), x, y, 0.2)"
     ],
     "language": "python",
     "metadata": {},
     "outputs": [
      {
       "output_type": "stream",
       "stream": "stdout",
       "text": [
        "MultinomialNB(alpha=1.0, class_prior=None, fit_prior=True)\n",
        "train_accuracy: 0.99\n",
        "test_accuracy : 0.76\n"
       ]
      }
     ],
     "prompt_number": 27
    },
    {
     "cell_type": "code",
     "collapsed": false,
     "input": [
      "x_ones = (x > 1)\n",
      "train_and_measure(naive_bayes.BernoulliNB(), x_ones, y, 0.2)"
     ],
     "language": "python",
     "metadata": {},
     "outputs": [
      {
       "output_type": "stream",
       "stream": "stdout",
       "text": [
        "BernoulliNB(alpha=1.0, binarize=0.0, class_prior=None, fit_prior=True)\n",
        "train_accuracy: 0.62\n",
        "test_accuracy : 0.59\n"
       ]
      }
     ],
     "prompt_number": 28
    },
    {
     "cell_type": "code",
     "collapsed": false,
     "input": [
      "train_and_measure(linear_model.LogisticRegression(), x, y, 0.2)"
     ],
     "language": "python",
     "metadata": {},
     "outputs": [
      {
       "output_type": "stream",
       "stream": "stdout",
       "text": [
        "LogisticRegression(C=1.0, class_weight=None, dual=False, fit_intercept=True,\n",
        "          intercept_scaling=1, penalty='l2', random_state=None, tol=0.0001)\n",
        "train_accuracy: 1.00\n",
        "test_accuracy : 0.75\n"
       ]
      }
     ],
     "prompt_number": 29
    },
    {
     "cell_type": "code",
     "collapsed": false,
     "input": [
      "def kfold_train_measure(classifier, x, y, folds=5, shuffle=True, return_plot=False): \n",
      "    \n",
      "    import numpy as np\n",
      "    from sklearn import cross_validation\n",
      "    kfold = cross_validation.KFold(n=x.shape[0], \n",
      "                                   n_folds=folds, \n",
      "                                   shuffle=shuffle, \n",
      "                                   random_state=123)\n",
      "\n",
      "    train_acc = []\n",
      "    test_acc = []\n",
      "    for train_index, test_index in kfold:\n",
      "        clf = classifier.fit(x[train_index], y[train_index])\n",
      "        train_acc.append(clf.score(x[train_index], y[train_index]))\n",
      "        test_acc.append(clf.score(x[test_index], y[test_index]))\n",
      "\n",
      "    if return_plot:\n",
      "        plt.figure()\n",
      "        sns.kdeplot(np.random.normal(loc=np.array(test_acc).mean(), scale=np.array(test_acc).std(), size=10000), shade=True)\n",
      "\n",
      "    return np.array(test_acc).mean(), np.array(test_acc).std()"
     ],
     "language": "python",
     "metadata": {},
     "outputs": [],
     "prompt_number": 39
    },
    {
     "cell_type": "code",
     "collapsed": false,
     "input": [
      "kfold_train_measure(naive_bayes.MultinomialNB(), x, y, return_plot=True)"
     ],
     "language": "python",
     "metadata": {},
     "outputs": [
      {
       "metadata": {},
       "output_type": "pyout",
       "prompt_number": 40,
       "text": [
        "(0.77799969954843906, 0.0065323252771275417)"
       ]
      },
      {
       "metadata": {},
       "output_type": "display_data",
       "png": "[encoded data removed]",
       "text": [
        "<matplotlib.figure.Figure at 0x1092f5b50>"
       ]
      }
     ],
     "prompt_number": 40
    },
    {
     "cell_type": "code",
     "collapsed": false,
     "input": [
      "k_train_acc = []\n",
      "k_test_acc = []\n",
      "\n",
      "def find_k(classifier, x, y, max_num_k):\n",
      "    for i in range(2, max_num_k):\n",
      "        kfold = cross_validation.KFold(n=x.shape[0], n_folds=i, shuffle=True, random_state=1234)\n",
      "        test_acc, train_acc = [], []\n",
      "        for train_index, test_index in kfold:\n",
      "            clf = classifier.fit(x[train_index], y[train_index])\n",
      "            train_acc.append(clf.score(x[train_index], y[train_index]))\n",
      "            test_acc.append(clf.score(x[test_index], y[test_index]))\n",
      "        k_train_acc.append(np.array(train_acc).mean())\n",
      "        k_test_acc.append(np.array(test_acc).mean())\n",
      "\n",
      "    plt.figure()\n",
      "    plt.plot(range(2, 20), k_train_acc)\n",
      "    plt.plot(range(2, 20), k_test_acc)\n",
      "    # blue: train accuracy \n",
      "    # green test accuracy\n",
      "    \n",
      "# fit chart\n",
      "find_k(naive_bayes.BernoulliNB(), x, y, max_num_k=20)"
     ],
     "language": "python",
     "metadata": {},
     "outputs": [
      {
       "metadata": {},
       "output_type": "display_data",
       "png": "[encoded data removed]",
       "text": [
        "<matplotlib.figure.Figure at 0x10866c5d0>"
       ]
      }
     ],
     "prompt_number": 47
    },
    {
     "cell_type": "code",
     "collapsed": false,
     "input": [
      "from sklearn.metrics import confusion_matrix\n",
      "from __future__ import division\n",
      "\n",
      "y_true = y\n",
      "y_pred = clf.predict(x)\n",
      "\n",
      "'''\n",
      "Note! the confusion matrix here will be [0 1],\n",
      "not [1, 0] as in the above image.\n",
      "'''\n",
      "conf = confusion_matrix(y_true, y_pred)\n",
      "\n",
      "print conf\n",
      "print\n",
      "\n",
      "print clf.score(x, y)\n",
      "print\n",
      "\n",
      "print 'rotten: ', conf[0, 0] / (conf[0, 0] + conf[0, 1])\n",
      "print 'fresh: ', conf[1, 1] / (conf[1, 0] + conf[1, 1])"
     ],
     "language": "python",
     "metadata": {},
     "outputs": [
      {
       "output_type": "stream",
       "stream": "stdout",
       "text": [
        "[[5264  195]\n",
        " [  97 8516]]\n",
        "\n",
        "0.979249573621\n",
        "\n",
        "rotten:  0.96427917201\n",
        "fresh:  0.988737954255\n"
       ]
      }
     ],
     "prompt_number": 53
    },
    {
     "cell_type": "code",
     "collapsed": false,
     "input": [
      "# Review errors\n",
      "prob = clf.predict_proba(x)[:, 0]\n",
      "bad_rotten = np.argsort(prob[y == 0])[:5]\n",
      "bad_fresh = np.argsort(prob[y == 1])[-5:]\n",
      "\n",
      "print \"Mis-predicted Rotten quotes\"\n",
      "print '---------------------------'\n",
      "for row in bad_rotten:\n",
      "    print critics[y == 0].quote.irow(row)\n",
      "    print\n",
      "\n",
      "print \"Mis-predicted Fresh quotes\"\n",
      "print '--------------------------'\n",
      "for row in bad_fresh:\n",
      "    print critics[y == 1].quote.irow(row)\n",
      "    print"
     ],
     "language": "python",
     "metadata": {},
     "outputs": [
      {
       "output_type": "stream",
       "stream": "stdout",
       "text": [
        "Mis-predicted Rotten quotes\n",
        "---------------------------\n",
        "The Ref is one of those rare movies that seem to have everything going for it -- a promising director, terrific actors and an original, unapologetically grown-up script -- yet somehow still turns out to be a phenomenal drag."
       ]
      },
      {
       "output_type": "stream",
       "stream": "stdout",
       "text": [
        "\n",
        "\n",
        "A complicated film that never really successfully yokes together the themes of money-making and sexuality, it reveals both Kazan's operatic sensibility and his inability to follow an argument rigorously through.\n",
        "\n",
        "The people behind this film would not recognize complex, honest emotion if it hit them in the face with a frying pan.\n",
        "\n",
        "At three hours, Jackson's Kong is too bloated and digressive to match the pure adrenaline of the first film, perhaps the finest B-movie ever made.\n",
        "\n",
        "Based on William Goldman's novel, this is a post-modern fairy tale that challenges and affirms the conventions of a genre that may not be flexible enough to support such horseplay.\n",
        "\n",
        "Mis-predicted Fresh quotes\n",
        "--------------------------\n",
        "As you watch this enchanting fantasy, feel free to be thrilled or to giggle, as you wish.\n",
        "\n",
        "The comedy runs out of steam when the jerk makes good, but laugh for laugh it's probably a better investment than 10.\n",
        "\n",
        "Ooky the Addamses may be, subversive they ain't; it plays like a paean to the nuclear family.\n",
        "\n",
        "The Matrix did not bore me. It interested me so much, indeed, that I wanted to be challenged even more.\n",
        "\n",
        "Weighed down by a dull setup featuring Ralph 'Karate Kid' Macchio, the movie gets a much-needed charge from Pesci, a bundle of bandy-legged impudence as Macchio's lawyer cousin, Vincent Gambini.\n",
        "\n"
       ]
      }
     ],
     "prompt_number": 54
    },
    {
     "cell_type": "code",
     "collapsed": false,
     "input": [],
     "language": "python",
     "metadata": {},
     "outputs": []
    }
   ],
   "metadata": {}
  }
 ]
}