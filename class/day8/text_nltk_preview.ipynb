{
 "metadata": {
  "name": "",
  "signature": "sha256:9c144f55fbf263d191bff3722247d3890c9868693661589c5557f6b645319bdf"
 },
 "nbformat": 3,
 "nbformat_minor": 0,
 "worksheets": [
  {
   "cells": [
    {
     "cell_type": "code",
     "collapsed": false,
     "input": [
      "import nltk"
     ],
     "language": "python",
     "metadata": {},
     "outputs": [],
     "prompt_number": 1
    },
    {
     "cell_type": "code",
     "collapsed": false,
     "input": [
      "txt = \"\"\"\n",
      "Parsing all of the interesting information in these \u201cagent\u201d strings may seem like a daunting task. Luckily, once you have mastered Python\u2019s built-in string functions and regular expression capabilities, it is really not so bad. For example, we could split off the first token in the string  and make another summary of the user behavior:\n",
      "\"\"\""
     ],
     "language": "python",
     "metadata": {},
     "outputs": [],
     "prompt_number": 7
    },
    {
     "cell_type": "code",
     "collapsed": false,
     "input": [
      "nltk.tokenize.wordpunct_tokenize(txt)"
     ],
     "language": "python",
     "metadata": {},
     "outputs": [
      {
       "metadata": {},
       "output_type": "pyout",
       "prompt_number": 8,
       "text": [
        "['Parsing',\n",
        " 'all',\n",
        " 'of',\n",
        " 'the',\n",
        " 'interesting',\n",
        " 'information',\n",
        " 'in',\n",
        " 'these',\n",
        " '\\xe2',\n",
        " '\\x80\\x9c',\n",
        " 'agent\\xe2',\n",
        " '\\x80\\x9d',\n",
        " 'strings',\n",
        " 'may',\n",
        " 'seem',\n",
        " 'like',\n",
        " 'a',\n",
        " 'daunting',\n",
        " 'task',\n",
        " '.',\n",
        " 'Luckily',\n",
        " ',',\n",
        " 'once',\n",
        " 'you',\n",
        " 'have',\n",
        " 'mastered',\n",
        " 'Python\\xe2',\n",
        " '\\x80\\x99',\n",
        " 's',\n",
        " 'built',\n",
        " '-',\n",
        " 'in',\n",
        " 'string',\n",
        " 'functions',\n",
        " 'and',\n",
        " 'regular',\n",
        " 'expression',\n",
        " 'capabilities',\n",
        " ',',\n",
        " 'it',\n",
        " 'is',\n",
        " 'really',\n",
        " 'not',\n",
        " 'so',\n",
        " 'bad',\n",
        " '.',\n",
        " 'For',\n",
        " 'example',\n",
        " ',',\n",
        " 'we',\n",
        " 'could',\n",
        " 'split',\n",
        " 'off',\n",
        " 'the',\n",
        " 'first',\n",
        " 'token',\n",
        " 'in',\n",
        " 'the',\n",
        " 'string',\n",
        " 'and',\n",
        " 'make',\n",
        " 'another',\n",
        " 'summary',\n",
        " 'of',\n",
        " 'the',\n",
        " 'user',\n",
        " 'behavior',\n",
        " ':']"
       ]
      }
     ],
     "prompt_number": 8
    },
    {
     "cell_type": "code",
     "collapsed": false,
     "input": [
      "sw_set = set(nltk.corpus.stopwords.words('english'))\n",
      "len(sw_set)"
     ],
     "language": "python",
     "metadata": {},
     "outputs": [
      {
       "metadata": {},
       "output_type": "pyout",
       "prompt_number": 12,
       "text": [
        "127"
       ]
      }
     ],
     "prompt_number": 12
    },
    {
     "cell_type": "code",
     "collapsed": false,
     "input": [],
     "language": "python",
     "metadata": {},
     "outputs": []
    }
   ],
   "metadata": {}
  }
 ]
}