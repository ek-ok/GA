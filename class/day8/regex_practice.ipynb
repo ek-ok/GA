{
 "metadata": {
  "name": "",
  "signature": "sha256:d49167bde17539a3e7e97772680ec8f202775d9b52f513c7b777f65f7b947ff4"
 },
 "nbformat": 3,
 "nbformat_minor": 0,
 "worksheets": [
  {
   "cells": [
    {
     "cell_type": "code",
     "collapsed": false,
     "input": [
      "import re"
     ],
     "language": "python",
     "metadata": {},
     "outputs": [],
     "prompt_number": 2
    },
    {
     "cell_type": "code",
     "collapsed": false,
     "input": [
      "sentence = \"The girls have 12 llamas, but the 4 boys only have 5 llamas. I have 12 alpacas, and 12 deer, but I want a llama.\""
     ],
     "language": "python",
     "metadata": {},
     "outputs": [],
     "prompt_number": 40
    },
    {
     "cell_type": "code",
     "collapsed": false,
     "input": [
      "print re.findall(r\"\\w+\", sentence)"
     ],
     "language": "python",
     "metadata": {},
     "outputs": [
      {
       "output_type": "stream",
       "stream": "stdout",
       "text": [
        "['The', 'girls', 'have', '12', 'llamas', 'but', 'the', '4', 'boys', 'only', 'have', '5', 'llamas', 'I', 'have', '12', 'alpacas', 'but', 'I', 'want', 'a', 'llama']\n"
       ]
      }
     ],
     "prompt_number": 14
    },
    {
     "cell_type": "code",
     "collapsed": false,
     "input": [
      "re.findall(r'(\\d+)\\s*(\\w+)', sentence)"
     ],
     "language": "python",
     "metadata": {},
     "outputs": [
      {
       "metadata": {},
       "output_type": "pyout",
       "prompt_number": 29,
       "text": [
        "[('12', 'llamas'), ('4', 'boys'), ('5', 'llamas'), ('12', 'alpacas')]"
       ]
      }
     ],
     "prompt_number": 29
    },
    {
     "cell_type": "code",
     "collapsed": false,
     "input": [
      "re.findall(r'(\\d+)\\s(\\w+).+(\\1)\\s(\\w+)',sentence)"
     ],
     "language": "python",
     "metadata": {},
     "outputs": [
      {
       "metadata": {},
       "output_type": "pyout",
       "prompt_number": 42,
       "text": [
        "[('12', 'llamas', '12', 'deer')]"
       ]
      }
     ],
     "prompt_number": 42
    },
    {
     "cell_type": "code",
     "collapsed": false,
     "input": [
      "re.findall(r\"(\\d+)\\s*(\\w+).+?(\\1)\\s*(\\w+)\", sentence) "
     ],
     "language": "python",
     "metadata": {},
     "outputs": [
      {
       "metadata": {},
       "output_type": "pyout",
       "prompt_number": 30,
       "text": [
        "[('12', 'llamas', '12', 'alpacas')]"
       ]
      }
     ],
     "prompt_number": 30
    },
    {
     "cell_type": "code",
     "collapsed": false,
     "input": [
      "groceries = ''' My grocery list\n",
      "12 apples (5 fuji and 7 red delicious)\n",
      "an orange\n",
      "10 bananas\n",
      "1 sponge\n",
      "2 mangoes'''"
     ],
     "language": "python",
     "metadata": {},
     "outputs": [],
     "prompt_number": 43
    },
    {
     "cell_type": "code",
     "collapsed": false,
     "input": [
      "re.findall(\"(\\d+)\\s*(\\w+)\", groceries)"
     ],
     "language": "python",
     "metadata": {},
     "outputs": [
      {
       "metadata": {},
       "output_type": "pyout",
       "prompt_number": 45,
       "text": [
        "[('12', 'apples'),\n",
        " ('5', 'fuji'),\n",
        " ('7', 'red'),\n",
        " ('10', 'bananas'),\n",
        " ('1', 'sponge'),\n",
        " ('2', 'mangoes')]"
       ]
      }
     ],
     "prompt_number": 45
    },
    {
     "cell_type": "code",
     "collapsed": false,
     "input": [
      "re.findall(\"(\\d+)\\s*(\\w+)\", groceries)  # the ^ is a special character that means beginning of line"
     ],
     "language": "python",
     "metadata": {},
     "outputs": [
      {
       "metadata": {},
       "output_type": "pyout",
       "prompt_number": 50,
       "text": [
        "[('12', 'apples'),\n",
        " ('5', 'fuji'),\n",
        " ('7', 'red'),\n",
        " ('10', 'bananas'),\n",
        " ('1', 'sponge'),\n",
        " ('2', 'mangoes')]"
       ]
      }
     ],
     "prompt_number": 50
    },
    {
     "cell_type": "code",
     "collapsed": false,
     "input": [
      "re.findall(\"^(\\d+)\\s*(\\w+)\", groceries)  # the ^ is a special character that means beginning of line"
     ],
     "language": "python",
     "metadata": {},
     "outputs": [
      {
       "metadata": {},
       "output_type": "pyout",
       "prompt_number": 51,
       "text": [
        "[]"
       ]
      }
     ],
     "prompt_number": 51
    },
    {
     "cell_type": "code",
     "collapsed": false,
     "input": [
      "re.findall(r'(?m)^(\\d+)\\s*(\\w+)', groceries)"
     ],
     "language": "python",
     "metadata": {},
     "outputs": [
      {
       "metadata": {},
       "output_type": "pyout",
       "prompt_number": 48,
       "text": [
        "[('12', 'apples'), ('10', 'bananas'), ('1', 'sponge'), ('2', 'mangoes')]"
       ]
      }
     ],
     "prompt_number": 48
    },
    {
     "cell_type": "code",
     "collapsed": false,
     "input": [
      "re.findall(r'(?m)^(\\d+)\\s*(\\w+)$', groceries)"
     ],
     "language": "python",
     "metadata": {},
     "outputs": [
      {
       "metadata": {},
       "output_type": "pyout",
       "prompt_number": 53,
       "text": [
        "[('10', 'bananas'), ('1', 'sponge'), ('2', 'mangoes')]"
       ]
      }
     ],
     "prompt_number": 53
    },
    {
     "cell_type": "code",
     "collapsed": false,
     "input": [
      "re.findall(r'\\w*an\\w*', groceries)"
     ],
     "language": "python",
     "metadata": {},
     "outputs": [
      {
       "metadata": {},
       "output_type": "pyout",
       "prompt_number": 55,
       "text": [
        "['and', 'an', 'orange', 'bananas', 'mangoes']"
       ]
      }
     ],
     "prompt_number": 55
    },
    {
     "cell_type": "code",
     "collapsed": false,
     "input": [
      "re.findall(r'\\ban\\w*', groceries)"
     ],
     "language": "python",
     "metadata": {},
     "outputs": [
      {
       "metadata": {},
       "output_type": "pyout",
       "prompt_number": 57,
       "text": [
        "['and', 'an']"
       ]
      }
     ],
     "prompt_number": 57
    },
    {
     "cell_type": "code",
     "collapsed": false,
     "input": [
      "m = re.findall(r\"\\ban\\w*\", groceries)  # will look for word boundary\n",
      "print m\n",
      "m = re.findall(\"\\ban\\w*\", groceries)  # returns none. Word boundaries do not work in python if regex is not a \"raw\" string\n",
      "print m\n",
      "m = re.findall(r\"\\Ban\\w*\", groceries)  # will look for opposite of word boundary, note that it does not eat up a character\n",
      "print m\n",
      "\n",
      "m = re.findall(r\"[\\B\\w]+an\\w*\", groceries)  # can include a \\w to get beginning of word\n",
      "print m"
     ],
     "language": "python",
     "metadata": {},
     "outputs": []
    },
    {
     "cell_type": "markdown",
     "metadata": {},
     "source": [
      "Boundary does not eat a character"
     ]
    },
    {
     "cell_type": "code",
     "collapsed": false,
     "input": [
      "sentences = \"On February 26th, 2015, around 1400h, 2 llamas went for a run 2012. ~1200056740 people were watching them.\""
     ],
     "language": "python",
     "metadata": {},
     "outputs": [],
     "prompt_number": 70
    },
    {
     "cell_type": "code",
     "collapsed": false,
     "input": [
      "re.findall(\"(?:20|19)\\d{2}\", sentences)  "
     ],
     "language": "python",
     "metadata": {},
     "outputs": [
      {
       "metadata": {},
       "output_type": "pyout",
       "prompt_number": 72,
       "text": [
        "[]"
       ]
      }
     ],
     "prompt_number": 72
    },
    {
     "cell_type": "code",
     "collapsed": false,
     "input": [],
     "language": "python",
     "metadata": {},
     "outputs": []
    }
   ],
   "metadata": {}
  }
 ]
}