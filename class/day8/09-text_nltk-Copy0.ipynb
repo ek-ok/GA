{
 "metadata": {
  "name": "",
  "signature": "sha256:36f0e550c203fa1bd11d3a4565de3a86ebceb57ee227ad6df35067d828064b61"
 },
 "nbformat": 3,
 "nbformat_minor": 0,
 "worksheets": [
  {
   "cells": [
    {
     "cell_type": "code",
     "collapsed": false,
     "input": [
      "from __future__ import division"
     ],
     "language": "python",
     "metadata": {},
     "outputs": [],
     "prompt_number": 1
    },
    {
     "cell_type": "code",
     "collapsed": false,
     "input": [
      "pwd"
     ],
     "language": "python",
     "metadata": {},
     "outputs": [
      {
       "metadata": {},
       "output_type": "pyout",
       "prompt_number": 1,
       "text": [
        "u'/Users/Ikkei/data-analysis/GA/class/day8'"
       ]
      }
     ],
     "prompt_number": 1
    },
    {
     "cell_type": "code",
     "collapsed": false,
     "input": [
      "import pandas as pd\n",
      "\n",
      "tweets = pd.read_csv('/Users/Ikkei/data-analysis/DAT18NYC/data/twitter5.csv')\n",
      "tweets = tweets\n",
      "\n",
      "tweets.head()"
     ],
     "language": "python",
     "metadata": {},
     "outputs": [
      {
       "html": [
        "<div style=\"max-height:1000px;max-width:1500px;overflow:auto;\">\n",
        "<table border=\"1\" class=\"dataframe\">\n",
        "  <thead>\n",
        "    <tr style=\"text-align: right;\">\n",
        "      <th></th>\n",
        "      <th>id</th>\n",
        "      <th>tweet</th>\n",
        "      <th>hashtag</th>\n",
        "    </tr>\n",
        "  </thead>\n",
        "  <tbody>\n",
        "    <tr>\n",
        "      <th>0</th>\n",
        "      <td> 522205943074160640</td>\n",
        "      <td> Is this #HongKong 's Rodney King? Police need ...</td>\n",
        "      <td> hongkong</td>\n",
        "    </tr>\n",
        "    <tr>\n",
        "      <th>1</th>\n",
        "      <td> 521669229188501504</td>\n",
        "      <td> 'We won't move and I'm ready to get arrested',...</td>\n",
        "      <td> hongkong</td>\n",
        "    </tr>\n",
        "    <tr>\n",
        "      <th>2</th>\n",
        "      <td> 522228472786067456</td>\n",
        "      <td> RT @stanyee: Footage of beating prompts #HongK...</td>\n",
        "      <td> hongkong</td>\n",
        "    </tr>\n",
        "    <tr>\n",
        "      <th>3</th>\n",
        "      <td> 522228386002108418</td>\n",
        "      <td> What is happening in Hong Kong is something th...</td>\n",
        "      <td> hongkong</td>\n",
        "    </tr>\n",
        "    <tr>\n",
        "      <th>4</th>\n",
        "      <td> 522228373964480512</td>\n",
        "      <td> #Funding:#HongKong #travel #startup @KlookTrav...</td>\n",
        "      <td> hongkong</td>\n",
        "    </tr>\n",
        "  </tbody>\n",
        "</table>\n",
        "</div>"
       ],
       "metadata": {},
       "output_type": "pyout",
       "prompt_number": 10,
       "text": [
        "                   id                                              tweet  \\\n",
        "0  522205943074160640  Is this #HongKong 's Rodney King? Police need ...   \n",
        "1  521669229188501504  'We won't move and I'm ready to get arrested',...   \n",
        "2  522228472786067456  RT @stanyee: Footage of beating prompts #HongK...   \n",
        "3  522228386002108418  What is happening in Hong Kong is something th...   \n",
        "4  522228373964480512  #Funding:#HongKong #travel #startup @KlookTrav...   \n",
        "\n",
        "    hashtag  \n",
        "0  hongkong  \n",
        "1  hongkong  \n",
        "2  hongkong  \n",
        "3  hongkong  \n",
        "4  hongkong  "
       ]
      }
     ],
     "prompt_number": 10
    },
    {
     "cell_type": "code",
     "collapsed": false,
     "input": [
      "len(tweets.id)"
     ],
     "language": "python",
     "metadata": {},
     "outputs": [
      {
       "metadata": {},
       "output_type": "pyout",
       "prompt_number": 12,
       "text": [
        "1496"
       ]
      }
     ],
     "prompt_number": 12
    },
    {
     "cell_type": "code",
     "collapsed": false,
     "input": [
      "len(tweets.id.unique())"
     ],
     "language": "python",
     "metadata": {},
     "outputs": [
      {
       "metadata": {},
       "output_type": "pyout",
       "prompt_number": 13,
       "text": [
        "1139"
       ]
      }
     ],
     "prompt_number": 13
    },
    {
     "cell_type": "code",
     "collapsed": false,
     "input": [
      "sum(tweets.id.isin([522228373964480512]))"
     ],
     "language": "python",
     "metadata": {},
     "outputs": [
      {
       "metadata": {},
       "output_type": "pyout",
       "prompt_number": 27,
       "text": [
        "2"
       ]
      }
     ],
     "prompt_number": 27
    },
    {
     "cell_type": "markdown",
     "metadata": {},
     "source": [
      "### Finding uniqueness of tweets\n",
      "\n",
      "One important thing to do would be to find the uniqueness of a dataset. Here, we should measure uniqueness as number of unique tweets / number of tweets in the data set."
     ]
    },
    {
     "cell_type": "code",
     "collapsed": false,
     "input": [
      "def tweet_uniqueness(tweets):\n",
      "    # Code for finding the number of unique tweets in a column over the number of tweets.\n",
      "    # should return a number between 0 and 1\n",
      "        \n",
      "    tweets.isin()\n",
      "    \n",
      "# shows that with the code above, we didn't get completely unique tweets.\n",
      "print tweet_uniqueness(tweets.id) \n",
      "\n",
      "# # code to drop duplicates based on the id column alone.\n",
      "unique_tweets = tweets.drop_duplicates(subset=['id'])\n",
      "\n",
      "print len(unique_tweets)\n",
      "# print tweet_uniqueness(unique_tweets.id)\n",
      "# print tweet_uniqueness(unique_tweets.tweet)"
     ],
     "language": "python",
     "metadata": {},
     "outputs": [
      {
       "output_type": "stream",
       "stream": "stdout",
       "text": [
        "0\n",
        "1139\n"
       ]
      }
     ],
     "prompt_number": 18
    },
    {
     "cell_type": "markdown",
     "metadata": {},
     "source": [
      "Even by removing the duplicate rows of data, we still have a significant amount of tweets that are the same, likely due to retweets.\n",
      "\n",
      "How could we confirm this hypotheses with pandas? Based on this limited dataset, what hashtag seems to get the most retweeted, vs the least retweeted?"
     ]
    },
    {
     "cell_type": "code",
     "collapsed": false,
     "input": [
      "for i in unique_tweets.hashtag.unique():\n",
      "    print i, tweet_uniqueness(unique_tweets[unique_tweets.hashtag == i].tweet)"
     ],
     "language": "python",
     "metadata": {},
     "outputs": [
      {
       "output_type": "stream",
       "stream": "stdout",
       "text": [
        "hongkong 0\n",
        "occupycentral 0\n",
        "umbrellarevolution 0\n",
        "china 0\n",
        "hk 0\n",
        "admiralty 0\n",
        "occupyhk 0\n"
       ]
      }
     ],
     "prompt_number": 28
    },
    {
     "cell_type": "code",
     "collapsed": false,
     "input": [
      "words = nltk.tokenize.wordpunct_tokenize(tweets.iloc[0,1])\n",
      "stopwords = set(nltk.corpus.stopwords.words('english'))\n",
      "words =  [w for w in words if w not in stopwords]\n",
      "words"
     ],
     "language": "python",
     "metadata": {},
     "outputs": [
      {
       "metadata": {},
       "output_type": "pyout",
       "prompt_number": 51,
       "text": [
        "['Is',\n",
        " '#',\n",
        " 'HongKong',\n",
        " \"'\",\n",
        " 'Rodney',\n",
        " 'King',\n",
        " '?',\n",
        " 'Police',\n",
        " 'need',\n",
        " 'answer',\n",
        " 'apparent',\n",
        " 'gratuitous',\n",
        " 'assault',\n",
        " '#',\n",
        " 'OccupyCentral',\n",
        " 'protester',\n",
        " 'https',\n",
        " '://',\n",
        " '.',\n",
        " 'co',\n",
        " '/',\n",
        " 'DGWbo2VCb2']"
       ]
      }
     ],
     "prompt_number": 51
    },
    {
     "cell_type": "code",
     "collapsed": false,
     "input": [
      "words.pop(1)"
     ],
     "language": "python",
     "metadata": {},
     "outputs": []
    },
    {
     "cell_type": "code",
     "collapsed": false,
     "input": [],
     "language": "python",
     "metadata": {},
     "outputs": []
    },
    {
     "cell_type": "code",
     "collapsed": false,
     "input": [],
     "language": "python",
     "metadata": {},
     "outputs": []
    },
    {
     "cell_type": "code",
     "collapsed": false,
     "input": [
      "import nltk\n",
      "\n",
      "def tokenize_tweet(t, remove_stop=True, remove_hashtag=False):\n",
      "    import string\n",
      "    import re\n",
      "    tweet = t\n",
      "    tweet = tweet.lower()\n",
      "    tweet = re.sub('@\\w+', 'TWITTER_HANDLE', tweet)\n",
      "    tweet = re.sub('(https?:\\/\\/)?([\\da-z\\.-]+)\\.([a-z\\.]{2,6})([\\/\\w \\.-]*)*\\/?', 'URL', tweet)\n",
      "    tweet = tweet.translate(string.maketrans(\"\",\"\"), string.punctuation)\n",
      "    words = nltk.tokenize.wordpunct_tokenize(tweet)\n",
      "    if remove_stop:\n",
      "        # How do we filter for words in the stopwords corpus?\n",
      "        stopwords = set(nltk.corpus.stopwords.words('english'))\n",
      "        words = [w for w in words if w not in stopwords]\n",
      "        \n",
      "    if remove_hashtag:\n",
      "        # How do we filter out the actual hashtag in the tweet itself?\n",
      "        pass\n",
      "    \n",
      "    return words\n",
      "\n",
      "\n",
      "unique_tweets['tokens'] = unique_tweets.tweet.apply(tokenize_tweet, remove_stop=True)\n",
      "unique_tweets['tokens_w_stopwords'] = unique_tweets.tweet.apply(tokenize_tweet, remove_stop=False)\n",
      "\n",
      "unique_tweets['tokens_w_stopwords']"
     ],
     "language": "python",
     "metadata": {},
     "outputs": [
      {
       "metadata": {},
       "output_type": "pyout",
       "prompt_number": 33,
       "text": [
        "0     [is, this, hongkong, s, rodney, king, police, ...\n",
        "1     [we, wont, move, and, im, ready, to, get, arre...\n",
        "2     [rt, TWITTERHANDLE, footage, of, beating, prom...\n",
        "3     [what, is, happening, in, hong, kong, is, some...\n",
        "4     [fundinghongkong, travel, startup, TWITTERHAND...\n",
        "5     [hk, police, use, pepper, spray, on, protester...\n",
        "6     [rt, TWITTERHANDLE, footage, of, beating, prom...\n",
        "7     [rt, TWITTERHANDLE, footage, of, beating, prom...\n",
        "8     [squeezed, vscocam, vscohub, vscogang, vscogra...\n",
        "9     [rt, TWITTERHANDLE, footage, of, beating, prom...\n",
        "10    [breaking, hongkong, security, chief, says, 6,...\n",
        "11    [trendingnews, hongkong, demonstranten, aangek...\n",
        "12    [TWITTERHANDLE, in, hongkong, umbrellamovement...\n",
        "13    [TWITTERHANDLE, in, hongkong, umbrellamovement...\n",
        "14    [map, of, the, underpass, in, hongkong, where,...\n",
        "...\n",
        "1476    [rt, TWITTERHANDLE, five, hk, press, unions, u...\n",
        "1477    [rt, TWITTERHANDLE, 911pm, rodney, street, pac...\n",
        "1478    [rt, TWITTERHANDLE, packed, around, the, stage...\n",
        "1479              [rt, TWITTERHANDLE, now, occupyhk, URL]\n",
        "1481    [rt, TWITTERHANDLE, this, is, the, post, start...\n",
        "1482    [rt, TWITTERHANDLE, urgently, need, face, mask...\n",
        "1484    [rt, TWITTERHANDLE, occupied, area, stretches,...\n",
        "1485    [police, cant, stand, the, verbal, abuse, from...\n",
        "1486    [rt, TWITTERHANDLE, barricades, also, building...\n",
        "1487    [album, of, close, up, shots, of, the, pepper,...\n",
        "1488    [rt, TWITTERHANDLE, calling, wooden, plates, h...\n",
        "1490    [rt, TWITTERHANDLE, lung, wo, rd, what, source...\n",
        "1491    [rt, TWITTERHANDLE, big, pictures, from, TWITT...\n",
        "1492    [rt, TWITTERHANDLE, now, amp, signing, off, oc...\n",
        "1493    [rt, TWITTERHANDLE, this, amount, of, people, ...\n",
        "Name: tokens_w_stopwords, Length: 1139, dtype: object"
       ]
      }
     ],
     "prompt_number": 33
    },
    {
     "cell_type": "markdown",
     "metadata": {},
     "source": [
      "Consider the following question to answer:\n",
      "\n",
      "Do different audiences use different hashtags surrounding the hong kong protests?\n",
      "\n",
      "We can use nltk to help break apart the words in the tweets and determine how words may change based on the hashtag.\n"
     ]
    },
    {
     "cell_type": "code",
     "collapsed": false,
     "input": [
      "# pos_tag is a part of speech tagger, based on the text that it ingests. \n",
      "# while its not built for twitter data, we can try it out and see how accurate it is\n",
      "nltk.pos_tag\n",
      "unique_tweets['pos'] = unique_tweets['tokens'].apply(nltk.pos_tag)\n",
      "\n",
      "# Printing out all words that come back as adjectives (JJ):\n",
      "adjectives = []\n",
      "for i in unique_tweets.pos:\n",
      "    bb = [j[0] for j in i if j[1] == 'JJ']\n",
      "    if bb:\n",
      "        adjectives.extend(bb)\n",
      "\n",
      "print list(set(adjectives))\n"
     ],
     "language": "python",
     "metadata": {},
     "outputs": [
      {
       "output_type": "stream",
       "stream": "stdout",
       "text": [
        "['heutejournal', 'malicious', 'excessive', 'global', 'yellow', 'kong', 'top', 'govt', 'violent', 'asian', 'human', 'japan', 'taiwan', 'hate', 'blow', '116th', 'le', 'recipient', 'young', 'easy', 'rabble', 'cardinal', 'govern', 'te', 'real', 'good', 'animal', 'big', 'stop', 'possible', 'early', 'joint', 'traffic', 'shameful', 'anonymous', 'international', 'front', 'trouble', 'occupyhongkong', 'helpful', 'cable', 'tear', 'large', 'investigate', 'small', 'insane', 'financial', 'verbal', 'national', 'dead', 'hair', 'likely', 'economic', '3nsailing', 'agricultural', 'corrupt', 'sexual', 'special', 'viral', 'tungchung', 'symbiotic', 'bad', 'legal', 'creative', 'current', 'outside', 'various', 'new', 'adorable', 'public', '3d', 'available', 'suisheng', 'full', 'christian', 'pathetic', 'free', 'strong', 'soundcloud', 'jubilant', 'sheung', 'prodemocratic', 'great', 'bible', 'central', 'standby', 'many', 'aguus', 'equal', 'urged', 'foreign', 'protestorsoccupycentral', 'social', 'military', 'weird', 'create', 'first', 'major', 'industrial', 'vid', 'civic', 'irresponsible', 'powerful', 'arsenal', 'private', 'supporthongkong', 'lung', 'female', 'spanish', 'open', 'legislative', 'wan', 'additive', 'silent', 'ophongkong', 'angry', 'fiveyear', 'genetic', 'next', 'occupy', 'live', 'occupycentral', 'low', 'peaceful', 'australian', '3dprinting', 'website', 'british', 'gear', 'riot', 'successful', 'basic', 'alive', 'icable', 'last', 'general', 'former', 'main', 'dangerous', 'outrageous', 'sous', 'future', 'obvious', 'dirty', 'ive', 'gratuitous', 'chaotic', 'pic', 'site', 'overzealous', 'comfortable', 'high', 'middle', 'brutal', 'want', 'ready', 'wonderful', 'david', 'occupied', 'eric', 'physical', 'opportunityfinancial', 'kush', 'hong', 'hongkong', 'mic', 'responsible', 'hot', 'republic', 'fourth', 'automotive', 'widespread', 'several', 'beach', 'poor', 'independent', 'finish', 'normal', 'impartial', 'english', 'evil', 'sigue', 'wrong', 'serious', 'recent', 'natural', 'third', 'clear', 'proud', 'acknowledged', 'thought', 'concrete', 'tech', 'african', 'professional', 'democratic', 'microsoft', 'unspeakable']\n"
       ]
      }
     ],
     "prompt_number": 10
    },
    {
     "cell_type": "markdown",
     "metadata": {},
     "source": [
      "What are some of the challenges that this tagger seems to face?\n",
      "\n",
      "Above it's clear it does... okay. Since pos_tag trains based on its input, we could theoretically from here create a corpus that makes up for the expected English patterns, and then it will be better calibrated. For today, let's consider a smaller list of adjectives based on what nltk believes it found for adjectives.\n"
     ]
    },
    {
     "cell_type": "code",
     "collapsed": false,
     "input": [
      "adjective_list = {\n",
      "    'industrial': 0,\n",
      "    'excessive': -1,\n",
      "    'gratuitous': 1,\n",
      "    'chaotic': -1,\n",
      "    'national': 1,\n",
      "    'young': 1,\n",
      "    'yellow': 0,\n",
      "    'high': 1,\n",
      "    'middle': 0,\n",
      "    'likely': 1,\n",
      "    'economic': 0,\n",
      "    'creative': 1,\n",
      "    'open': 1,\n",
      "    'physical': 0,\n",
      "    'symbiotic': 1,\n",
      "    'legal': 1,\n",
      "    'next': 1,\n",
      "    'genetic': 0,\n",
      "    'angry': -1,\n",
      "    'strong': 1,\n",
      "    'peaceful': 1,\n",
      "    'new': 1,\n",
      "    'widespread': 1,\n",
      "    'real': 1,\n",
      "    'good': 1,\n",
      "    'normal': 0,\n",
      "    'successful': 1,\n",
      "    'big': 1,\n",
      "    'basic': -1,\n",
      "    'hate': -1,\n",
      "    'private': -1,\n",
      "    'front': 0,\n",
      "    'central': 0,\n",
      "    'comfortable': 1,\n",
      "    'last': 0,\n",
      "    'helpful': 1,\n",
      "    'third': 0,\n",
      "    'many': 1,\n",
      "    'clear': 1,\n",
      "    'proud': 1,\n",
      "    'brutal': -1,\n",
      "    'large': 1,\n",
      "    'dirty': -1,\n",
      "    'professional': 1,\n",
      "    'first': 0,\n",
      "}"
     ],
     "language": "python",
     "metadata": {},
     "outputs": [],
     "prompt_number": 11
    },
    {
     "cell_type": "markdown",
     "metadata": {},
     "source": [
      "**Goal: Using the adjectives and some measure of sentiment, predict a given hashtag?**\n",
      "\n",
      "We'll need to build a couple more functions:\n",
      "\n",
      "1. Let's write a function that creates a sentiment score for each tweet based on the adjectives above.\n",
      "2. Set the targets of the model. We can do this two ways:\n",
      "    1. One, using the `hashtag` column, which is what was generated based on the twitter search\n",
      "    2. Create several target columns, based on the tweet itself, using a regex match for the hashtag.\n",
      "3. Finally, build a logistic regression using NLTK's sklearn implementation using our created sentiment as a regressor."
     ]
    },
    {
     "cell_type": "code",
     "collapsed": false,
     "input": [
      "# First function: create a sentiment score column.\n",
      "# Should take in a list of words, and return back the score as\n",
      "# mean(sentiment_of_adjectives)\n",
      "def measure_sentiment(words):\n",
      "\n",
      "\n",
      "# Second function: Create a numeric target column.\n",
      "def numeric_hashtag(tag):\n",
      "    # we could use a dictionary similar to above to easily map hashtags to numeric values.\n",
      "    targets = {\n",
      "        u'hongkong': 0,\n",
      "        u'occupycentral': 1,\n",
      "        u'umbrellarevolution':2,\n",
      "        u'china':3,\n",
      "        u'hk':4,\n",
      "        u'admiralty':5,\n",
      "        u'occupyhk':6,\n",
      "    }\n",
      "    return targets[tag]\n",
      "\n",
      "unique_tweets['sentiment'] = unique_tweets.tokens.apply(measure_sentiment)\n",
      "print unique_tweets.sentiment.hist()\n",
      "\n",
      "unique_tweets['target'] = unique_tweets.hashtag.apply(numeric_hashtag)\n",
      "\n",
      "# Build a logistic regression using the sentiment feature and the numeric hashtags\n",
      "from sklearn import linear_model as lm\n",
      "\n",
      "lmfit = lm.LogisticRegression()\n",
      "lmfit.fit(unique_tweets[['sentiment']], unique_tweets['target'])\n",
      "print lmfit.score(unique_tweets[['sentiment']], unique_tweets['target'])"
     ],
     "language": "python",
     "metadata": {},
     "outputs": [
      {
       "output_type": "stream",
       "stream": "stdout",
       "text": [
        "Axes(0.125,0.125;0.775x0.775)\n",
        "0.197541703248"
       ]
      },
      {
       "output_type": "stream",
       "stream": "stdout",
       "text": [
        "\n"
       ]
      },
      {
       "metadata": {},
       "output_type": "display_data",
       "png": "[encoded data removed]",
       "text": [
        "<matplotlib.figure.Figure at 0x112e35650>"
       ]
      }
     ],
     "prompt_number": 12
    },
    {
     "cell_type": "markdown",
     "metadata": {},
     "source": [
      "## Some things we didn't talk about\n",
      "\n",
      "A common approach to handling text data is working with term frequencies and inverse document frequencies. sk-learn actually has a TF-IDF vectorizer that would be useful to interact with. A TF vectorizer would also be a fine start when working with larger texts.\n",
      "\n",
      "These matrices (TF and TF-IDF) are also strong indicators for classification.\n",
      "Consider the usage of stopwords. Stopswords can actually be incredibly useful in predicting! (http://rforwork.info/2012/12/27/intro-to-mult-classification/)\n",
      "\n",
      "## Next steps/Homework\n",
      "Continue iterating on the twitter data set. What new features could you curate that could be predictive of a hashtag?\n",
      "\n",
      "Consider:\n",
      "\n",
      "1. length of a tweet, or number of tokens in a tweet\n",
      "2. Finding more words to include in the sentiment dictionary\n",
      "3. Finding words most commonly used along a hashtag.\n",
      "\n",
      "add to the code, and build a better model using your new features.\n",
      "\n",
      "**OR**\n",
      "\n",
      "follow a different persuit with the data, given that you can work with the twitter api, which will provide you with much more data than included in the master csv file here.\n"
     ]
    }
   ],
   "metadata": {}
  }
 ]
}