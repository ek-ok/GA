{
 "metadata": {
  "name": "",
  "signature": "sha256:272d14c254e38c618552dc894e04c5c9656521104fc849d7d8cd6212966cd917"
 },
 "nbformat": 3,
 "nbformat_minor": 0,
 "worksheets": [
  {
   "cells": [
    {
     "cell_type": "markdown",
     "metadata": {},
     "source": [
      "$$\u03b2 = ( X^TX)^{-1} X^TY$$"
     ]
    },
    {
     "cell_type": "code",
     "collapsed": false,
     "input": [
      "import pandas as pd\n",
      "import numpy as np\n",
      "from sklearn import linear_model as lm\n",
      "\n",
      "practice_set = pd.DataFrame({'x': [3.385, 0.48, 1.35, 465, 36.33],\n",
      "                             'y': [44.5, 15.5, 8.1, 423, 119.5]})\n",
      "\n",
      "A = np.array([[1, 1, 1, 1, 1], practice_set['x']])\n",
      "print np.linalg.inv(A.dot(A.T)).dot(A.dot(practice_set['y']))\n",
      "print\n",
      "\n",
      "model = lm.LinearRegression().fit(practice_set[['x']], practice_set['y'])\n",
      "print model.intercept_\n",
      "print model.coef_"
     ],
     "language": "python",
     "metadata": {},
     "outputs": [
      {
       "output_type": "stream",
       "stream": "stdout",
       "text": [
        "[ 37.20089608   0.83821876]\n",
        "\n",
        "37.2008960793\n",
        "[ 0.83821876]\n"
       ]
      }
     ],
     "prompt_number": 4
    },
    {
     "cell_type": "markdown",
     "metadata": {},
     "source": [
      "cost function = minimize the error"
     ]
    },
    {
     "cell_type": "markdown",
     "metadata": {},
     "source": [
      "# Practice\n",
      "1. Using one of the `Ridge()`, `Lasso()`, or `ElasticNet()` classes, write a for loop around that inserts a value for alpha, fits the model, and stores the Mean Square Error (Mean Square Error is in the metrics module of sklearn). Plot a line chart where x is the alpha parameter and y is the mean squared error. What does the line chart look like? (Use alphas between 0.1 and 0.000000000001)\n",
      "\n",
      "2. Using one of the `Ridge()`, `Lasso()`, or `ElasticNet()` classes, write a for loop around that inserts a value for alpha, fits the model, and stores the `predict()` results from the model into a DataFrame. Plot a line chart where x is the one of the X columns and y is the predicted value. What does the line chart look like? (Use alphas between 0.1 and 0.000000000001)\n",
      "\n",
      "3. Using each Regression class (all four from the above table), run a test train split, calculate the difference in $R^2$ between the test and train, and plot each result (x labels being the regression used, y being the difference in $R^2$ between test and train) Use the default alpha parameter. Which regression had the the most consistent result?"
     ]
    },
    {
     "cell_type": "code",
     "collapsed": false,
     "input": [
      "from sklearn import linear_model as lm\n",
      "from sklearn.datasets import load_boston\n",
      "\n",
      "boston = load_boston()\n",
      "desc = boston.DESCR\n",
      "bostondf = pd.DataFrame(boston.data, columns=boston.feature_names)\n",
      "y_col = 'MEDV'\n",
      "bostondf[y_col] = boston.target\n",
      "x_cols = [\n",
      "        'CRIM',\n",
      "        'ZN',\n",
      "        'INDUS',\n",
      "        'CHAS',\n",
      "        'NOX',\n",
      "        'RM',\n",
      "        'AGE',\n",
      "        'DIS',\n",
      "        'RAD',\n",
      "        'TAX',\n",
      "        'PTRATIO',\n",
      "        'B',\n",
      "        'LSTAT']\n",
      "\n",
      "model = lm.LinearRegression().fit(bostondf[x_cols], bostondf[y_col])"
     ],
     "language": "python",
     "metadata": {},
     "outputs": [],
     "prompt_number": 5
    },
    {
     "cell_type": "code",
     "collapsed": false,
     "input": [
      "from sklearn.metrics import mean_squared_error\n",
      "import pandas as pd"
     ],
     "language": "python",
     "metadata": {},
     "outputs": [],
     "prompt_number": 62
    },
    {
     "cell_type": "code",
     "collapsed": false,
     "input": [
      "rasults = []\n",
      "\n",
      "#0.1  0.000000000001\n",
      "\n",
      "for i in range(1000):\n",
      "    alpha = 0.1**i\n",
      "    model = lm.ElasticNet(alpha=alpha).fit(bostondf[x_cols], bostondf[y_col])\n",
      "    mse = mean_squared_error(y_true=bostondf[y_col], y_pred=model.predict(bostondf[x_cols]))\n",
      "    rasults.append([alpha, mse])\n",
      "    \n",
      "    #mean_squared_error = variance"
     ],
     "language": "python",
     "metadata": {},
     "outputs": [],
     "prompt_number": 40
    },
    {
     "cell_type": "code",
     "collapsed": false,
     "input": [
      "df = pd.DataFrame(rasults)\n",
      "df.columns= ['alpha', 'mse']"
     ],
     "language": "python",
     "metadata": {},
     "outputs": [],
     "prompt_number": 42
    },
    {
     "cell_type": "code",
     "collapsed": false,
     "input": [
      "df.head()"
     ],
     "language": "python",
     "metadata": {},
     "outputs": [
      {
       "html": [
        "<div style=\"max-height:1000px;max-width:1500px;overflow:auto;\">\n",
        "<table border=\"1\" class=\"dataframe\">\n",
        "  <thead>\n",
        "    <tr style=\"text-align: right;\">\n",
        "      <th></th>\n",
        "      <th>alpha</th>\n",
        "      <th>mse</th>\n",
        "    </tr>\n",
        "  </thead>\n",
        "  <tbody>\n",
        "    <tr>\n",
        "      <th>0</th>\n",
        "      <td> 1.0000</td>\n",
        "      <td> 26.499828</td>\n",
        "    </tr>\n",
        "    <tr>\n",
        "      <th>1</th>\n",
        "      <td> 0.1000</td>\n",
        "      <td> 23.163536</td>\n",
        "    </tr>\n",
        "    <tr>\n",
        "      <th>2</th>\n",
        "      <td> 0.0100</td>\n",
        "      <td> 22.321020</td>\n",
        "    </tr>\n",
        "    <tr>\n",
        "      <th>3</th>\n",
        "      <td> 0.0010</td>\n",
        "      <td> 21.919324</td>\n",
        "    </tr>\n",
        "    <tr>\n",
        "      <th>4</th>\n",
        "      <td> 0.0001</td>\n",
        "      <td> 21.898062</td>\n",
        "    </tr>\n",
        "  </tbody>\n",
        "</table>\n",
        "</div>"
       ],
       "metadata": {},
       "output_type": "pyout",
       "prompt_number": 43,
       "text": [
        "    alpha        mse\n",
        "0  1.0000  26.499828\n",
        "1  0.1000  23.163536\n",
        "2  0.0100  22.321020\n",
        "3  0.0010  21.919324\n",
        "4  0.0001  21.898062"
       ]
      }
     ],
     "prompt_number": 43
    },
    {
     "cell_type": "code",
     "collapsed": false,
     "input": [
      "df = df.sort(columns='alpha')"
     ],
     "language": "python",
     "metadata": {},
     "outputs": [],
     "prompt_number": 44
    },
    {
     "cell_type": "code",
     "collapsed": false,
     "input": [
      "df.plot(x='alpha', y='mse')"
     ],
     "language": "python",
     "metadata": {},
     "outputs": [
      {
       "metadata": {},
       "output_type": "pyout",
       "prompt_number": 45,
       "text": [
        "<matplotlib.axes._subplots.AxesSubplot at 0x1094ba1d0>"
       ]
      },
      {
       "metadata": {},
       "output_type": "display_data",
       "png": "[encoded data removed]",
       "text": [
        "<matplotlib.figure.Figure at 0x1092b5e50>"
       ]
      }
     ],
     "prompt_number": 45
    },
    {
     "cell_type": "code",
     "collapsed": false,
     "input": [
      "df."
     ],
     "language": "python",
     "metadata": {},
     "outputs": []
    },
    {
     "cell_type": "code",
     "collapsed": false,
     "input": [],
     "language": "python",
     "metadata": {},
     "outputs": []
    },
    {
     "cell_type": "code",
     "collapsed": false,
     "input": [
      "import matplotlib.pyplot as plt"
     ],
     "language": "python",
     "metadata": {},
     "outputs": [],
     "prompt_number": 47
    },
    {
     "cell_type": "code",
     "collapsed": false,
     "input": [
      "aphas = [item[0] for item in rasults]\n",
      "mses = [item[1] for item in rasults]"
     ],
     "language": "python",
     "metadata": {},
     "outputs": [],
     "prompt_number": 51
    },
    {
     "cell_type": "code",
     "collapsed": false,
     "input": [
      "plt.figure()\n",
      "\n",
      "plt.plot(aphas, mses)\n",
      "plt.xlabel('alpha')\n",
      "# plt.ylabel = 'mse'\n"
     ],
     "language": "python",
     "metadata": {},
     "outputs": [
      {
       "ename": "TypeError",
       "evalue": "'str' object is not callable",
       "output_type": "pyerr",
       "traceback": [
        "\u001b[0;31m---------------------------------------------------------------------------\u001b[0m\n\u001b[0;31mTypeError\u001b[0m                                 Traceback (most recent call last)",
        "\u001b[0;32m<ipython-input-61-9cd52ee76085>\u001b[0m in \u001b[0;36m<module>\u001b[0;34m()\u001b[0m\n\u001b[1;32m      2\u001b[0m \u001b[0;34m\u001b[0m\u001b[0m\n\u001b[1;32m      3\u001b[0m \u001b[0mplt\u001b[0m\u001b[0;34m.\u001b[0m\u001b[0mplot\u001b[0m\u001b[0;34m(\u001b[0m\u001b[0maphas\u001b[0m\u001b[0;34m,\u001b[0m \u001b[0mmses\u001b[0m\u001b[0;34m)\u001b[0m\u001b[0;34m\u001b[0m\u001b[0m\n\u001b[0;32m----> 4\u001b[0;31m \u001b[0mplt\u001b[0m\u001b[0;34m.\u001b[0m\u001b[0mxlabel\u001b[0m\u001b[0;34m(\u001b[0m\u001b[0;34m'alpha'\u001b[0m\u001b[0;34m)\u001b[0m\u001b[0;34m\u001b[0m\u001b[0m\n\u001b[0m\u001b[1;32m      5\u001b[0m \u001b[0;31m# plt.ylabel = 'mse'\u001b[0m\u001b[0;34m\u001b[0m\u001b[0;34m\u001b[0m\u001b[0m\n",
        "\u001b[0;31mTypeError\u001b[0m: 'str' object is not callable"
       ]
      },
      {
       "metadata": {},
       "output_type": "display_data",
       "png": "[encoded data removed]",
       "text": [
        "<matplotlib.figure.Figure at 0x10a7a4590>"
       ]
      }
     ],
     "prompt_number": 61
    },
    {
     "cell_type": "code",
     "collapsed": false,
     "input": [],
     "language": "python",
     "metadata": {},
     "outputs": []
    }
   ],
   "metadata": {}
  }
 ]
}