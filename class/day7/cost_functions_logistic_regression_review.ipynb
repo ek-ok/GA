{
 "metadata": {
  "name": "",
  "signature": "sha256:a22b39acf976ed447493aba4b1316adcd949e8196fee31c02e270ee5c38f9052"
 },
 "nbformat": 3,
 "nbformat_minor": 0,
 "worksheets": [
  {
   "cells": [
    {
     "cell_type": "markdown",
     "metadata": {},
     "source": [
      "# Regression Algorithm"
     ]
    },
    {
     "cell_type": "markdown",
     "metadata": {},
     "source": [
      "####Ordinary Least Squares \n",
      "<img src='http://www.strath.ac.uk/media/faculties/hass/appliededucationalresearch/mod4unit4/regression_clip_image002.jpg' style='float: left;  height: 300px;'>"
     ]
    },
    {
     "cell_type": "code",
     "collapsed": false,
     "input": [
      "import pandas as pd\n",
      "import numpy as np\n",
      "import matplotlib.pyplot as plt\n",
      "from sklearn import linear_model\n",
      "from sklearn.datasets import load_boston\n",
      "from sklearn import cross_validation\n",
      "from sklearn.metrics import metrics\n",
      "\n",
      "from __future__ import division\n",
      "pd.set_option('display.max_rows', 500)\n",
      "pd.set_option('display.max_columns', 50)\n",
      "pd.set_option('display.width', 1000)"
     ],
     "language": "python",
     "metadata": {},
     "outputs": [],
     "prompt_number": 1
    },
    {
     "cell_type": "code",
     "collapsed": false,
     "input": [
      "df[['x']]"
     ],
     "language": "python",
     "metadata": {},
     "outputs": [
      {
       "html": [
        "<div style=\"max-height:1000px;max-width:1500px;overflow:auto;\">\n",
        "<table border=\"1\" class=\"dataframe\">\n",
        "  <thead>\n",
        "    <tr style=\"text-align: right;\">\n",
        "      <th></th>\n",
        "      <th>x</th>\n",
        "    </tr>\n",
        "  </thead>\n",
        "  <tbody>\n",
        "    <tr>\n",
        "      <th>0</th>\n",
        "      <td>   3.385</td>\n",
        "    </tr>\n",
        "    <tr>\n",
        "      <th>1</th>\n",
        "      <td>   0.480</td>\n",
        "    </tr>\n",
        "    <tr>\n",
        "      <th>2</th>\n",
        "      <td>   1.350</td>\n",
        "    </tr>\n",
        "    <tr>\n",
        "      <th>3</th>\n",
        "      <td> 465.000</td>\n",
        "    </tr>\n",
        "    <tr>\n",
        "      <th>4</th>\n",
        "      <td>  36.330</td>\n",
        "    </tr>\n",
        "  </tbody>\n",
        "</table>\n",
        "</div>"
       ],
       "metadata": {},
       "output_type": "pyout",
       "prompt_number": 22,
       "text": [
        "         x\n",
        "0    3.385\n",
        "1    0.480\n",
        "2    1.350\n",
        "3  465.000\n",
        "4   36.330"
       ]
      }
     ],
     "prompt_number": 22
    },
    {
     "cell_type": "code",
     "collapsed": false,
     "input": [
      "df = pd.DataFrame({'x': [3.385, 0.48, 1.35, 465, 36.33],\n",
      "                   'y': [44.5, 15.5, 8.1, 423.2, 119.5]})\n",
      "\n",
      "\n",
      "model = linear_model.LinearRegression().fit(df[['x']], df['y']) # x: dataframe, y: series\n",
      "\n",
      "print 'intercept: ', model.intercept_\n",
      "print 'coef: ', model.coef_"
     ],
     "language": "python",
     "metadata": {},
     "outputs": [
      {
       "output_type": "stream",
       "stream": "stdout",
       "text": [
        "intercept:  37.1965686113\n",
        "coef:  [ 0.8386563]\n"
       ]
      }
     ],
     "prompt_number": 23
    },
    {
     "cell_type": "markdown",
     "metadata": {},
     "source": [
      "### Other cost techniques: Regularization\n",
      "\n",
      "* **Bias** refers to predictions that are systematically\n",
      "inaccurate. (errors in training set)\n",
      "* **Variance** refers to predictions that are generally\n",
      "inaccurate. (errors in testing set)\n",
      "\n",
      "regression | class | L1? | L2?\n",
      "-----------|-------|:-------------:|:------------:\n",
      "Ordinary Least Squares | LinearRegression() | - | -\n",
      "Ridge Regression | Ridge() | - | $\\checkmark$ \n",
      "Lasso Regression | Lasso() | $\\checkmark$ | - \n",
      "Elastic Net | ElasticNet() | $\\checkmark$ | $\\checkmark$ \n",
      "\n",
      "\n",
      "<img src='http://scott.fortmann-roe.com/docs/docs/BiasVariance/biasvariance.png' style='float: left;  height: 300px;' />"
     ]
    },
    {
     "cell_type": "code",
     "collapsed": false,
     "input": [
      "print boston.DESCR"
     ],
     "language": "python",
     "metadata": {},
     "outputs": [
      {
       "output_type": "stream",
       "stream": "stdout",
       "text": [
        "Boston House Prices dataset\n",
        "\n",
        "Notes\n",
        "------\n",
        "Data Set Characteristics:  \n",
        "\n",
        "    :Number of Instances: 506 \n",
        "\n",
        "    :Number of Attributes: 13 numeric/categorical predictive\n",
        "    \n",
        "    :Median Value (attribute 14) is usually the target\n",
        "\n",
        "    :Attribute Information (in order):\n",
        "        - CRIM     per capita crime rate by town\n",
        "        - ZN       proportion of residential land zoned for lots over 25,000 sq.ft.\n",
        "        - INDUS    proportion of non-retail business acres per town\n",
        "        - CHAS     Charles River dummy variable (= 1 if tract bounds river; 0 otherwise)\n",
        "        - NOX      nitric oxides concentration (parts per 10 million)\n",
        "        - RM       average number of rooms per dwelling\n",
        "        - AGE      proportion of owner-occupied units built prior to 1940\n",
        "        - DIS      weighted distances to five Boston employment centres\n",
        "        - RAD      index of accessibility to radial highways\n",
        "        - TAX      full-value property-tax rate per $10,000\n",
        "        - PTRATIO  pupil-teacher ratio by town\n",
        "        - B        1000(Bk - 0.63)^2 where Bk is the proportion of blacks by town\n",
        "        - LSTAT    % lower status of the population\n",
        "        - MEDV     Median value of owner-occupied homes in $1000's\n",
        "\n",
        "    :Missing Attribute Values: None\n",
        "\n",
        "    :Creator: Harrison, D. and Rubinfeld, D.L.\n",
        "\n",
        "This is a copy of UCI ML housing dataset.\n",
        "http://archive.ics.uci.edu/ml/datasets/Housing\n",
        "\n",
        "\n",
        "This dataset was taken from the StatLib library which is maintained at Carnegie Mellon University.\n",
        "\n",
        "The Boston house-price data of Harrison, D. and Rubinfeld, D.L. 'Hedonic\n",
        "prices and the demand for clean air', J. Environ. Economics & Management,\n",
        "vol.5, 81-102, 1978.   Used in Belsley, Kuh & Welsch, 'Regression diagnostics\n",
        "...', Wiley, 1980.   N.B. Various transformations are used in the table on\n",
        "pages 244-261 of the latter.\n",
        "\n",
        "The Boston house-price data has been used in many machine learning papers that address regression\n",
        "problems.   \n",
        "     \n",
        "**References**\n",
        "\n",
        "   - Belsley, Kuh & Welsch, 'Regression diagnostics: Identifying Influential Data and Sources of Collinearity', Wiley, 1980. 244-261.\n",
        "   - Quinlan,R. (1993). Combining Instance-Based and Model-Based Learning. In Proceedings on the Tenth International Conference of Machine Learning, 236-243, University of Massachusetts, Amherst. Morgan Kaufmann.\n",
        "   - many more! (see http://archive.ics.uci.edu/ml/datasets/Housing)\n",
        "\n"
       ]
      }
     ],
     "prompt_number": 21
    },
    {
     "cell_type": "code",
     "collapsed": false,
     "input": [
      "boston = load_boston()\n",
      "boston_df = pd.DataFrame(boston.data, columns=boston.feature_names)\n",
      "boston_df['MEDV'] = boston.target"
     ],
     "language": "python",
     "metadata": {},
     "outputs": [],
     "prompt_number": 2
    },
    {
     "cell_type": "code",
     "collapsed": false,
     "input": [
      "x_cols = ['CRIM','ZN','INDUS','CHAS','NOX','RM','AGE','DIS','RAD','TAX','PTRATIO','B','LSTAT']\n",
      "\n",
      "x_train, x_test, y_train, y_test =  cross_validation.train_test_split(boston_df[x_cols], \n",
      "                                                                      boston_df['MEDV'], \n",
      "                                                                      test_size=0.33, \n",
      "                                                                      random_state=1234)"
     ],
     "language": "python",
     "metadata": {},
     "outputs": [],
     "prompt_number": 3
    },
    {
     "cell_type": "code",
     "collapsed": false,
     "input": [
      "# LinearRegression\n",
      "model = linear_model.LinearRegression().fit(x_train, y_train)\n",
      "model.score(x_test, y_test)"
     ],
     "language": "python",
     "metadata": {},
     "outputs": [
      {
       "metadata": {},
       "output_type": "pyout",
       "prompt_number": 4,
       "text": [
        "0.73706537795538463"
       ]
      }
     ],
     "prompt_number": 4
    },
    {
     "cell_type": "code",
     "collapsed": false,
     "input": [
      "# Ridge\n",
      "model = linear_model.Ridge().fit(x_train, y_train)\n",
      "model.score(x_test, y_test)"
     ],
     "language": "python",
     "metadata": {},
     "outputs": [
      {
       "metadata": {},
       "output_type": "pyout",
       "prompt_number": 5,
       "text": [
        "0.74383068363723936"
       ]
      }
     ],
     "prompt_number": 5
    },
    {
     "cell_type": "code",
     "collapsed": false,
     "input": [
      "# Lasso\n",
      "model = linear_model.Lasso().fit(x_train, y_train)\n",
      "model.score(x_test, y_test)"
     ],
     "language": "python",
     "metadata": {},
     "outputs": [
      {
       "metadata": {},
       "output_type": "pyout",
       "prompt_number": 6,
       "text": [
        "0.6570852070369777"
       ]
      }
     ],
     "prompt_number": 6
    },
    {
     "cell_type": "code",
     "collapsed": false,
     "input": [
      "# ElasticNet\n",
      "model = linear_model.ElasticNet().fit(x_train, y_train)\n",
      "model.score(x_test, y_test)"
     ],
     "language": "python",
     "metadata": {},
     "outputs": [
      {
       "metadata": {},
       "output_type": "pyout",
       "prompt_number": 7,
       "text": [
        "0.67663314799898622"
       ]
      }
     ],
     "prompt_number": 7
    },
    {
     "cell_type": "markdown",
     "metadata": {},
     "source": [
      "1. Using one of the Ridge(), Lasso(), or ElasticNet() classes, write a for loop around that inserts a value for alpha, fits the model, and stores the Mean Square Error (Mean Square Error is in the metrics module of sklearn). Plot a line chart where x is the alpha parameter and y is the mean squared error. What does the line chart look like? (Use alphas between 0.1 and 0.000000000001)"
     ]
    },
    {
     "cell_type": "code",
     "collapsed": false,
     "input": [
      "alphas = []\n",
      "mses = []\n",
      "for i in xrange(1, 100):\n",
      "    alpha = 0.1**i\n",
      "    model = linear_model.ElasticNet(alpha=alpha).fit(x_train, y_train)    \n",
      "    mse = metrics.mean_squared_error(y_true=y_test, y_pred=model.predict(x_test))\n",
      "    alphas.append(alpha)\n",
      "    mses.append(mse)\n",
      "\n",
      "fig, ax = plt.subplots(nrows=1, ncols=2)\n",
      "# ax[0].set_xscale('log')\n",
      "ax[0].plot(alphas, mses, '-')\n",
      "ax[0].set_xlabel('alpha', fontsize=12)\n",
      "ax[0].set_ylabel('MSE', fontsize=12)\n",
      "ax[0].set_title('MSE for Test Set')\n",
      "\n",
      "\n",
      "alphas = []\n",
      "mses = []\n",
      "for i in xrange(1, 100):\n",
      "    alpha = 0.1**i\n",
      "    model = linear_model.ElasticNet(alpha=alpha).fit(x_train, y_train)    \n",
      "    mse = metrics.mean_squared_error(y_true=y_train, y_pred=model.predict(x_train))\n",
      "    alphas.append(alpha)\n",
      "    mses.append(mse)\n",
      "    \n",
      "ax[1].plot(alphas, mses, '-')\n",
      "ax[1].set_xlabel('alpha', fontsize=12)\n",
      "ax[1].set_ylabel('MSE', fontsize=12)\n",
      "ax[1].set_title('MSE for Train Set')"
     ],
     "language": "python",
     "metadata": {},
     "outputs": [
      {
       "metadata": {},
       "output_type": "pyout",
       "prompt_number": 14,
       "text": [
        "<matplotlib.text.Text at 0x10a808e50>"
       ]
      },
      {
       "metadata": {},
       "output_type": "display_data",
       "png": "[encoded data removed]",
       "text": [
        "<matplotlib.figure.Figure at 0x109380ad0>"
       ]
      }
     ],
     "prompt_number": 14
    },
    {
     "cell_type": "code",
     "collapsed": false,
     "input": [],
     "language": "python",
     "metadata": {},
     "outputs": []
    }
   ],
   "metadata": {}
  }
 ]
}