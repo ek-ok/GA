{
 "metadata": {
  "name": "",
  "signature": "sha256:be794a8130ccd309e222261f3bd1258661ef9624155ff84325c168c3ca5628b8"
 },
 "nbformat": 3,
 "nbformat_minor": 0,
 "worksheets": [
  {
   "cells": [
    {
     "cell_type": "markdown",
     "metadata": {},
     "source": [
      "# Expected Value"
     ]
    },
    {
     "cell_type": "code",
     "collapsed": false,
     "input": [
      "import numpy as np\n",
      "def find_expected_value(confusion, cost_benefit):\n",
      "    # if you use a probability matrix instead, this next line will return the same matrix back\n",
      "    probabilities = confusion.astype('float') / confusion.sum()\n",
      "    return (probabilities * cost_benefit.astype('float')).sum()\n",
      "\n",
      "cb = np.array([[45.0, -30.0], [0, 0]])"
     ],
     "language": "python",
     "metadata": {},
     "outputs": [],
     "prompt_number": 1
    },
    {
     "cell_type": "code",
     "collapsed": false,
     "input": [
      "conf = np.array([[45423, 13041], [98724, 12324]])\n",
      "print find_expected_value(conf, cb)"
     ],
     "language": "python",
     "metadata": {},
     "outputs": [
      {
       "output_type": "stream",
       "stream": "stdout",
       "text": [
        "9.7503716551\n"
       ]
      }
     ],
     "prompt_number": 2
    },
    {
     "cell_type": "code",
     "collapsed": false,
     "input": [
      "# computed AUC comes out to be 0.64\n",
      "lemons_confusion = np.array([[292, 66], [5997, 44733]])\n",
      "lemons_cb = np.array([[0, 0], [-6278.22, 672.82]])\n",
      "\n",
      "print find_expected_value(lemons_confusion, lemons_cb)"
     ],
     "language": "python",
     "metadata": {},
     "outputs": [
      {
       "output_type": "stream",
       "stream": "stdout",
       "text": [
        "-147.847406044\n"
       ]
      }
     ],
     "prompt_number": 4
    },
    {
     "cell_type": "code",
     "collapsed": false,
     "input": [],
     "language": "python",
     "metadata": {},
     "outputs": []
    }
   ],
   "metadata": {}
  }
 ]
}