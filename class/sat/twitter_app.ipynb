{
 "metadata": {
  "name": "",
  "signature": "sha256:46f3ca42cdb58c97dec1ff0e23ead406a29fb3410b0416254a66cab415fd6cd8"
 },
 "nbformat": 3,
 "nbformat_minor": 0,
 "worksheets": [
  {
   "cells": [
    {
     "cell_type": "code",
     "collapsed": false,
     "input": [
      "import time\n",
      "from tweepy import Stream\n",
      "from tweepy import OAuthHandler\n",
      "from tweepy.streaming import StreamListener"
     ],
     "language": "python",
     "metadata": {},
     "outputs": [],
     "prompt_number": 1
    },
    {
     "cell_type": "code",
     "collapsed": false,
     "input": [
      "CONSUMER_KEY = \"yl6fDZJZxXCZscBQxmH8KKXqh\"\n",
      "CONSUMER_SECRET = \"a8LWBzTUohdAmlnO7vs2kdg95lmZW6jJ9VjsKl1oInBBim8rfT\"\n",
      "ACCESS_TOKEN = \"14528430-L0mwyido8KjccufvN958Eh46KmDJ7QRPpSd9JtZht\"\n",
      "ACCESS_SECRET = \"jJZ2CKcjawRGCdBNYQLjjHgAUA8BeNwnpWvB69z6smTC1\""
     ],
     "language": "python",
     "metadata": {},
     "outputs": [],
     "prompt_number": 2
    },
    {
     "cell_type": "code",
     "collapsed": false,
     "input": [
      "# define our Listener Class\n",
      "\n",
      "class listener(StreamListener):\n",
      "    def on_data(self,data):\n",
      "        try:\n",
      "            # Let's see what happens when we print everything out ?\n",
      "            #print data\n",
      "            \n",
      "            # Get Tweet\n",
      "            tweet = data.split(',\"text\":\"')[1].split('\",\"source')[0]\n",
      "            \n",
      "            #Get Location\n",
      "            local = data.split(',\"location\":\"')[1].split('\",\"url')[0]\n",
      "            \n",
      "            #Get Timestamp\n",
      "            time = data.split(',\"timestamp_ms\":\"')[1]\n",
      "            time = time.replace(\"}\",\"\")\n",
      "            \n",
      "            print tweet\n",
      "            print '\\n'\n",
      "            print local\n",
      "            print '\\n',\n",
      "            print time\n",
      "            print '\\n'\n",
      "        \n",
      "            return True\n",
      "        \n",
      "        except BaseException, e:\n",
      "            print 'failed ondata,',str(e)\n",
      "            time.sleep(5)\n",
      "            \n",
      "    def on_error(self, status):\n",
      "        print status"
     ],
     "language": "python",
     "metadata": {},
     "outputs": [],
     "prompt_number": 14
    },
    {
     "cell_type": "code",
     "collapsed": false,
     "input": [
      "# Authorize yourself           \n",
      "auth = OAuthHandler(CONSUMER_KEY, CONSUMER_SECRET)\n",
      "auth.set_access_token(ACCESS_TOKEN, ACCESS_SECRET)\n",
      "twitterStream = Stream(auth, listener())\n",
      "data = twitterStream.filter(track=[\"left shark\"])\n",
      "\n",
      "saveFile.close()"
     ],
     "language": "python",
     "metadata": {},
     "outputs": [
      {
       "output_type": "stream",
       "stream": "stdout",
       "text": [
        "RT @meanpIastic: The shark on the left had no idea what it was doing \\ud83d\\ude02 https:\\/\\/t.co\\/82NSMKqO9a\n",
        "\n",
        "\n",
        "\n",
        "\n",
        "1423326135731\"\r\n",
        "\n",
        "\n",
        "\n",
        "RT @HomebrewedDwarf: Can we get a left shark skin for Murky in @BlizzHeroes?"
       ]
      },
      {
       "output_type": "stream",
       "stream": "stdout",
       "text": [
        "\n",
        "\n",
        "\n",
        "Chile\n",
        "\n",
        "1423326140509\"\r\n",
        "\n",
        "\n",
        "\n",
        "RT @NatShupe: Brian Williams reports he was the left shark at the Super Bowl then #BrianWilliamsMisremembers http:\\/\\/t.co\\/tp7Og1ruBy"
       ]
      },
      {
       "output_type": "stream",
       "stream": "stdout",
       "text": [
        "\n",
        "\n",
        "\n",
        "Los Angeles\\/Lexington\\/Durban\n",
        "\n",
        "1423326148019\"\r\n",
        "\n",
        "\n",
        "\n",
        "RT @aeportugal: Abogados de Katy Perry demandan a un vendedor de figuras de Left Shark impresas en 3D https:\\/\\/t.co\\/Qmhxctm8m3 http:\\/\\/t.co\\/i\\u2026"
       ]
      },
      {
       "output_type": "stream",
       "stream": "stdout",
       "text": [
        "\n",
        "\n",
        "\n",
        "CELAYA\n",
        "\n",
        "1423326155701\"\r\n",
        "\n",
        "\n",
        "\n",
        "HERE u go Bernard @TheImusShow #BrianWilliams reports he was left shark #SuperBowl then #BrianWilliamsMisremembers http:\\/\\/t.co\\/pepbpuMRAH"
       ]
      },
      {
       "output_type": "stream",
       "stream": "stdout",
       "text": [
        "\n",
        "\n",
        "\n",
        "\n",
        "\n",
        "1423326157620\"\r\n",
        "\n",
        "\n",
        "\n",
        "RT @meanpIastic: The shark on the left had no idea what it was doing \\ud83d\\ude02 https:\\/\\/t.co\\/82NSMKqO9a"
       ]
      },
      {
       "output_type": "stream",
       "stream": "stdout",
       "text": [
        "\n",
        "\n",
        "\n",
        "\n",
        "\n",
        "1423326158763\"\r\n",
        "\n",
        "\n",
        "\n",
        "@katieemoreiraa @KardashianReact good thing I'm left shark"
       ]
      },
      {
       "output_type": "stream",
       "stream": "stdout",
       "text": [
        "\n",
        "\n",
        "\n",
        "\n",
        "\n",
        "1423326188774\"\r\n",
        "\n",
        "\n",
        "\n",
        "People are such media \\/ attention whores these days. Who gives a shit about the left shark who danced with Katy... http:\\/\\/t.co\\/wf9F7EGmpL"
       ]
      },
      {
       "output_type": "stream",
       "stream": "stdout",
       "text": [
        "\n",
        "\n",
        "\n",
        "iPhone: 38.452534,-121.438828\n",
        "\n",
        "1423326195920\"\r\n",
        "\n",
        "\n",
        "\n",
        "RT @NatShupe: Brian Williams reports he was the left shark at the Super Bowl then #BrianWilliamsMisremembers http:\\/\\/t.co\\/tp7Og1ruBy"
       ]
      },
      {
       "output_type": "stream",
       "stream": "stdout",
       "text": [
        "\n",
        "\n",
        "\n",
        "HOPE IS CHANGE!    \n",
        "\n",
        "1423326217224\"\r\n",
        "\n",
        "\n",
        "\n",
        "RT @NatShupe: Brian Williams reports he was the left shark at the Super Bowl then #BrianWilliamsMisremembers http:\\/\\/t.co\\/tp7Og1ruBy"
       ]
      },
      {
       "output_type": "stream",
       "stream": "stdout",
       "text": [
        "\n",
        "\n",
        "\n",
        "Cocoa Beach, Fla\n",
        "\n",
        "1423326242172\"\r\n",
        "\n",
        "\n",
        "\n",
        "RT @Jenna_Marbles: Left shark = life shark."
       ]
      },
      {
       "output_type": "stream",
       "stream": "stdout",
       "text": [
        "\n",
        "\n",
        "\n",
        "\n",
        "\n",
        "1423326254010\"\r\n",
        "\n",
        "\n",
        "\n",
        "RT @VH1: Best New Artist: Left Shark #GrammysIn5Words http:\\/\\/t.co\\/MeMe5nfHPk"
       ]
      },
      {
       "output_type": "stream",
       "stream": "stdout",
       "text": [
        "\n",
        "\n",
        "\n",
        "\n",
        "\n",
        "1423326256752\"\r\n",
        "\n",
        "\n",
        "\n",
        "RT @Radiolab: So apparently the 3D printing IP wars are going to be about Left Shark. http:\\/\\/t.co\\/gWlwWliKaK http:\\/\\/t.co\\/25hOi7DTjy"
       ]
      },
      {
       "output_type": "stream",
       "stream": "stdout",
       "text": [
        "\n",
        "\n",
        "\n",
        "Maywood, NJ\n",
        "\n",
        "1423326270772\"\r\n",
        "\n",
        "\n",
        "\n",
        "Katy Perry's Left Shark Merchandise In Legal Battle [Video] http:\\/\\/t.co\\/KcLN0PGt9T"
       ]
      },
      {
       "output_type": "stream",
       "stream": "stdout",
       "text": [
        "\n",
        "\n",
        "\n",
        "\n",
        "\n",
        "1423326271069\"\r\n",
        "\n",
        "\n",
        "\n",
        "RT @NatShupe: Brian Williams reports he was the left shark at the Super Bowl then #BrianWilliamsMisremembers http:\\/\\/t.co\\/tp7Og1ruBy"
       ]
      },
      {
       "output_type": "stream",
       "stream": "stdout",
       "text": [
        "\n",
        "\n",
        "\n",
        "Indianapolis\n",
        "\n",
        "1423326272282\"\r\n",
        "\n",
        "\n",
        "\n",
        "RT @NatShupe: Brian Williams reports he was the left shark at the Super Bowl then #BrianWilliamsMisremembers http:\\/\\/t.co\\/tp7Og1ruBy"
       ]
      },
      {
       "output_type": "stream",
       "stream": "stdout",
       "text": [
        "\n",
        "\n",
        "\n",
        "\n",
        "\n",
        "1423326291226\"\r\n",
        "\n",
        "\n",
        "\n",
        "RT @rua_370: [Request] Can someone make me a cartoon \\\"left shark\\\" cellphone wallpap http:\\/\\/t.co\\/7cPdzzqJka http:\\/\\/t.co\\/R3eDCDzXnE"
       ]
      },
      {
       "output_type": "stream",
       "stream": "stdout",
       "text": [
        "\n",
        "\n",
        "\n",
        "\n",
        "\n",
        "1423326307050\"\r\n",
        "\n",
        "\n",
        "\n",
        "Left Shark may get all the love, but we like the matching sneakers on the backup beach-goers http:\\/\\/t.co\\/AJV4twjl2h http:\\/\\/t.co\\/s9n9d8j7w8"
       ]
      },
      {
       "output_type": "stream",
       "stream": "stdout",
       "text": [
        "\n",
        "\n",
        "\n",
        "Wherever the scoop is\n",
        "\n",
        "1423326308724\"\r\n",
        "\n",
        "\n",
        "\n",
        "RT @AWEsome__Brenda: Brian Williams reports he was the left shark at the Super Bowl then #BrianWilliamsMisremembers http:\\/\\/t.co\\/SmF7lmJr1O \\u2026"
       ]
      },
      {
       "output_type": "stream",
       "stream": "stdout",
       "text": [
        "\n",
        "\n",
        "\n",
        "new york city\n",
        "\n",
        "1423326316678\"\r\n",
        "\n",
        "\n",
        "\n",
        "RT @KatyPerry_Shark: The shark on the left had no idea what it was doing \\ud83d\\ude02 https:\\/\\/t.co\\/HJtHDsMoFh"
       ]
      },
      {
       "output_type": "stream",
       "stream": "stdout",
       "text": [
        "\n",
        "\n",
        "\n",
        "\n",
        "\n",
        "1423326319899\"\r\n",
        "\n",
        "\n",
        "\n",
        "Pretty sad that Katy Perry feels the need to put a lawyer on the left shark. She's just mad it performed better than she did \\ud83d\\ude02\\ud83d\\ude02"
       ]
      },
      {
       "output_type": "stream",
       "stream": "stdout",
       "text": [
        "\n",
        "\n",
        "\n",
        "\n",
        "\n",
        "1423326325553\"\r\n",
        "\n",
        "\n",
        "\n",
        "RT @NatShupe: Brian Williams reports he was the left shark at the Super Bowl then #BrianWilliamsMisremembers http:\\/\\/t.co\\/tp7Og1ruBy"
       ]
      },
      {
       "output_type": "stream",
       "stream": "stdout",
       "text": [
        "\n",
        "\n",
        "\n",
        "North Carolina\n",
        "\n",
        "1423326328696\"\r\n",
        "\n",
        "\n",
        "\n",
        "\\u201c@Radiolab: So apparently the 3D printing IP wars are going to be about Left Shark. http:\\/\\/t.co\\/wgWZWVGaqd http:\\/\\/t.co\\/SODaUIyj6l\\u201d"
       ]
      },
      {
       "output_type": "stream",
       "stream": "stdout",
       "text": [
        "\n",
        "\n",
        "\n",
        "\n",
        "\n",
        "1423326331142\"\r\n",
        "\n",
        "\n",
        "\n",
        "RT @NatShupe: Brian Williams reports he was the left shark at the Super Bowl then #BrianWilliamsMisremembers http:\\/\\/t.co\\/tp7Og1ruBy"
       ]
      },
      {
       "output_type": "stream",
       "stream": "stdout",
       "text": [
        "\n",
        "\n",
        "\n",
        "\n",
        "\n",
        "1423326331901\"\r\n",
        "\n",
        "\n",
        "\n",
        "RT @NatShupe: Brian Williams reports he was the left shark at the Super Bowl then #BrianWilliamsMisremembers http:\\/\\/t.co\\/tp7Og1ruBy"
       ]
      },
      {
       "output_type": "stream",
       "stream": "stdout",
       "text": [
        "\n",
        "\n",
        "\n",
        "in your head\n",
        "\n",
        "1423326339379\"\r\n",
        "\n",
        "\n",
        "\n",
        "On @country95 today at noon. I'm dressing up as the left shark from the Super Bowl."
       ]
      },
      {
       "output_type": "stream",
       "stream": "stdout",
       "text": [
        "\n",
        "\n",
        "\n",
        "Lethbridge, AB, Canada\n",
        "\n",
        "1423326356500\"\r\n",
        "\n",
        "\n",
        "\n",
        "RT @NatShupe: Brian Williams reports he was the left shark at the Super Bowl then #BrianWilliamsMisremembers http:\\/\\/t.co\\/tp7Og1ruBy"
       ]
      },
      {
       "output_type": "stream",
       "stream": "stdout",
       "text": [
        "\n",
        "\n",
        "\n",
        "\n",
        "\n",
        "1423326364799\"\r\n",
        "\n",
        "\n",
        "\n",
        "\\u201c@JordanInBoston: Left sharked my way through college. \\u201c@fivefifths: I'm always the left shark https:\\/\\/t.co\\/utNHm0gY7o\\u201d\\u201d damn straight"
       ]
      },
      {
       "output_type": "stream",
       "stream": "stdout",
       "text": [
        "\n",
        "\n",
        "\n",
        "CONNEWYORKTICUT\n",
        "\n",
        "1423326383053\"\r\n",
        "\n",
        "\n",
        "\n",
        "Just saw left shark on college gameday."
       ]
      },
      {
       "output_type": "stream",
       "stream": "stdout",
       "text": [
        "\n",
        "\n",
        "\n",
        "Tampa\n",
        "\n",
        "1423326383637\"\r\n",
        "\n",
        "\n",
        "\n",
        "RT @WorldStarComedy: The shark on the left had no idea what it was doing \\ud83d\\ude02 https:\\/\\/t.co\\/4Ib9Mb6ukm"
       ]
      },
      {
       "output_type": "stream",
       "stream": "stdout",
       "text": [
        "\n",
        "\n",
        "\n",
        "\n",
        "\n",
        "1423326391636\"\r\n",
        "\n",
        "\n",
        "\n"
       ]
      },
      {
       "ename": "KeyboardInterrupt",
       "evalue": "",
       "output_type": "pyerr",
       "traceback": [
        "\u001b[0;31m---------------------------------------------------------------------------\u001b[0m\n\u001b[0;31mKeyboardInterrupt\u001b[0m                         Traceback (most recent call last)",
        "\u001b[0;32m<ipython-input-15-1563ac677a4f>\u001b[0m in \u001b[0;36m<module>\u001b[0;34m()\u001b[0m\n\u001b[1;32m      3\u001b[0m \u001b[0mauth\u001b[0m\u001b[0;34m.\u001b[0m\u001b[0mset_access_token\u001b[0m\u001b[0;34m(\u001b[0m\u001b[0mACCESS_TOKEN\u001b[0m\u001b[0;34m,\u001b[0m \u001b[0mACCESS_SECRET\u001b[0m\u001b[0;34m)\u001b[0m\u001b[0;34m\u001b[0m\u001b[0m\n\u001b[1;32m      4\u001b[0m \u001b[0mtwitterStream\u001b[0m \u001b[0;34m=\u001b[0m \u001b[0mStream\u001b[0m\u001b[0;34m(\u001b[0m\u001b[0mauth\u001b[0m\u001b[0;34m,\u001b[0m \u001b[0mlistener\u001b[0m\u001b[0;34m(\u001b[0m\u001b[0;34m)\u001b[0m\u001b[0;34m)\u001b[0m\u001b[0;34m\u001b[0m\u001b[0m\n\u001b[0;32m----> 5\u001b[0;31m \u001b[0mdata\u001b[0m \u001b[0;34m=\u001b[0m \u001b[0mtwitterStream\u001b[0m\u001b[0;34m.\u001b[0m\u001b[0mfilter\u001b[0m\u001b[0;34m(\u001b[0m\u001b[0mtrack\u001b[0m\u001b[0;34m=\u001b[0m\u001b[0;34m[\u001b[0m\u001b[0;34m\"left shark\"\u001b[0m\u001b[0;34m]\u001b[0m\u001b[0;34m)\u001b[0m\u001b[0;34m\u001b[0m\u001b[0m\n\u001b[0m\u001b[1;32m      6\u001b[0m \u001b[0;34m\u001b[0m\u001b[0m\n\u001b[1;32m      7\u001b[0m \u001b[0msaveFile\u001b[0m\u001b[0;34m.\u001b[0m\u001b[0mclose\u001b[0m\u001b[0;34m(\u001b[0m\u001b[0;34m)\u001b[0m\u001b[0;34m\u001b[0m\u001b[0m\n",
        "\u001b[0;32m/Users/Ikkei/anaconda/lib/python2.7/site-packages/tweepy/streaming.pyc\u001b[0m in \u001b[0;36mfilter\u001b[0;34m(self, follow, track, async, locations, stall_warnings, languages, encoding)\u001b[0m\n\u001b[1;32m    419\u001b[0m         \u001b[0mself\u001b[0m\u001b[0;34m.\u001b[0m\u001b[0msession\u001b[0m\u001b[0;34m.\u001b[0m\u001b[0mparams\u001b[0m \u001b[0;34m=\u001b[0m \u001b[0;34m{\u001b[0m\u001b[0;34m'delimited'\u001b[0m\u001b[0;34m:\u001b[0m \u001b[0;34m'length'\u001b[0m\u001b[0;34m}\u001b[0m\u001b[0;34m\u001b[0m\u001b[0m\n\u001b[1;32m    420\u001b[0m         \u001b[0mself\u001b[0m\u001b[0;34m.\u001b[0m\u001b[0mhost\u001b[0m \u001b[0;34m=\u001b[0m \u001b[0;34m'stream.twitter.com'\u001b[0m\u001b[0;34m\u001b[0m\u001b[0m\n\u001b[0;32m--> 421\u001b[0;31m         \u001b[0mself\u001b[0m\u001b[0;34m.\u001b[0m\u001b[0m_start\u001b[0m\u001b[0;34m(\u001b[0m\u001b[0masync\u001b[0m\u001b[0;34m)\u001b[0m\u001b[0;34m\u001b[0m\u001b[0m\n\u001b[0m\u001b[1;32m    422\u001b[0m \u001b[0;34m\u001b[0m\u001b[0m\n\u001b[1;32m    423\u001b[0m     def sitestream(self, follow, stall_warnings=False,\n",
        "\u001b[0;32m/Users/Ikkei/anaconda/lib/python2.7/site-packages/tweepy/streaming.pyc\u001b[0m in \u001b[0;36m_start\u001b[0;34m(self, async)\u001b[0m\n\u001b[1;32m    336\u001b[0m             \u001b[0mself\u001b[0m\u001b[0;34m.\u001b[0m\u001b[0m_thread\u001b[0m\u001b[0;34m.\u001b[0m\u001b[0mstart\u001b[0m\u001b[0;34m(\u001b[0m\u001b[0;34m)\u001b[0m\u001b[0;34m\u001b[0m\u001b[0m\n\u001b[1;32m    337\u001b[0m         \u001b[0;32melse\u001b[0m\u001b[0;34m:\u001b[0m\u001b[0;34m\u001b[0m\u001b[0m\n\u001b[0;32m--> 338\u001b[0;31m             \u001b[0mself\u001b[0m\u001b[0;34m.\u001b[0m\u001b[0m_run\u001b[0m\u001b[0;34m(\u001b[0m\u001b[0;34m)\u001b[0m\u001b[0;34m\u001b[0m\u001b[0m\n\u001b[0m\u001b[1;32m    339\u001b[0m \u001b[0;34m\u001b[0m\u001b[0m\n\u001b[1;32m    340\u001b[0m     \u001b[0;32mdef\u001b[0m \u001b[0mon_closed\u001b[0m\u001b[0;34m(\u001b[0m\u001b[0mself\u001b[0m\u001b[0;34m,\u001b[0m \u001b[0mresp\u001b[0m\u001b[0;34m)\u001b[0m\u001b[0;34m:\u001b[0m\u001b[0;34m\u001b[0m\u001b[0m\n",
        "\u001b[0;32m/Users/Ikkei/anaconda/lib/python2.7/site-packages/tweepy/streaming.pyc\u001b[0m in \u001b[0;36m_run\u001b[0;34m(self)\u001b[0m\n\u001b[1;32m    245\u001b[0m                     \u001b[0mself\u001b[0m\u001b[0;34m.\u001b[0m\u001b[0msnooze_time\u001b[0m \u001b[0;34m=\u001b[0m \u001b[0mself\u001b[0m\u001b[0;34m.\u001b[0m\u001b[0msnooze_time_step\u001b[0m\u001b[0;34m\u001b[0m\u001b[0m\n\u001b[1;32m    246\u001b[0m                     \u001b[0mself\u001b[0m\u001b[0;34m.\u001b[0m\u001b[0mlistener\u001b[0m\u001b[0;34m.\u001b[0m\u001b[0mon_connect\u001b[0m\u001b[0;34m(\u001b[0m\u001b[0;34m)\u001b[0m\u001b[0;34m\u001b[0m\u001b[0m\n\u001b[0;32m--> 247\u001b[0;31m                     \u001b[0mself\u001b[0m\u001b[0;34m.\u001b[0m\u001b[0m_read_loop\u001b[0m\u001b[0;34m(\u001b[0m\u001b[0mresp\u001b[0m\u001b[0;34m)\u001b[0m\u001b[0;34m\u001b[0m\u001b[0m\n\u001b[0m\u001b[1;32m    248\u001b[0m             \u001b[0;32mexcept\u001b[0m \u001b[0;34m(\u001b[0m\u001b[0mTimeout\u001b[0m\u001b[0;34m,\u001b[0m \u001b[0mssl\u001b[0m\u001b[0;34m.\u001b[0m\u001b[0mSSLError\u001b[0m\u001b[0;34m)\u001b[0m \u001b[0;32mas\u001b[0m \u001b[0mexc\u001b[0m\u001b[0;34m:\u001b[0m\u001b[0;34m\u001b[0m\u001b[0m\n\u001b[1;32m    249\u001b[0m                 \u001b[0;31m# This is still necessary, as a SSLError can actually be\u001b[0m\u001b[0;34m\u001b[0m\u001b[0;34m\u001b[0m\u001b[0m\n",
        "\u001b[0;32m/Users/Ikkei/anaconda/lib/python2.7/site-packages/tweepy/streaming.pyc\u001b[0m in \u001b[0;36m_read_loop\u001b[0;34m(self, resp)\u001b[0m\n\u001b[1;32m    288\u001b[0m             \u001b[0mlength\u001b[0m \u001b[0;34m=\u001b[0m \u001b[0;36m0\u001b[0m\u001b[0;34m\u001b[0m\u001b[0m\n\u001b[1;32m    289\u001b[0m             \u001b[0;32mwhile\u001b[0m \u001b[0mTrue\u001b[0m\u001b[0;34m:\u001b[0m\u001b[0;34m\u001b[0m\u001b[0m\n\u001b[0;32m--> 290\u001b[0;31m                 \u001b[0mline\u001b[0m \u001b[0;34m=\u001b[0m \u001b[0mbuf\u001b[0m\u001b[0;34m.\u001b[0m\u001b[0mread_line\u001b[0m\u001b[0;34m(\u001b[0m\u001b[0;34m)\u001b[0m\u001b[0;34m.\u001b[0m\u001b[0mstrip\u001b[0m\u001b[0;34m(\u001b[0m\u001b[0;34m)\u001b[0m\u001b[0;34m\u001b[0m\u001b[0m\n\u001b[0m\u001b[1;32m    291\u001b[0m                 \u001b[0;32mif\u001b[0m \u001b[0;32mnot\u001b[0m \u001b[0mline\u001b[0m\u001b[0;34m:\u001b[0m\u001b[0;34m\u001b[0m\u001b[0m\n\u001b[1;32m    292\u001b[0m                     \u001b[0;32mpass\u001b[0m  \u001b[0;31m# keep-alive new lines are expected\u001b[0m\u001b[0;34m\u001b[0m\u001b[0m\n",
        "\u001b[0;32m/Users/Ikkei/anaconda/lib/python2.7/site-packages/tweepy/streaming.pyc\u001b[0m in \u001b[0;36mread_line\u001b[0;34m(self, sep)\u001b[0m\n\u001b[1;32m    165\u001b[0m             \u001b[0;32melse\u001b[0m\u001b[0;34m:\u001b[0m\u001b[0;34m\u001b[0m\u001b[0m\n\u001b[1;32m    166\u001b[0m                 \u001b[0mstart\u001b[0m \u001b[0;34m=\u001b[0m \u001b[0mlen\u001b[0m\u001b[0;34m(\u001b[0m\u001b[0mself\u001b[0m\u001b[0;34m.\u001b[0m\u001b[0m_buffer\u001b[0m\u001b[0;34m)\u001b[0m\u001b[0;34m\u001b[0m\u001b[0m\n\u001b[0;32m--> 167\u001b[0;31m             \u001b[0mself\u001b[0m\u001b[0;34m.\u001b[0m\u001b[0m_buffer\u001b[0m \u001b[0;34m+=\u001b[0m \u001b[0mself\u001b[0m\u001b[0;34m.\u001b[0m\u001b[0m_stream\u001b[0m\u001b[0;34m.\u001b[0m\u001b[0mread\u001b[0m\u001b[0;34m(\u001b[0m\u001b[0mself\u001b[0m\u001b[0;34m.\u001b[0m\u001b[0m_chunk_size\u001b[0m\u001b[0;34m)\u001b[0m\u001b[0;34m.\u001b[0m\u001b[0mdecode\u001b[0m\u001b[0;34m(\u001b[0m\u001b[0;34m\"ascii\"\u001b[0m\u001b[0;34m)\u001b[0m\u001b[0;34m\u001b[0m\u001b[0m\n\u001b[0m\u001b[1;32m    168\u001b[0m \u001b[0;34m\u001b[0m\u001b[0m\n\u001b[1;32m    169\u001b[0m     \u001b[0;32mdef\u001b[0m \u001b[0m_pop\u001b[0m\u001b[0;34m(\u001b[0m\u001b[0mself\u001b[0m\u001b[0;34m,\u001b[0m \u001b[0mlength\u001b[0m\u001b[0;34m)\u001b[0m\u001b[0;34m:\u001b[0m\u001b[0;34m\u001b[0m\u001b[0m\n",
        "\u001b[0;32m/Users/Ikkei/anaconda/lib/python2.7/site-packages/requests/packages/urllib3/response.pyc\u001b[0m in \u001b[0;36mread\u001b[0;34m(self, amt, decode_content, cache_content)\u001b[0m\n\u001b[1;32m    184\u001b[0m                 \u001b[0;32melse\u001b[0m\u001b[0;34m:\u001b[0m\u001b[0;34m\u001b[0m\u001b[0m\n\u001b[1;32m    185\u001b[0m                     \u001b[0mcache_content\u001b[0m \u001b[0;34m=\u001b[0m \u001b[0mFalse\u001b[0m\u001b[0;34m\u001b[0m\u001b[0m\n\u001b[0;32m--> 186\u001b[0;31m                     \u001b[0mdata\u001b[0m \u001b[0;34m=\u001b[0m \u001b[0mself\u001b[0m\u001b[0;34m.\u001b[0m\u001b[0m_fp\u001b[0m\u001b[0;34m.\u001b[0m\u001b[0mread\u001b[0m\u001b[0;34m(\u001b[0m\u001b[0mamt\u001b[0m\u001b[0;34m)\u001b[0m\u001b[0;34m\u001b[0m\u001b[0m\n\u001b[0m\u001b[1;32m    187\u001b[0m                     \u001b[0;32mif\u001b[0m \u001b[0mamt\u001b[0m \u001b[0;34m!=\u001b[0m \u001b[0;36m0\u001b[0m \u001b[0;32mand\u001b[0m \u001b[0;32mnot\u001b[0m \u001b[0mdata\u001b[0m\u001b[0;34m:\u001b[0m  \u001b[0;31m# Platform-specific: Buggy versions of Python.\u001b[0m\u001b[0;34m\u001b[0m\u001b[0m\n\u001b[1;32m    188\u001b[0m                         \u001b[0;31m# Close the connection when no data is returned\u001b[0m\u001b[0;34m\u001b[0m\u001b[0;34m\u001b[0m\u001b[0m\n",
        "\u001b[0;32m/Users/Ikkei/anaconda/lib/python2.7/httplib.pyc\u001b[0m in \u001b[0;36mread\u001b[0;34m(self, amt)\u001b[0m\n\u001b[1;32m    547\u001b[0m \u001b[0;34m\u001b[0m\u001b[0m\n\u001b[1;32m    548\u001b[0m         \u001b[0;32mif\u001b[0m \u001b[0mself\u001b[0m\u001b[0;34m.\u001b[0m\u001b[0mchunked\u001b[0m\u001b[0;34m:\u001b[0m\u001b[0;34m\u001b[0m\u001b[0m\n\u001b[0;32m--> 549\u001b[0;31m             \u001b[0;32mreturn\u001b[0m \u001b[0mself\u001b[0m\u001b[0;34m.\u001b[0m\u001b[0m_read_chunked\u001b[0m\u001b[0;34m(\u001b[0m\u001b[0mamt\u001b[0m\u001b[0;34m)\u001b[0m\u001b[0;34m\u001b[0m\u001b[0m\n\u001b[0m\u001b[1;32m    550\u001b[0m \u001b[0;34m\u001b[0m\u001b[0m\n\u001b[1;32m    551\u001b[0m         \u001b[0;32mif\u001b[0m \u001b[0mamt\u001b[0m \u001b[0;32mis\u001b[0m \u001b[0mNone\u001b[0m\u001b[0;34m:\u001b[0m\u001b[0;34m\u001b[0m\u001b[0m\n",
        "\u001b[0;32m/Users/Ikkei/anaconda/lib/python2.7/httplib.pyc\u001b[0m in \u001b[0;36m_read_chunked\u001b[0;34m(self, amt)\u001b[0m\n\u001b[1;32m    589\u001b[0m         \u001b[0;32mwhile\u001b[0m \u001b[0mTrue\u001b[0m\u001b[0;34m:\u001b[0m\u001b[0;34m\u001b[0m\u001b[0m\n\u001b[1;32m    590\u001b[0m             \u001b[0;32mif\u001b[0m \u001b[0mchunk_left\u001b[0m \u001b[0;32mis\u001b[0m \u001b[0mNone\u001b[0m\u001b[0;34m:\u001b[0m\u001b[0;34m\u001b[0m\u001b[0m\n\u001b[0;32m--> 591\u001b[0;31m                 \u001b[0mline\u001b[0m \u001b[0;34m=\u001b[0m \u001b[0mself\u001b[0m\u001b[0;34m.\u001b[0m\u001b[0mfp\u001b[0m\u001b[0;34m.\u001b[0m\u001b[0mreadline\u001b[0m\u001b[0;34m(\u001b[0m\u001b[0m_MAXLINE\u001b[0m \u001b[0;34m+\u001b[0m \u001b[0;36m1\u001b[0m\u001b[0;34m)\u001b[0m\u001b[0;34m\u001b[0m\u001b[0m\n\u001b[0m\u001b[1;32m    592\u001b[0m                 \u001b[0;32mif\u001b[0m \u001b[0mlen\u001b[0m\u001b[0;34m(\u001b[0m\u001b[0mline\u001b[0m\u001b[0;34m)\u001b[0m \u001b[0;34m>\u001b[0m \u001b[0m_MAXLINE\u001b[0m\u001b[0;34m:\u001b[0m\u001b[0;34m\u001b[0m\u001b[0m\n\u001b[1;32m    593\u001b[0m                     \u001b[0;32mraise\u001b[0m \u001b[0mLineTooLong\u001b[0m\u001b[0;34m(\u001b[0m\u001b[0;34m\"chunk size\"\u001b[0m\u001b[0;34m)\u001b[0m\u001b[0;34m\u001b[0m\u001b[0m\n",
        "\u001b[0;32m/Users/Ikkei/anaconda/lib/python2.7/socket.pyc\u001b[0m in \u001b[0;36mreadline\u001b[0;34m(self, size)\u001b[0m\n\u001b[1;32m    474\u001b[0m             \u001b[0;32mwhile\u001b[0m \u001b[0mTrue\u001b[0m\u001b[0;34m:\u001b[0m\u001b[0;34m\u001b[0m\u001b[0m\n\u001b[1;32m    475\u001b[0m                 \u001b[0;32mtry\u001b[0m\u001b[0;34m:\u001b[0m\u001b[0;34m\u001b[0m\u001b[0m\n\u001b[0;32m--> 476\u001b[0;31m                     \u001b[0mdata\u001b[0m \u001b[0;34m=\u001b[0m \u001b[0mself\u001b[0m\u001b[0;34m.\u001b[0m\u001b[0m_sock\u001b[0m\u001b[0;34m.\u001b[0m\u001b[0mrecv\u001b[0m\u001b[0;34m(\u001b[0m\u001b[0mself\u001b[0m\u001b[0;34m.\u001b[0m\u001b[0m_rbufsize\u001b[0m\u001b[0;34m)\u001b[0m\u001b[0;34m\u001b[0m\u001b[0m\n\u001b[0m\u001b[1;32m    477\u001b[0m                 \u001b[0;32mexcept\u001b[0m \u001b[0merror\u001b[0m\u001b[0;34m,\u001b[0m \u001b[0me\u001b[0m\u001b[0;34m:\u001b[0m\u001b[0;34m\u001b[0m\u001b[0m\n\u001b[1;32m    478\u001b[0m                     \u001b[0;32mif\u001b[0m \u001b[0me\u001b[0m\u001b[0;34m.\u001b[0m\u001b[0margs\u001b[0m\u001b[0;34m[\u001b[0m\u001b[0;36m0\u001b[0m\u001b[0;34m]\u001b[0m \u001b[0;34m==\u001b[0m \u001b[0mEINTR\u001b[0m\u001b[0;34m:\u001b[0m\u001b[0;34m\u001b[0m\u001b[0m\n",
        "\u001b[0;32m/Users/Ikkei/anaconda/lib/python2.7/ssl.pyc\u001b[0m in \u001b[0;36mrecv\u001b[0;34m(self, buflen, flags)\u001b[0m\n\u001b[1;32m    712\u001b[0m                     \u001b[0;34m\"non-zero flags not allowed in calls to recv() on %s\"\u001b[0m \u001b[0;34m%\u001b[0m\u001b[0;34m\u001b[0m\u001b[0m\n\u001b[1;32m    713\u001b[0m                     self.__class__)\n\u001b[0;32m--> 714\u001b[0;31m             \u001b[0;32mreturn\u001b[0m \u001b[0mself\u001b[0m\u001b[0;34m.\u001b[0m\u001b[0mread\u001b[0m\u001b[0;34m(\u001b[0m\u001b[0mbuflen\u001b[0m\u001b[0;34m)\u001b[0m\u001b[0;34m\u001b[0m\u001b[0m\n\u001b[0m\u001b[1;32m    715\u001b[0m         \u001b[0;32melse\u001b[0m\u001b[0;34m:\u001b[0m\u001b[0;34m\u001b[0m\u001b[0m\n\u001b[1;32m    716\u001b[0m             \u001b[0;32mreturn\u001b[0m \u001b[0mself\u001b[0m\u001b[0;34m.\u001b[0m\u001b[0m_sock\u001b[0m\u001b[0;34m.\u001b[0m\u001b[0mrecv\u001b[0m\u001b[0;34m(\u001b[0m\u001b[0mbuflen\u001b[0m\u001b[0;34m,\u001b[0m \u001b[0mflags\u001b[0m\u001b[0;34m)\u001b[0m\u001b[0;34m\u001b[0m\u001b[0m\n",
        "\u001b[0;32m/Users/Ikkei/anaconda/lib/python2.7/ssl.pyc\u001b[0m in \u001b[0;36mread\u001b[0;34m(self, len, buffer)\u001b[0m\n\u001b[1;32m    606\u001b[0m                 \u001b[0mv\u001b[0m \u001b[0;34m=\u001b[0m \u001b[0mself\u001b[0m\u001b[0;34m.\u001b[0m\u001b[0m_sslobj\u001b[0m\u001b[0;34m.\u001b[0m\u001b[0mread\u001b[0m\u001b[0;34m(\u001b[0m\u001b[0mlen\u001b[0m\u001b[0;34m,\u001b[0m \u001b[0mbuffer\u001b[0m\u001b[0;34m)\u001b[0m\u001b[0;34m\u001b[0m\u001b[0m\n\u001b[1;32m    607\u001b[0m             \u001b[0;32melse\u001b[0m\u001b[0;34m:\u001b[0m\u001b[0;34m\u001b[0m\u001b[0m\n\u001b[0;32m--> 608\u001b[0;31m                 \u001b[0mv\u001b[0m \u001b[0;34m=\u001b[0m \u001b[0mself\u001b[0m\u001b[0;34m.\u001b[0m\u001b[0m_sslobj\u001b[0m\u001b[0;34m.\u001b[0m\u001b[0mread\u001b[0m\u001b[0;34m(\u001b[0m\u001b[0mlen\u001b[0m \u001b[0;32mor\u001b[0m \u001b[0;36m1024\u001b[0m\u001b[0;34m)\u001b[0m\u001b[0;34m\u001b[0m\u001b[0m\n\u001b[0m\u001b[1;32m    609\u001b[0m             \u001b[0;32mreturn\u001b[0m \u001b[0mv\u001b[0m\u001b[0;34m\u001b[0m\u001b[0m\n\u001b[1;32m    610\u001b[0m         \u001b[0;32mexcept\u001b[0m \u001b[0mSSLError\u001b[0m \u001b[0;32mas\u001b[0m \u001b[0mx\u001b[0m\u001b[0;34m:\u001b[0m\u001b[0;34m\u001b[0m\u001b[0m\n",
        "\u001b[0;31mKeyboardInterrupt\u001b[0m: "
       ]
      }
     ],
     "prompt_number": 15
    },
    {
     "cell_type": "code",
     "collapsed": false,
     "input": [
      "#  Alternatively we can use tweepy.Cursor \n",
      "\n",
      "import tweepy\n",
      "import csv\n",
      "\n",
      "auth = OAuthHandler(CONSUMER_KEY, CONSUMER_SECRET)\n",
      "auth.set_access_token(ACCESS_TOKEN, ACCESS_SECRET)\n",
      "api = tweepy.API(auth)\n",
      "\n",
      "# a means append to the existing file\n",
      "# w means create a new file everytime\n",
      "csvFile = open('tweets.csv', 'a')\n",
      "csvWriter = csv.writer(csvFile)\n",
      "\n",
      "for tweet in tweepy.Cursor(api.search, q=\"silkroad\", count=100000).items(100000):\n",
      "    \n",
      "    #tweet.text=tweet.text.replace(\",\",'')\n",
      "    if tweet.geo !=None and \"[0.0, 0.0]\" not in str(tweet.geo):\n",
      "#         print [tweet.created_at, tweet.text, tweet.user.id, tweet.geo]\n",
      "        csvWriter.writerow([tweet.created_at, tweet.text.encode('utf-8'), tweet.geo])\n",
      "    \n",
      "csvFile.close()"
     ],
     "language": "python",
     "metadata": {},
     "outputs": [],
     "prompt_number": 18
    },
    {
     "cell_type": "code",
     "collapsed": false,
     "input": [
      "import pandas as pd"
     ],
     "language": "python",
     "metadata": {},
     "outputs": [],
     "prompt_number": 19
    },
    {
     "cell_type": "code",
     "collapsed": false,
     "input": [
      "data = pd.read_csv(\"tweets.csv\")\n",
      "data.columns=['DateTime','Tweet','Geo']"
     ],
     "language": "python",
     "metadata": {},
     "outputs": [],
     "prompt_number": 20
    },
    {
     "cell_type": "code",
     "collapsed": false,
     "input": [
      "data.head()"
     ],
     "language": "python",
     "metadata": {},
     "outputs": [
      {
       "html": [
        "<div style=\"max-height:1000px;max-width:1500px;overflow:auto;\">\n",
        "<table border=\"1\" class=\"dataframe\">\n",
        "  <thead>\n",
        "    <tr style=\"text-align: right;\">\n",
        "      <th></th>\n",
        "      <th>DateTime</th>\n",
        "      <th>Tweet</th>\n",
        "      <th>Geo</th>\n",
        "    </tr>\n",
        "  </thead>\n",
        "  <tbody>\n",
        "    <tr>\n",
        "      <th>0</th>\n",
        "      <td> 2015-02-06 06:15:20</td>\n",
        "      <td> A little #cremafilter action on an caldwell4pr...</td>\n",
        "      <td> {u'type': u'Point', u'coordinates': [34.201768...</td>\n",
        "    </tr>\n",
        "    <tr>\n",
        "      <th>1</th>\n",
        "      <td> 2015-02-05 11:12:26</td>\n",
        "      <td> @juanmilleiro SilkRoad 2.0 http://silkroad6own...</td>\n",
        "      <td> {u'type': u'Point', u'coordinates': [42.849696...</td>\n",
        "    </tr>\n",
        "    <tr>\n",
        "      <th>2</th>\n",
        "      <td> 2015-02-05 05:31:16</td>\n",
        "      <td>                           silkroad &amp;gt; runescape</td>\n",
        "      <td> {u'type': u'Point', u'coordinates': [36.886135...</td>\n",
        "    </tr>\n",
        "    <tr>\n",
        "      <th>3</th>\n",
        "      <td> 2015-02-04 23:35:53</td>\n",
        "      <td> Coming soon...#SilkRoad the movie. I would wat...</td>\n",
        "      <td> {u'type': u'Point', u'coordinates': [25.953390...</td>\n",
        "    </tr>\n",
        "    <tr>\n",
        "      <th>4</th>\n",
        "      <td> 2015-02-04 23:28:25</td>\n",
        "      <td> MT @xeni: #SilkRoad trial for #RossUlbricht la...</td>\n",
        "      <td> {u'type': u'Point', u'coordinates': [41.555770...</td>\n",
        "    </tr>\n",
        "  </tbody>\n",
        "</table>\n",
        "</div>"
       ],
       "metadata": {},
       "output_type": "pyout",
       "prompt_number": 21,
       "text": [
        "              DateTime                                              Tweet  \\\n",
        "0  2015-02-06 06:15:20  A little #cremafilter action on an caldwell4pr...   \n",
        "1  2015-02-05 11:12:26  @juanmilleiro SilkRoad 2.0 http://silkroad6own...   \n",
        "2  2015-02-05 05:31:16                            silkroad &gt; runescape   \n",
        "3  2015-02-04 23:35:53  Coming soon...#SilkRoad the movie. I would wat...   \n",
        "4  2015-02-04 23:28:25  MT @xeni: #SilkRoad trial for #RossUlbricht la...   \n",
        "\n",
        "                                                 Geo  \n",
        "0  {u'type': u'Point', u'coordinates': [34.201768...  \n",
        "1  {u'type': u'Point', u'coordinates': [42.849696...  \n",
        "2  {u'type': u'Point', u'coordinates': [36.886135...  \n",
        "3  {u'type': u'Point', u'coordinates': [25.953390...  \n",
        "4  {u'type': u'Point', u'coordinates': [41.555770...  "
       ]
      }
     ],
     "prompt_number": 21
    },
    {
     "cell_type": "code",
     "collapsed": false,
     "input": [
      "for i in data.index:\n",
      "    data.Geo[i]=data.Geo[i].replace(\"'type': u'Point', u'coordinates':\",'')\n",
      "    data.Geo[i]=data.Geo[i].replace(\"{u\",'')\n",
      "    data.Geo[i]=data.Geo[i].replace(\"}\",'')\n",
      "\n",
      "data.head()"
     ],
     "language": "python",
     "metadata": {},
     "outputs": [
      {
       "html": [
        "<div style=\"max-height:1000px;max-width:1500px;overflow:auto;\">\n",
        "<table border=\"1\" class=\"dataframe\">\n",
        "  <thead>\n",
        "    <tr style=\"text-align: right;\">\n",
        "      <th></th>\n",
        "      <th>DateTime</th>\n",
        "      <th>Tweet</th>\n",
        "      <th>Geo</th>\n",
        "    </tr>\n",
        "  </thead>\n",
        "  <tbody>\n",
        "    <tr>\n",
        "      <th>0</th>\n",
        "      <td> 2015-02-06 06:15:20</td>\n",
        "      <td> A little #cremafilter action on an caldwell4pr...</td>\n",
        "      <td>   [34.2017685, -118.9846123]</td>\n",
        "    </tr>\n",
        "    <tr>\n",
        "      <th>1</th>\n",
        "      <td> 2015-02-05 11:12:26</td>\n",
        "      <td> @juanmilleiro SilkRoad 2.0 http://silkroad6own...</td>\n",
        "      <td>   [42.84969628, -8.58185006]</td>\n",
        "    </tr>\n",
        "    <tr>\n",
        "      <th>2</th>\n",
        "      <td> 2015-02-05 05:31:16</td>\n",
        "      <td>                           silkroad &amp;gt; runescape</td>\n",
        "      <td>  [36.88613584, -76.31516634]</td>\n",
        "    </tr>\n",
        "    <tr>\n",
        "      <th>3</th>\n",
        "      <td> 2015-02-04 23:35:53</td>\n",
        "      <td> Coming soon...#SilkRoad the movie. I would wat...</td>\n",
        "      <td>  [25.95339033, -80.12900401]</td>\n",
        "    </tr>\n",
        "    <tr>\n",
        "      <th>4</th>\n",
        "      <td> 2015-02-04 23:28:25</td>\n",
        "      <td> MT @xeni: #SilkRoad trial for #RossUlbricht la...</td>\n",
        "      <td>   [41.5557703, -87.68210372]</td>\n",
        "    </tr>\n",
        "  </tbody>\n",
        "</table>\n",
        "</div>"
       ],
       "metadata": {},
       "output_type": "pyout",
       "prompt_number": 22,
       "text": [
        "              DateTime                                              Tweet  \\\n",
        "0  2015-02-06 06:15:20  A little #cremafilter action on an caldwell4pr...   \n",
        "1  2015-02-05 11:12:26  @juanmilleiro SilkRoad 2.0 http://silkroad6own...   \n",
        "2  2015-02-05 05:31:16                            silkroad &gt; runescape   \n",
        "3  2015-02-04 23:35:53  Coming soon...#SilkRoad the movie. I would wat...   \n",
        "4  2015-02-04 23:28:25  MT @xeni: #SilkRoad trial for #RossUlbricht la...   \n",
        "\n",
        "                            Geo  \n",
        "0    [34.2017685, -118.9846123]  \n",
        "1    [42.84969628, -8.58185006]  \n",
        "2   [36.88613584, -76.31516634]  \n",
        "3   [25.95339033, -80.12900401]  \n",
        "4    [41.5557703, -87.68210372]  "
       ]
      }
     ],
     "prompt_number": 22
    },
    {
     "cell_type": "code",
     "collapsed": false,
     "input": [
      "import folium\n",
      "from IPython.display import HTML\n",
      "\n",
      "latitude=\"42.84969628\"\n",
      "longitude=\"-8.58185006\"\n",
      "\n",
      "# Establish a map centered at lat/long, set \"tiles\" and zoom levels\n",
      "map_ourmap = folium.Map(location=[latitude, longitude], \n",
      "                        zoom_start=13, \n",
      "                        tiles=\"Stamen Toner\")\n",
      "\n",
      "# Create circle marker around it.  Try map_ourmap? for additional functions in the \"Map\" class\n",
      "map_ourmap.circle_marker(location=[latitude,longitude], \n",
      "                         radius=500, \n",
      "                         fill_opacity=0.2, \n",
      "                         fill_color='#3186cc')\n",
      "\n",
      "# Make the map!\n",
      "map_ourmap.create_map(path='ourmap.html')\n",
      "\n",
      "# Display the map inline\n",
      "HTML('<iframe src=ourmap.html width=800 height = 500><iframe>')"
     ],
     "language": "python",
     "metadata": {},
     "outputs": [
      {
       "html": [
        "<iframe src=ourmap.html width=800 height = 500><iframe>"
       ],
       "metadata": {},
       "output_type": "pyout",
       "prompt_number": 23,
       "text": [
        "<IPython.core.display.HTML at 0x107fcf410>"
       ]
      }
     ],
     "prompt_number": 23
    },
    {
     "cell_type": "code",
     "collapsed": false,
     "input": [],
     "language": "python",
     "metadata": {},
     "outputs": []
    }
   ],
   "metadata": {}
  }
 ]
}