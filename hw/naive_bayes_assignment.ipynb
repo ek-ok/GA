{
 "metadata": {
  "name": "",
  "signature": "sha256:ecfcbeca902ba863b62caa2723cfcb59ab1a0c268dc32cbdc71fbc4d8e65dcb8"
 },
 "nbformat": 3,
 "nbformat_minor": 0,
 "worksheets": [
  {
   "cells": [
    {
     "cell_type": "code",
     "collapsed": false,
     "input": [
      "from sklearn import feature_extraction\n",
      "import pandas as pd\n",
      "import matplotlib.pyplot as plt\n",
      "from sklearn import naive_bayes\n",
      "from sklearn import cross_validation\n",
      "import numpy as np\n",
      "import nltk\n",
      "from nltk.corpus import stopwords\n",
      "from nltk.stem.porter import *"
     ],
     "language": "python",
     "metadata": {},
     "outputs": [],
     "prompt_number": 1
    },
    {
     "cell_type": "markdown",
     "metadata": {},
     "source": [
      "# Load data into df"
     ]
    },
    {
     "cell_type": "code",
     "collapsed": false,
     "input": [
      "df_org = pd.read_csv('/Users/Ikkei/data-analysis/DAT18NYC/data/rt_critics.csv')"
     ],
     "language": "python",
     "metadata": {},
     "outputs": [],
     "prompt_number": 2
    },
    {
     "cell_type": "code",
     "collapsed": false,
     "input": [
      "df = df_org"
     ],
     "language": "python",
     "metadata": {},
     "outputs": [],
     "prompt_number": 3
    },
    {
     "cell_type": "code",
     "collapsed": false,
     "input": [
      "# Convert fresh to int\n",
      "df['rating'] = (df.fresh == 'fresh').values.astype(int)"
     ],
     "language": "python",
     "metadata": {},
     "outputs": [],
     "prompt_number": 4
    },
    {
     "cell_type": "code",
     "collapsed": false,
     "input": [
      "# Remove the rows with none\n",
      "\n",
      "print'Bef: ', df.fresh.unique()\n",
      "\n",
      "df = df[df.fresh != 'none']\n",
      "df.reset_index(inplace=True)\n",
      "\n",
      "print 'Aft: ', df.fresh.unique()"
     ],
     "language": "python",
     "metadata": {},
     "outputs": [
      {
       "output_type": "stream",
       "stream": "stdout",
       "text": [
        "Bef:  ['fresh' 'rotten' 'none']\n",
        "Aft:  ['fresh' 'rotten']\n"
       ]
      }
     ],
     "prompt_number": 5
    },
    {
     "cell_type": "code",
     "collapsed": false,
     "input": [
      "df.head()"
     ],
     "language": "python",
     "metadata": {},
     "outputs": [
      {
       "html": [
        "<div style=\"max-height:1000px;max-width:1500px;overflow:auto;\">\n",
        "<table border=\"1\" class=\"dataframe\">\n",
        "  <thead>\n",
        "    <tr style=\"text-align: right;\">\n",
        "      <th></th>\n",
        "      <th>index</th>\n",
        "      <th>critic</th>\n",
        "      <th>fresh</th>\n",
        "      <th>imdb</th>\n",
        "      <th>publication</th>\n",
        "      <th>quote</th>\n",
        "      <th>review_date</th>\n",
        "      <th>rtid</th>\n",
        "      <th>title</th>\n",
        "      <th>rating</th>\n",
        "    </tr>\n",
        "  </thead>\n",
        "  <tbody>\n",
        "    <tr>\n",
        "      <th>0</th>\n",
        "      <td> 0</td>\n",
        "      <td>        Derek Adams</td>\n",
        "      <td> fresh</td>\n",
        "      <td> 114709</td>\n",
        "      <td>       Time Out</td>\n",
        "      <td> So ingenious in concept, design and execution ...</td>\n",
        "      <td> 2009-10-04</td>\n",
        "      <td> 9559</td>\n",
        "      <td> Toy story</td>\n",
        "      <td> 1</td>\n",
        "    </tr>\n",
        "    <tr>\n",
        "      <th>1</th>\n",
        "      <td> 1</td>\n",
        "      <td>    Richard Corliss</td>\n",
        "      <td> fresh</td>\n",
        "      <td> 114709</td>\n",
        "      <td>  TIME Magazine</td>\n",
        "      <td>                 The year's most inventive comedy.</td>\n",
        "      <td> 2008-08-31</td>\n",
        "      <td> 9559</td>\n",
        "      <td> Toy story</td>\n",
        "      <td> 1</td>\n",
        "    </tr>\n",
        "    <tr>\n",
        "      <th>2</th>\n",
        "      <td> 2</td>\n",
        "      <td>        David Ansen</td>\n",
        "      <td> fresh</td>\n",
        "      <td> 114709</td>\n",
        "      <td>       Newsweek</td>\n",
        "      <td> A winning animated feature that has something ...</td>\n",
        "      <td> 2008-08-18</td>\n",
        "      <td> 9559</td>\n",
        "      <td> Toy story</td>\n",
        "      <td> 1</td>\n",
        "    </tr>\n",
        "    <tr>\n",
        "      <th>3</th>\n",
        "      <td> 3</td>\n",
        "      <td>      Leonard Klady</td>\n",
        "      <td> fresh</td>\n",
        "      <td> 114709</td>\n",
        "      <td>        Variety</td>\n",
        "      <td> The film sports a provocative and appealing st...</td>\n",
        "      <td> 2008-06-09</td>\n",
        "      <td> 9559</td>\n",
        "      <td> Toy story</td>\n",
        "      <td> 1</td>\n",
        "    </tr>\n",
        "    <tr>\n",
        "      <th>4</th>\n",
        "      <td> 4</td>\n",
        "      <td> Jonathan Rosenbaum</td>\n",
        "      <td> fresh</td>\n",
        "      <td> 114709</td>\n",
        "      <td> Chicago Reader</td>\n",
        "      <td> An entertaining computer-generated, hyperreali...</td>\n",
        "      <td> 2008-03-10</td>\n",
        "      <td> 9559</td>\n",
        "      <td> Toy story</td>\n",
        "      <td> 1</td>\n",
        "    </tr>\n",
        "  </tbody>\n",
        "</table>\n",
        "</div>"
       ],
       "metadata": {},
       "output_type": "pyout",
       "prompt_number": 6,
       "text": [
        "   index              critic  fresh    imdb     publication  \\\n",
        "0      0         Derek Adams  fresh  114709        Time Out   \n",
        "1      1     Richard Corliss  fresh  114709   TIME Magazine   \n",
        "2      2         David Ansen  fresh  114709        Newsweek   \n",
        "3      3       Leonard Klady  fresh  114709         Variety   \n",
        "4      4  Jonathan Rosenbaum  fresh  114709  Chicago Reader   \n",
        "\n",
        "                                               quote review_date  rtid  \\\n",
        "0  So ingenious in concept, design and execution ...  2009-10-04  9559   \n",
        "1                  The year's most inventive comedy.  2008-08-31  9559   \n",
        "2  A winning animated feature that has something ...  2008-08-18  9559   \n",
        "3  The film sports a provocative and appealing st...  2008-06-09  9559   \n",
        "4  An entertaining computer-generated, hyperreali...  2008-03-10  9559   \n",
        "\n",
        "       title  rating  \n",
        "0  Toy story       1  \n",
        "1  Toy story       1  \n",
        "2  Toy story       1  \n",
        "3  Toy story       1  \n",
        "4  Toy story       1  "
       ]
      }
     ],
     "prompt_number": 6
    },
    {
     "cell_type": "markdown",
     "metadata": {},
     "source": [
      "# 1. Consider feature selection here: we haven't dropped a single feature! How could we evaluate this process? (check out `f_classif`)"
     ]
    },
    {
     "cell_type": "code",
     "collapsed": false,
     "input": [
      "vec = CountVectorizer(ngram_range=(1,2))\n",
      "\n",
      "x = vec.fit_transform(df.quote)\n",
      "y = df.rating\n",
      "\n",
      "selected_x = []\n",
      "selected_y = []\n",
      "\n",
      "for matrix, idx in enumerate(x):\n",
      "    fval, pval = feature_selection.f_classif(matrix, y[idx])\n",
      "    for p in pvals:\n",
      "        if p < 0.05:\n",
      "            selected_x.append(matrix)\n",
      "            selected_y.append(y[idx])\n",
      "            \n",
      "# could not figure out..."
     ],
     "language": "python",
     "metadata": {},
     "outputs": []
    },
    {
     "cell_type": "markdown",
     "metadata": {},
     "source": [
      "# kfold_train_and_measure"
     ]
    },
    {
     "cell_type": "code",
     "collapsed": false,
     "input": [
      "def kfold_train_and_measure(classifier, x, y):\n",
      "\n",
      "    kfold = cross_validation.KFold(n=x.shape[0], n_folds=5, shuffle=True, random_state=1234)\n",
      "\n",
      "    train_acc = []\n",
      "    test_acc = []\n",
      "\n",
      "\n",
      "    for train_index, test_index in kfold:\n",
      "        clf = classifier.fit(x[train_index], y[train_index])\n",
      "        train_acc.append(clf.score(x[train_index], y[train_index]))\n",
      "        test_acc.append(clf.score(x[test_index], y[test_index]))\n",
      "\n",
      "    return np.array(train_acc).mean(), np.array(test_acc).mean()"
     ],
     "language": "python",
     "metadata": {},
     "outputs": [],
     "prompt_number": 29
    },
    {
     "cell_type": "code",
     "collapsed": false,
     "input": [
      "def drange(start, stop, step):\n",
      "    \"\"\"\n",
      "    xrange like function but takes fraction for step\n",
      "    \"\"\"\n",
      "    x = start\n",
      "    while x < stop:\n",
      "        yield x\n",
      "        x += step"
     ],
     "language": "python",
     "metadata": {},
     "outputs": [],
     "prompt_number": 30
    },
    {
     "cell_type": "markdown",
     "metadata": {},
     "source": [
      "# Hyperparameter tuneing"
     ]
    },
    {
     "cell_type": "markdown",
     "metadata": {},
     "source": [
      "## MultinomialNB\n",
      ">### Using Unigram"
     ]
    },
    {
     "cell_type": "code",
     "collapsed": false,
     "input": [
      "vec = feature_extraction.text.CountVectorizer(ngram_range=(1,1))\n",
      "x = vec.fit_transform(df.quote)\n",
      "y = df.rating\n",
      "\n",
      "alphas = []\n",
      "train_accs = []\n",
      "test_accs = []\n",
      "\n",
      "for alpha in drange(0.01, 2, 0.01):\n",
      "        train_acc, test_acc = kfold_train_and_measure(naive_bayes.MultinomialNB(alpha), x, y)\n",
      "        alphas.append(alpha)\n",
      "        train_accs.append(train_acc)\n",
      "        test_accs.append(test_acc)\n",
      "\n",
      "        \n",
      "max_test_score = max(test_accs)\n",
      "        \n",
      "print 'Max test_accs: ', max_test_score\n",
      "print 'Best alpha: ', alphas[test_accs.index(max_test_score)]\n",
      "        \n",
      "plt.figure()\n",
      "plt.plot(alphas, test_accs)\n",
      "plt.plot(alphas, train_accs)"
     ],
     "language": "python",
     "metadata": {},
     "outputs": [
      {
       "output_type": "stream",
       "stream": "stdout",
       "text": [
        "Max test_accs:  0.778347051736\n",
        "Best alpha:  0.76\n"
       ]
      },
      {
       "metadata": {},
       "output_type": "pyout",
       "prompt_number": 11,
       "text": [
        "[<matplotlib.lines.Line2D at 0x19465a58>]"
       ]
      },
      {
       "metadata": {},
       "output_type": "display_data",
       "png": "[encoded data removed]",
       "text": [
        "<matplotlib.figure.Figure at 0x17f01588>"
       ]
      }
     ],
     "prompt_number": 11
    },
    {
     "cell_type": "markdown",
     "metadata": {},
     "source": [
      "## MultinomialNB\n",
      ">### Using bygram"
     ]
    },
    {
     "cell_type": "code",
     "collapsed": false,
     "input": [
      "vec = feature_extraction.text.CountVectorizer(ngram_range=(1,2))\n",
      "x = vec.fit_transform(df.quote)\n",
      "y = df.rating\n",
      "\n",
      "alphas = []\n",
      "train_accs = []\n",
      "test_accs = []\n",
      "\n",
      "for alpha in drange(0.01, 2, 0.01):\n",
      "        train_acc, test_acc = kfold_train_and_measure(naive_bayes.MultinomialNB(alpha), x, y)\n",
      "        alphas.append(alpha)\n",
      "        train_accs.append(train_acc)\n",
      "        test_accs.append(test_acc)\n",
      "\n",
      "        \n",
      "max_test_score = max(test_accs)\n",
      "        \n",
      "print 'Max test_accs: ', max_test_score\n",
      "print 'Best alpha: ', alphas[test_accs.index(max_test_score)]\n",
      "        \n",
      "plt.figure()\n",
      "plt.plot(alphas, test_accs)\n",
      "plt.plot(alphas, train_accs)"
     ],
     "language": "python",
     "metadata": {},
     "outputs": [
      {
       "output_type": "stream",
       "stream": "stdout",
       "text": [
        "Max test_accs:  0.776710750524\n",
        "Best alpha:  0.94\n"
       ]
      },
      {
       "metadata": {},
       "output_type": "pyout",
       "prompt_number": 13,
       "text": [
        "[<matplotlib.lines.Line2D at 0x1f0524e0>]"
       ]
      },
      {
       "metadata": {},
       "output_type": "display_data",
       "png": "[encoded data removed]",
       "text": [
        "<matplotlib.figure.Figure at 0x199574e0>"
       ]
      }
     ],
     "prompt_number": 13
    },
    {
     "cell_type": "markdown",
     "metadata": {},
     "source": [
      "## BernoulliNB\n",
      ">### Using Unigram"
     ]
    },
    {
     "cell_type": "code",
     "collapsed": false,
     "input": [
      "vec = feature_extraction.text.CountVectorizer(ngram_range=(1,1))\n",
      "x = vec.fit_transform(df.quote)\n",
      "y = df.rating\n",
      "\n",
      "alphas = []\n",
      "train_accs = []\n",
      "test_accs = []\n",
      "\n",
      "x_ones = (x > 1)\n",
      "\n",
      "for alpha in drange(0.01, 2, 0.01):\n",
      "        train_acc, test_acc = kfold_train_and_measure(naive_bayes.BernoulliNB(alpha), x_ones, y)\n",
      "        alphas.append(alpha)\n",
      "        train_accs.append(train_acc)\n",
      "        test_accs.append(test_acc)\n",
      "\n",
      "max_test_score = max(test_accs)\n",
      "\n",
      "print 'Max test_accs: ', max_test_score\n",
      "print 'Best alpha: ', alphas[test_accs.index(max_test_score)]\n",
      "\n",
      "plt.figure()\n",
      "plt.plot(alphas, test_accs)\n",
      "plt.plot(alphas, train_accs)"
     ],
     "language": "python",
     "metadata": {},
     "outputs": [
      {
       "output_type": "stream",
       "stream": "stdout",
       "text": [
        "Max test_accs:  0.615631859465\n",
        "Best alpha:  0.15\n"
       ]
      },
      {
       "metadata": {},
       "output_type": "pyout",
       "prompt_number": 14,
       "text": [
        "[<matplotlib.lines.Line2D at 0x194532e8>]"
       ]
      },
      {
       "metadata": {},
       "output_type": "display_data",
       "png": "[encoded data removed]",
       "text": [
        "<matplotlib.figure.Figure at 0x181805c0>"
       ]
      }
     ],
     "prompt_number": 14
    },
    {
     "cell_type": "markdown",
     "metadata": {},
     "source": [
      "## BernoulliNB\n",
      ">### Using bygram"
     ]
    },
    {
     "cell_type": "code",
     "collapsed": false,
     "input": [
      "vec = feature_extraction.text.CountVectorizer(ngram_range=(1,2))\n",
      "x = vec.fit_transform(df.quote)\n",
      "y = df.rating\n",
      "\n",
      "alphas = []\n",
      "train_accs = []\n",
      "test_accs = []\n",
      "\n",
      "x_ones = (x > 1)\n",
      "\n",
      "for alpha in drange(0.01, 2, 0.01):\n",
      "        train_acc, test_acc = kfold_train_and_measure(naive_bayes.BernoulliNB(alpha), x_ones, y)\n",
      "        alphas.append(alpha)\n",
      "        train_accs.append(train_acc)\n",
      "        test_accs.append(test_acc)\n",
      "\n",
      "max_test_score = max(test_accs)\n",
      "\n",
      "print 'Max test_accs: ', max_test_score\n",
      "print 'Best alpha: ', alphas[test_accs.index(max_test_score)]\n",
      "\n",
      "plt.figure()\n",
      "plt.plot(alphas, test_accs)\n",
      "plt.plot(alphas, train_accs)"
     ],
     "language": "python",
     "metadata": {},
     "outputs": [
      {
       "output_type": "stream",
       "stream": "stdout",
       "text": [
        "Max test_accs:  0.614848941316\n",
        "Best alpha:  0.02\n"
       ]
      },
      {
       "metadata": {},
       "output_type": "pyout",
       "prompt_number": 15,
       "text": [
        "[<matplotlib.lines.Line2D at 0x18507e10>]"
       ]
      },
      {
       "metadata": {},
       "output_type": "display_data",
       "png": "[encoded data removed]",
       "text": [
        "<matplotlib.figure.Figure at 0x19463e80>"
       ]
      }
     ],
     "prompt_number": 15
    },
    {
     "cell_type": "markdown",
     "metadata": {},
     "source": [
      "## Result\n",
      "- Best algo was **MultinomialNB with unigram**\n",
      "- Accuracy: 0.78\n",
      "- Alpha: 0.76\n",
      "- Removing \"none\" from fresh **increased accuracy** from 0.76 (what we got in class) to 0.78\n",
      "- Let's see if I can do better!"
     ]
    },
    {
     "cell_type": "markdown",
     "metadata": {},
     "source": [
      "# 2. Last class we experiments with nltk and the part of speach tagger. Consider replacing words with parts of speach instead (using the default tagger), or other text processing tools "
     ]
    },
    {
     "cell_type": "markdown",
     "metadata": {},
     "source": [
      "# Remove stop words, stemmers, and movie names"
     ]
    },
    {
     "cell_type": "code",
     "collapsed": false,
     "input": [
      "movies = df.title.unique()\n",
      "stemmer = PorterStemmer()\n",
      "\n",
      "def remove_stopwords_stemmers_movie_names(txt):\n",
      "    \n",
      "    #remove movie names\n",
      "    for movie in movies:\n",
      "        txt = txt.replace(movie, '')\n",
      "    \n",
      "    tokens = nltk.word_tokenize(txt)\n",
      "    tokens = [stemmer.stem(w) for w in tokens if w not in stopwords.words('english')]\n",
      "    \n",
      "    return ' '.join(tokens)\n",
      "\n",
      "df['quote_clean'] = df.quote.apply(remove_stopwords_stemmers_movie_names)"
     ],
     "language": "python",
     "metadata": {},
     "outputs": [],
     "prompt_number": 35
    },
    {
     "cell_type": "markdown",
     "metadata": {},
     "source": [
      "### Test with MultinomialNB and unigram"
     ]
    },
    {
     "cell_type": "code",
     "collapsed": false,
     "input": [
      "vec = feature_extraction.text.CountVectorizer(ngram_range=(1,1))\n",
      "x = vec.fit_transform(df.quote_clean)\n",
      "y = df.rating\n",
      "\n",
      "alphas = []\n",
      "train_accs = []\n",
      "test_accs = []\n",
      "\n",
      "for alpha in drange(0.01, 2, 0.01):\n",
      "        train_acc, test_acc = kfold_train_and_measure(naive_bayes.MultinomialNB(alpha), x, y)\n",
      "        alphas.append(alpha)\n",
      "        train_accs.append(train_acc)\n",
      "        test_accs.append(test_acc)\n",
      "\n",
      "        \n",
      "max_test_score = max(test_accs)\n",
      "        \n",
      "print 'Max test_accs: ', max_test_score\n",
      "print 'Best alpha: ', alphas[test_accs.index(max_test_score)]\n",
      "        \n",
      "plt.figure()\n",
      "plt.plot(alphas, test_accs)\n",
      "plt.plot(alphas, train_accs)"
     ],
     "language": "python",
     "metadata": {},
     "outputs": [
      {
       "output_type": "stream",
       "stream": "stdout",
       "text": [
        "Max test_accs:  0.769165075653\n",
        "Best alpha:  1.23\n"
       ]
      },
      {
       "metadata": {},
       "output_type": "pyout",
       "prompt_number": 38,
       "text": [
        "[<matplotlib.lines.Line2D at 0x18e3bc18>]"
       ]
      },
      {
       "metadata": {},
       "output_type": "display_data",
       "png": "[encoded data removed]",
       "text": [
        "<matplotlib.figure.Figure at 0x19582198>"
       ]
      }
     ],
     "prompt_number": 38
    },
    {
     "cell_type": "markdown",
     "metadata": {},
     "source": [
      "### Result\n",
      "- Despite alot of work and thinking, **accuracy went down** from 0.778 to 0.769!\n",
      "- It is possible that there is a relationship between movie names in quotes and rating"
     ]
    },
    {
     "cell_type": "markdown",
     "metadata": {},
     "source": [
      "# 3. What else is in the quote that we could identify and replace more easily?"
     ]
    },
    {
     "cell_type": "markdown",
     "metadata": {},
     "source": [
      "- Removed stemmers and movie names but not good impact"
     ]
    },
    {
     "cell_type": "markdown",
     "metadata": {},
     "source": [
      "# Part of speach tagger"
     ]
    },
    {
     "cell_type": "markdown",
     "metadata": {},
     "source": [
      "Wanted to try this but did not have time to finish..."
     ]
    },
    {
     "cell_type": "code",
     "collapsed": false,
     "input": [
      "text = nltk.word_tokenize(df.loc[5, 'quote'])\n",
      "nltk.pos_tag(text)"
     ],
     "language": "python",
     "metadata": {},
     "outputs": [
      {
       "metadata": {},
       "output_type": "pyout",
       "prompt_number": 50,
       "text": [
        "[('As', 'IN'),\n",
        " ('Lion', 'NNP'),\n",
        " ('King', 'NNP'),\n",
        " ('did', 'VBD'),\n",
        " ('before', 'IN'),\n",
        " ('it', 'PRP'),\n",
        " (',', ','),\n",
        " ('Toy', 'NNP'),\n",
        " ('Story', 'NNP'),\n",
        " ('revived', 'VBD'),\n",
        " ('the', 'DT'),\n",
        " ('art', 'NN'),\n",
        " ('of', 'IN'),\n",
        " ('American', 'JJ'),\n",
        " ('children', 'NNS'),\n",
        " (\"'s\", 'POS'),\n",
        " ('animation', 'NN'),\n",
        " (',', ','),\n",
        " ('and', 'CC'),\n",
        " ('ushered', 'VBD'),\n",
        " ('in', 'RP'),\n",
        " ('a', 'DT'),\n",
        " ('set', 'NN'),\n",
        " ('of', 'IN'),\n",
        " ('smart', 'NN'),\n",
        " ('movies', 'NNS'),\n",
        " ('that', 'WDT'),\n",
        " ('entertained', 'VBN'),\n",
        " ('children', 'NNS'),\n",
        " ('and', 'CC'),\n",
        " ('their', 'PRP$'),\n",
        " ('parents', 'NNS'),\n",
        " ('.', '.'),\n",
        " ('It', 'PRP'),\n",
        " (\"'s\", 'VBZ'),\n",
        " ('a', 'DT'),\n",
        " ('landmark', 'NN'),\n",
        " ('movie', 'NN'),\n",
        " (',', ','),\n",
        " ('and', 'CC'),\n",
        " ('does', 'VBZ'),\n",
        " (\"n't\", 'RB'),\n",
        " ('get', 'VB'),\n",
        " ('old', 'JJ'),\n",
        " ('with', 'IN'),\n",
        " ('frequent', 'NN'),\n",
        " ('repetition', 'NN'),\n",
        " ('.', '.')]"
       ]
      }
     ],
     "prompt_number": 50
    },
    {
     "cell_type": "code",
     "collapsed": false,
     "input": [],
     "language": "python",
     "metadata": {},
     "outputs": []
    }
   ],
   "metadata": {}
  }
 ]
}